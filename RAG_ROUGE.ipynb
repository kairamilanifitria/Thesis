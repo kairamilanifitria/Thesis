{
  "nbformat": 4,
  "nbformat_minor": 0,
  "metadata": {
    "colab": {
      "provenance": []
    },
    "kernelspec": {
      "name": "python3",
      "display_name": "Python 3"
    },
    "language_info": {
      "name": "python"
    },
    "widgets": {
      "application/vnd.jupyter.widget-state+json": {
        "c4ddedf2db4842f5977c2ae0bcd909c6": {
          "model_module": "@jupyter-widgets/controls",
          "model_name": "HBoxModel",
          "model_module_version": "1.5.0",
          "state": {
            "_dom_classes": [],
            "_model_module": "@jupyter-widgets/controls",
            "_model_module_version": "1.5.0",
            "_model_name": "HBoxModel",
            "_view_count": null,
            "_view_module": "@jupyter-widgets/controls",
            "_view_module_version": "1.5.0",
            "_view_name": "HBoxView",
            "box_style": "",
            "children": [
              "IPY_MODEL_a38424d4b3cb49cd85cbb739e365fd65",
              "IPY_MODEL_4336275bdc334326abee6fcf78073b50",
              "IPY_MODEL_a51ccd274fac47b5a34e213a742bf5c5"
            ],
            "layout": "IPY_MODEL_90c864f2be4346ba9fdfcf6e5ecbf00f"
          }
        },
        "a38424d4b3cb49cd85cbb739e365fd65": {
          "model_module": "@jupyter-widgets/controls",
          "model_name": "HTMLModel",
          "model_module_version": "1.5.0",
          "state": {
            "_dom_classes": [],
            "_model_module": "@jupyter-widgets/controls",
            "_model_module_version": "1.5.0",
            "_model_name": "HTMLModel",
            "_view_count": null,
            "_view_module": "@jupyter-widgets/controls",
            "_view_module_version": "1.5.0",
            "_view_name": "HTMLView",
            "description": "",
            "description_tooltip": null,
            "layout": "IPY_MODEL_e5b2daa2fffa4bf2a6a7e7d5ac83458f",
            "placeholder": "​",
            "style": "IPY_MODEL_93483255b7534b0e9e9dadd48443c1ee",
            "value": "Downloading builder script: 100%"
          }
        },
        "4336275bdc334326abee6fcf78073b50": {
          "model_module": "@jupyter-widgets/controls",
          "model_name": "FloatProgressModel",
          "model_module_version": "1.5.0",
          "state": {
            "_dom_classes": [],
            "_model_module": "@jupyter-widgets/controls",
            "_model_module_version": "1.5.0",
            "_model_name": "FloatProgressModel",
            "_view_count": null,
            "_view_module": "@jupyter-widgets/controls",
            "_view_module_version": "1.5.0",
            "_view_name": "ProgressView",
            "bar_style": "success",
            "description": "",
            "description_tooltip": null,
            "layout": "IPY_MODEL_2eb550531e5245ef90d105a30df4949a",
            "max": 6270,
            "min": 0,
            "orientation": "horizontal",
            "style": "IPY_MODEL_19dc610d5bcd40c9993c3c855ebb09f5",
            "value": 6270
          }
        },
        "a51ccd274fac47b5a34e213a742bf5c5": {
          "model_module": "@jupyter-widgets/controls",
          "model_name": "HTMLModel",
          "model_module_version": "1.5.0",
          "state": {
            "_dom_classes": [],
            "_model_module": "@jupyter-widgets/controls",
            "_model_module_version": "1.5.0",
            "_model_name": "HTMLModel",
            "_view_count": null,
            "_view_module": "@jupyter-widgets/controls",
            "_view_module_version": "1.5.0",
            "_view_name": "HTMLView",
            "description": "",
            "description_tooltip": null,
            "layout": "IPY_MODEL_6cdd224b11d34196b98987f2cde3463d",
            "placeholder": "​",
            "style": "IPY_MODEL_4dda79865f584b33829279382c90e618",
            "value": " 6.27k/6.27k [00:00&lt;00:00, 281kB/s]"
          }
        },
        "90c864f2be4346ba9fdfcf6e5ecbf00f": {
          "model_module": "@jupyter-widgets/base",
          "model_name": "LayoutModel",
          "model_module_version": "1.2.0",
          "state": {
            "_model_module": "@jupyter-widgets/base",
            "_model_module_version": "1.2.0",
            "_model_name": "LayoutModel",
            "_view_count": null,
            "_view_module": "@jupyter-widgets/base",
            "_view_module_version": "1.2.0",
            "_view_name": "LayoutView",
            "align_content": null,
            "align_items": null,
            "align_self": null,
            "border": null,
            "bottom": null,
            "display": null,
            "flex": null,
            "flex_flow": null,
            "grid_area": null,
            "grid_auto_columns": null,
            "grid_auto_flow": null,
            "grid_auto_rows": null,
            "grid_column": null,
            "grid_gap": null,
            "grid_row": null,
            "grid_template_areas": null,
            "grid_template_columns": null,
            "grid_template_rows": null,
            "height": null,
            "justify_content": null,
            "justify_items": null,
            "left": null,
            "margin": null,
            "max_height": null,
            "max_width": null,
            "min_height": null,
            "min_width": null,
            "object_fit": null,
            "object_position": null,
            "order": null,
            "overflow": null,
            "overflow_x": null,
            "overflow_y": null,
            "padding": null,
            "right": null,
            "top": null,
            "visibility": null,
            "width": null
          }
        },
        "e5b2daa2fffa4bf2a6a7e7d5ac83458f": {
          "model_module": "@jupyter-widgets/base",
          "model_name": "LayoutModel",
          "model_module_version": "1.2.0",
          "state": {
            "_model_module": "@jupyter-widgets/base",
            "_model_module_version": "1.2.0",
            "_model_name": "LayoutModel",
            "_view_count": null,
            "_view_module": "@jupyter-widgets/base",
            "_view_module_version": "1.2.0",
            "_view_name": "LayoutView",
            "align_content": null,
            "align_items": null,
            "align_self": null,
            "border": null,
            "bottom": null,
            "display": null,
            "flex": null,
            "flex_flow": null,
            "grid_area": null,
            "grid_auto_columns": null,
            "grid_auto_flow": null,
            "grid_auto_rows": null,
            "grid_column": null,
            "grid_gap": null,
            "grid_row": null,
            "grid_template_areas": null,
            "grid_template_columns": null,
            "grid_template_rows": null,
            "height": null,
            "justify_content": null,
            "justify_items": null,
            "left": null,
            "margin": null,
            "max_height": null,
            "max_width": null,
            "min_height": null,
            "min_width": null,
            "object_fit": null,
            "object_position": null,
            "order": null,
            "overflow": null,
            "overflow_x": null,
            "overflow_y": null,
            "padding": null,
            "right": null,
            "top": null,
            "visibility": null,
            "width": null
          }
        },
        "93483255b7534b0e9e9dadd48443c1ee": {
          "model_module": "@jupyter-widgets/controls",
          "model_name": "DescriptionStyleModel",
          "model_module_version": "1.5.0",
          "state": {
            "_model_module": "@jupyter-widgets/controls",
            "_model_module_version": "1.5.0",
            "_model_name": "DescriptionStyleModel",
            "_view_count": null,
            "_view_module": "@jupyter-widgets/base",
            "_view_module_version": "1.2.0",
            "_view_name": "StyleView",
            "description_width": ""
          }
        },
        "2eb550531e5245ef90d105a30df4949a": {
          "model_module": "@jupyter-widgets/base",
          "model_name": "LayoutModel",
          "model_module_version": "1.2.0",
          "state": {
            "_model_module": "@jupyter-widgets/base",
            "_model_module_version": "1.2.0",
            "_model_name": "LayoutModel",
            "_view_count": null,
            "_view_module": "@jupyter-widgets/base",
            "_view_module_version": "1.2.0",
            "_view_name": "LayoutView",
            "align_content": null,
            "align_items": null,
            "align_self": null,
            "border": null,
            "bottom": null,
            "display": null,
            "flex": null,
            "flex_flow": null,
            "grid_area": null,
            "grid_auto_columns": null,
            "grid_auto_flow": null,
            "grid_auto_rows": null,
            "grid_column": null,
            "grid_gap": null,
            "grid_row": null,
            "grid_template_areas": null,
            "grid_template_columns": null,
            "grid_template_rows": null,
            "height": null,
            "justify_content": null,
            "justify_items": null,
            "left": null,
            "margin": null,
            "max_height": null,
            "max_width": null,
            "min_height": null,
            "min_width": null,
            "object_fit": null,
            "object_position": null,
            "order": null,
            "overflow": null,
            "overflow_x": null,
            "overflow_y": null,
            "padding": null,
            "right": null,
            "top": null,
            "visibility": null,
            "width": null
          }
        },
        "19dc610d5bcd40c9993c3c855ebb09f5": {
          "model_module": "@jupyter-widgets/controls",
          "model_name": "ProgressStyleModel",
          "model_module_version": "1.5.0",
          "state": {
            "_model_module": "@jupyter-widgets/controls",
            "_model_module_version": "1.5.0",
            "_model_name": "ProgressStyleModel",
            "_view_count": null,
            "_view_module": "@jupyter-widgets/base",
            "_view_module_version": "1.2.0",
            "_view_name": "StyleView",
            "bar_color": null,
            "description_width": ""
          }
        },
        "6cdd224b11d34196b98987f2cde3463d": {
          "model_module": "@jupyter-widgets/base",
          "model_name": "LayoutModel",
          "model_module_version": "1.2.0",
          "state": {
            "_model_module": "@jupyter-widgets/base",
            "_model_module_version": "1.2.0",
            "_model_name": "LayoutModel",
            "_view_count": null,
            "_view_module": "@jupyter-widgets/base",
            "_view_module_version": "1.2.0",
            "_view_name": "LayoutView",
            "align_content": null,
            "align_items": null,
            "align_self": null,
            "border": null,
            "bottom": null,
            "display": null,
            "flex": null,
            "flex_flow": null,
            "grid_area": null,
            "grid_auto_columns": null,
            "grid_auto_flow": null,
            "grid_auto_rows": null,
            "grid_column": null,
            "grid_gap": null,
            "grid_row": null,
            "grid_template_areas": null,
            "grid_template_columns": null,
            "grid_template_rows": null,
            "height": null,
            "justify_content": null,
            "justify_items": null,
            "left": null,
            "margin": null,
            "max_height": null,
            "max_width": null,
            "min_height": null,
            "min_width": null,
            "object_fit": null,
            "object_position": null,
            "order": null,
            "overflow": null,
            "overflow_x": null,
            "overflow_y": null,
            "padding": null,
            "right": null,
            "top": null,
            "visibility": null,
            "width": null
          }
        },
        "4dda79865f584b33829279382c90e618": {
          "model_module": "@jupyter-widgets/controls",
          "model_name": "DescriptionStyleModel",
          "model_module_version": "1.5.0",
          "state": {
            "_model_module": "@jupyter-widgets/controls",
            "_model_module_version": "1.5.0",
            "_model_name": "DescriptionStyleModel",
            "_view_count": null,
            "_view_module": "@jupyter-widgets/base",
            "_view_module_version": "1.2.0",
            "_view_name": "StyleView",
            "description_width": ""
          }
        }
      }
    }
  },
  "cells": [
    {
      "cell_type": "code",
      "source": [
        "pip install evaluate rouge rouge_score"
      ],
      "metadata": {
        "colab": {
          "base_uri": "https://localhost:8080/"
        },
        "id": "WGEJestJMryI",
        "outputId": "1c1b526e-77b7-406c-e068-0a18605ad1b2"
      },
      "execution_count": 1,
      "outputs": [
        {
          "output_type": "stream",
          "name": "stdout",
          "text": [
            "Collecting evaluate\n",
            "  Downloading evaluate-0.4.1-py3-none-any.whl (84 kB)\n",
            "\u001b[2K     \u001b[90m━━━━━━━━━━━━━━━━━━━━━━━━━━━━━━━━━━━━━━━━\u001b[0m \u001b[32m84.1/84.1 kB\u001b[0m \u001b[31m1.6 MB/s\u001b[0m eta \u001b[36m0:00:00\u001b[0m\n",
            "\u001b[?25hCollecting rouge\n",
            "  Downloading rouge-1.0.1-py3-none-any.whl (13 kB)\n",
            "Collecting rouge_score\n",
            "  Downloading rouge_score-0.1.2.tar.gz (17 kB)\n",
            "  Preparing metadata (setup.py) ... \u001b[?25l\u001b[?25hdone\n",
            "Collecting datasets>=2.0.0 (from evaluate)\n",
            "  Downloading datasets-2.16.1-py3-none-any.whl (507 kB)\n",
            "\u001b[2K     \u001b[90m━━━━━━━━━━━━━━━━━━━━━━━━━━━━━━━━━━━━━━━━\u001b[0m \u001b[32m507.1/507.1 kB\u001b[0m \u001b[31m9.2 MB/s\u001b[0m eta \u001b[36m0:00:00\u001b[0m\n",
            "\u001b[?25hRequirement already satisfied: numpy>=1.17 in /usr/local/lib/python3.10/dist-packages (from evaluate) (1.23.5)\n",
            "Collecting dill (from evaluate)\n",
            "  Downloading dill-0.3.7-py3-none-any.whl (115 kB)\n",
            "\u001b[2K     \u001b[90m━━━━━━━━━━━━━━━━━━━━━━━━━━━━━━━━━━━━━━━━\u001b[0m \u001b[32m115.3/115.3 kB\u001b[0m \u001b[31m7.3 MB/s\u001b[0m eta \u001b[36m0:00:00\u001b[0m\n",
            "\u001b[?25hRequirement already satisfied: pandas in /usr/local/lib/python3.10/dist-packages (from evaluate) (1.5.3)\n",
            "Requirement already satisfied: requests>=2.19.0 in /usr/local/lib/python3.10/dist-packages (from evaluate) (2.31.0)\n",
            "Requirement already satisfied: tqdm>=4.62.1 in /usr/local/lib/python3.10/dist-packages (from evaluate) (4.66.1)\n",
            "Requirement already satisfied: xxhash in /usr/local/lib/python3.10/dist-packages (from evaluate) (3.4.1)\n",
            "Collecting multiprocess (from evaluate)\n",
            "  Downloading multiprocess-0.70.15-py310-none-any.whl (134 kB)\n",
            "\u001b[2K     \u001b[90m━━━━━━━━━━━━━━━━━━━━━━━━━━━━━━━━━━━━━━━━\u001b[0m \u001b[32m134.8/134.8 kB\u001b[0m \u001b[31m7.9 MB/s\u001b[0m eta \u001b[36m0:00:00\u001b[0m\n",
            "\u001b[?25hRequirement already satisfied: fsspec[http]>=2021.05.0 in /usr/local/lib/python3.10/dist-packages (from evaluate) (2023.6.0)\n",
            "Requirement already satisfied: huggingface-hub>=0.7.0 in /usr/local/lib/python3.10/dist-packages (from evaluate) (0.20.1)\n",
            "Requirement already satisfied: packaging in /usr/local/lib/python3.10/dist-packages (from evaluate) (23.2)\n",
            "Collecting responses<0.19 (from evaluate)\n",
            "  Downloading responses-0.18.0-py3-none-any.whl (38 kB)\n",
            "Requirement already satisfied: six in /usr/local/lib/python3.10/dist-packages (from rouge) (1.16.0)\n",
            "Requirement already satisfied: absl-py in /usr/local/lib/python3.10/dist-packages (from rouge_score) (1.4.0)\n",
            "Requirement already satisfied: nltk in /usr/local/lib/python3.10/dist-packages (from rouge_score) (3.8.1)\n",
            "Requirement already satisfied: filelock in /usr/local/lib/python3.10/dist-packages (from datasets>=2.0.0->evaluate) (3.13.1)\n",
            "Requirement already satisfied: pyarrow>=8.0.0 in /usr/local/lib/python3.10/dist-packages (from datasets>=2.0.0->evaluate) (10.0.1)\n",
            "Requirement already satisfied: pyarrow-hotfix in /usr/local/lib/python3.10/dist-packages (from datasets>=2.0.0->evaluate) (0.6)\n",
            "Requirement already satisfied: aiohttp in /usr/local/lib/python3.10/dist-packages (from datasets>=2.0.0->evaluate) (3.9.1)\n",
            "Requirement already satisfied: pyyaml>=5.1 in /usr/local/lib/python3.10/dist-packages (from datasets>=2.0.0->evaluate) (6.0.1)\n",
            "Requirement already satisfied: typing-extensions>=3.7.4.3 in /usr/local/lib/python3.10/dist-packages (from huggingface-hub>=0.7.0->evaluate) (4.5.0)\n",
            "Requirement already satisfied: charset-normalizer<4,>=2 in /usr/local/lib/python3.10/dist-packages (from requests>=2.19.0->evaluate) (3.3.2)\n",
            "Requirement already satisfied: idna<4,>=2.5 in /usr/local/lib/python3.10/dist-packages (from requests>=2.19.0->evaluate) (3.6)\n",
            "Requirement already satisfied: urllib3<3,>=1.21.1 in /usr/local/lib/python3.10/dist-packages (from requests>=2.19.0->evaluate) (2.0.7)\n",
            "Requirement already satisfied: certifi>=2017.4.17 in /usr/local/lib/python3.10/dist-packages (from requests>=2.19.0->evaluate) (2023.11.17)\n",
            "Requirement already satisfied: click in /usr/local/lib/python3.10/dist-packages (from nltk->rouge_score) (8.1.7)\n",
            "Requirement already satisfied: joblib in /usr/local/lib/python3.10/dist-packages (from nltk->rouge_score) (1.3.2)\n",
            "Requirement already satisfied: regex>=2021.8.3 in /usr/local/lib/python3.10/dist-packages (from nltk->rouge_score) (2023.6.3)\n",
            "Requirement already satisfied: python-dateutil>=2.8.1 in /usr/local/lib/python3.10/dist-packages (from pandas->evaluate) (2.8.2)\n",
            "Requirement already satisfied: pytz>=2020.1 in /usr/local/lib/python3.10/dist-packages (from pandas->evaluate) (2023.3.post1)\n",
            "Requirement already satisfied: attrs>=17.3.0 in /usr/local/lib/python3.10/dist-packages (from aiohttp->datasets>=2.0.0->evaluate) (23.2.0)\n",
            "Requirement already satisfied: multidict<7.0,>=4.5 in /usr/local/lib/python3.10/dist-packages (from aiohttp->datasets>=2.0.0->evaluate) (6.0.4)\n",
            "Requirement already satisfied: yarl<2.0,>=1.0 in /usr/local/lib/python3.10/dist-packages (from aiohttp->datasets>=2.0.0->evaluate) (1.9.4)\n",
            "Requirement already satisfied: frozenlist>=1.1.1 in /usr/local/lib/python3.10/dist-packages (from aiohttp->datasets>=2.0.0->evaluate) (1.4.1)\n",
            "Requirement already satisfied: aiosignal>=1.1.2 in /usr/local/lib/python3.10/dist-packages (from aiohttp->datasets>=2.0.0->evaluate) (1.3.1)\n",
            "Requirement already satisfied: async-timeout<5.0,>=4.0 in /usr/local/lib/python3.10/dist-packages (from aiohttp->datasets>=2.0.0->evaluate) (4.0.3)\n",
            "Building wheels for collected packages: rouge_score\n",
            "  Building wheel for rouge_score (setup.py) ... \u001b[?25l\u001b[?25hdone\n",
            "  Created wheel for rouge_score: filename=rouge_score-0.1.2-py3-none-any.whl size=24933 sha256=7612bdd20f760c785adc3b3a4ba84412713b19c5b881999b94ba62e614f9bc33\n",
            "  Stored in directory: /root/.cache/pip/wheels/5f/dd/89/461065a73be61a532ff8599a28e9beef17985c9e9c31e541b4\n",
            "Successfully built rouge_score\n",
            "Installing collected packages: rouge, dill, rouge_score, responses, multiprocess, datasets, evaluate\n",
            "Successfully installed datasets-2.16.1 dill-0.3.7 evaluate-0.4.1 multiprocess-0.70.15 responses-0.18.0 rouge-1.0.1 rouge_score-0.1.2\n"
          ]
        }
      ]
    },
    {
      "cell_type": "markdown",
      "source": [
        "**Journal 1**"
      ],
      "metadata": {
        "id": "n1EyO-gvOvIj"
      }
    },
    {
      "cell_type": "code",
      "source": [
        "# Ground Truth\n",
        "references = [\"pip install flair\",\n",
        "              \"FLAIR framework\",\n",
        "              \"https://github.com/zalandoresearch/flair\",\n",
        "              \"Presented FLAIR as a framework designed to facilitate experimentation with different embedding types, as well as training and distributing sequence labeling and text classification models.\",\n",
        "              \"at least version 3.6 of Python\"]"
      ],
      "metadata": {
        "id": "wyEcYRYAHwNv"
      },
      "execution_count": 2,
      "outputs": []
    },
    {
      "cell_type": "code",
      "source": [
        "# Prediksi RAG\n",
        "predictions_rag = [\"The command for installing the FLAIR library is pip install flair\",\n",
        "              \"The proposed solution from this paper is the FLAIR framework. It is designed to address the challenges of working with different types of word embeddings. The framework provides a unified interface for all word embeddings and allows researchers to build a single model architecture that can make use of any type of word embedding with no additional engineering effort. It also includes convenience methods for downloading NLP research datasets, model training routines, and pre-trained models. The FLAIR framework aims to simplify the process of setting up and executing experiments in natural language processing.\",\n",
        "              \"The GitHub link for the FLAIR framework is: https://github.com/zalandoresearch/flair\",\n",
        "              \"The purpose of the presented framework, called FLAIR, is to address the challenges of using different types of word embeddings in natural language processing (NLP) tasks. The framework aims to abstract away from specific engineering challenges and provide a unified interface for all word embeddings. It allows researchers to build a single model architecture that can make use of any type of word embedding with no additional engineering effort. The framework also includes convenience methods for downloading NLP datasets, model training and hyperparameter selection routines, and a growing list of pre-trained models. Overall, the framework is designed to facilitate experimentation with different embedding types and training and distributing sequence labeling and text classification models.\",\n",
        "              \"The minimum version of Python required to set up FLAIR in the environment is Python 3.6.\"]\n"
      ],
      "metadata": {
        "id": "uRog_MulIEl2"
      },
      "execution_count": 3,
      "outputs": []
    },
    {
      "cell_type": "code",
      "source": [
        "# Prediksi typeset.io\n",
        "predictions_other = [\"The command to install the FLAIR library is pip install flair. FLAIR is a powerful natural language processing library that provides pre-trained models and tools for various NLP tasks, including named entity recognition (NER) . By running the pip install flair command, the FLAIR library and its dependencies will be automatically downloaded and installed in the Python environment . This command requires an active internet connection to access the Python Package Index (PyPI) and retrieve the FLAIR package . Once installed, FLAIR can be imported into Python scripts or notebooks using the import flair statement, allowing users to leverage its functionalities for NLP tasks, including NER in the biomedical domain.\",\n",
        "                     \"The proposed solution from the paper is a natural language processing (NLP) framework called FLAIR (Framework for Learning and Information Extraction). FLAIR utilizes state-of-the-art deep learning techniques, such as bidirectional LSTMs and contextual string embeddings, to achieve high-performance results in various NLP tasks, including named entity recognition (NER). The framework is designed to be user-friendly and provides pre-trained models and tools for NLP tasks. FLAIR offers compatibility with different operating systems, including Windows, macOS, and Linux, and requires a minimum Python version of 3.6 or higher. By installing the FLAIR library using the pip install flair command, users can access the functionalities of the framework and leverage its pre-trained models for NER and other NLP tasks.\",\n",
        "                     \"The GitHub link for the FLAIR framework is https://github.com/flairNLP/flair . The FLAIR GitHub repository provides access to the source code, documentation, and examples for using the FLAIR library in natural language processing tasks . Users can clone or download the FLAIR repository from the provided GitHub link to get the latest version of the framework . The repository contains information on how to install FLAIR, as well as tutorials and examples to help users get started with using the framework for NLP tasks . Additionally, the FLAIR GitHub repository allows users to contribute to the development of the framework by submitting issues or pull requests.\",\n",
        "                     \"The presented framework is used for natural language processing (NLP) tasks, specifically named entity recognition (NER) and other NLP tasks. The framework, called FLAIR (Framework for Learning and Information Extraction), utilizes deep learning techniques, such as bidirectional LSTMs and contextual string embeddings, to achieve high-performance results in NLP tasks. FLAIR provides pre-trained models and tools for NLP tasks, making it user-friendly and accessible for researchers and practitioners. The framework is compatible with different operating systems, including Windows, macOS, and Linux, and can be installed using the pip install flair command. The FLAIR GitHub repository (https://github.com/flairNLP/flair) contains the source code, documentation, and examples for using the FLAIR library in NLP tasks, allowing users to clone or download the repository to access the latest version of the framework. Users can contribute to the development of FLAIR by submitting issues or pull requests through the GitHub repository.\",\n",
        "                     \"The minimum Python version required to set up FLAIR in the environment is Python 3.6 or higher. FLAIR is compatible with different operating systems, including Windows, macOS, and Linux. To install FLAIR, users can use the \"\"pip install flair\"\" command, which will automatically install the required dependencies. FLAIR provides pre-trained models and tools for natural language processing (NLP) tasks, such as named entity recognition (NER).The FLAIR GitHub repository (https://github.com/flairNLP/flair) contains the source code, documentation, and examples for using the FLAIR library in NLP tasks. Users can contribute to the development of FLAIR by submitting issues or pull requests through the GitHub repository\"]"
      ],
      "metadata": {
        "id": "KK3YWs0UM0fk"
      },
      "execution_count": 4,
      "outputs": []
    },
    {
      "cell_type": "code",
      "source": [
        "# ROUGE : RAG x Ground Truth\n",
        "# versi hunggingface (terbaru) = nilai ROUGE adalah nilai f1-score, dan tidak menampilkan precison & recall\n",
        "import evaluate\n",
        "rouge = evaluate.load(\"rouge\")\n",
        "results = rouge.compute(predictions=predictions_rag, references=references)\n",
        "print(results)"
      ],
      "metadata": {
        "colab": {
          "base_uri": "https://localhost:8080/",
          "height": 66,
          "referenced_widgets": [
            "c4ddedf2db4842f5977c2ae0bcd909c6",
            "a38424d4b3cb49cd85cbb739e365fd65",
            "4336275bdc334326abee6fcf78073b50",
            "a51ccd274fac47b5a34e213a742bf5c5",
            "90c864f2be4346ba9fdfcf6e5ecbf00f",
            "e5b2daa2fffa4bf2a6a7e7d5ac83458f",
            "93483255b7534b0e9e9dadd48443c1ee",
            "2eb550531e5245ef90d105a30df4949a",
            "19dc610d5bcd40c9993c3c855ebb09f5",
            "6cdd224b11d34196b98987f2cde3463d",
            "4dda79865f584b33829279382c90e618"
          ]
        },
        "id": "VUspfYQYHffm",
        "outputId": "0e223964-17c0-48a1-d9cb-f59c2e1f25a4"
      },
      "execution_count": 5,
      "outputs": [
        {
          "output_type": "display_data",
          "data": {
            "text/plain": [
              "Downloading builder script:   0%|          | 0.00/6.27k [00:00<?, ?B/s]"
            ],
            "application/vnd.jupyter.widget-view+json": {
              "version_major": 2,
              "version_minor": 0,
              "model_id": "c4ddedf2db4842f5977c2ae0bcd909c6"
            }
          },
          "metadata": {}
        },
        {
          "output_type": "stream",
          "name": "stdout",
          "text": [
            "{'rouge1': 0.3505555555555556, 'rouge2': 0.2507638830488045, 'rougeL': 0.3151587301587302, 'rougeLsum': 0.3246031746031746}\n"
          ]
        }
      ]
    },
    {
      "cell_type": "code",
      "source": [
        "# ROUGE : RAG x Ground Truth\n",
        "# versi ROUGE sebelumnya (paper) yang menampilkan precision, recall, dan f1-score\n",
        "from rouge import Rouge\n",
        "rouge = Rouge()\n",
        "rouge.get_scores(references, predictions_rag, avg=True)"
      ],
      "metadata": {
        "colab": {
          "base_uri": "https://localhost:8080/"
        },
        "id": "JXG48Mv-WtOL",
        "outputId": "dc7760ce-b877-41c1-a4d3-e8991b672810"
      },
      "execution_count": 6,
      "outputs": [
        {
          "output_type": "execute_result",
          "data": {
            "text/plain": [
              "{'rouge-1': {'r': 0.20588053067827422,\n",
              "  'p': 0.8974025974025974,\n",
              "  'f': 0.31793180956024325},\n",
              " 'rouge-2': {'r': 0.1151574866279536,\n",
              "  'p': 0.7833333333333334,\n",
              "  'f': 0.1895800082881936},\n",
              " 'rouge-l': {'r': 0.20588053067827422,\n",
              "  'p': 0.8974025974025974,\n",
              "  'f': 0.31793180956024325}}"
            ]
          },
          "metadata": {},
          "execution_count": 6
        }
      ]
    },
    {
      "cell_type": "code",
      "source": [
        "# ROUGE : Other x Ground Truth\n",
        "# versi hunggingface (terbaru) = nilai ROUGE adalah nilai f1-score, dan tidak menampilkan precison & recall\n",
        "import evaluate\n",
        "rouge = evaluate.load(\"rouge\")\n",
        "results = rouge.compute(predictions=predictions_other, references=references)\n",
        "print(results)"
      ],
      "metadata": {
        "colab": {
          "base_uri": "https://localhost:8080/"
        },
        "id": "EMyeivI6Jf_w",
        "outputId": "47b86a0a-7216-41e9-f9bb-37e84d31a8cf"
      },
      "execution_count": 7,
      "outputs": [
        {
          "output_type": "stream",
          "name": "stdout",
          "text": [
            "{'rouge1': 0.07167412374308926, 'rouge2': 0.02378028590484192, 'rougeL': 0.06375328306362789, 'rougeLsum': 0.06377867343384586}\n"
          ]
        }
      ]
    },
    {
      "cell_type": "code",
      "source": [
        "# ROUGE : Other x Ground Truth\n",
        "# versi ROUGE sebelumnya (paper) yang menampilkan precision, recall, dan f1-score\n",
        "from rouge import Rouge\n",
        "rouge = Rouge()\n",
        "rouge.get_scores(references, predictions_other, avg=True)"
      ],
      "metadata": {
        "colab": {
          "base_uri": "https://localhost:8080/"
        },
        "id": "zTTjmteRXWcz",
        "outputId": "0181c0fd-75ab-4cc5-97c7-f3b65c9afdcb"
      },
      "execution_count": 8,
      "outputs": [
        {
          "output_type": "execute_result",
          "data": {
            "text/plain": [
              "{'rouge-1': {'r': 0.04491780997069709,\n",
              "  'p': 0.7155844155844157,\n",
              "  'f': 0.0808320691639817},\n",
              " 'rouge-2': {'r': 0.00751473427534056,\n",
              "  'p': 0.2416666666666667,\n",
              "  'f': 0.014219667861879549},\n",
              " 'rouge-l': {'r': 0.04289760795049506,\n",
              "  'p': 0.7064935064935065,\n",
              "  'f': 0.07752628404001476}}"
            ]
          },
          "metadata": {},
          "execution_count": 8
        }
      ]
    },
    {
      "cell_type": "markdown",
      "source": [
        "**Journal 2**"
      ],
      "metadata": {
        "id": "K0yYK1DaO89m"
      }
    },
    {
      "cell_type": "code",
      "source": [
        "# Ground Truth\n",
        "references = [\"Edge Probing\",\n",
        "              \"Scalar Mixing Weights, and Cumulative Scoring\",\n",
        "              \"ELMo model\",\n",
        "              \"BERT model\",\n",
        "              \"to measure how well information about linguistic structure can be extracted from a pre-trained encoder\"]"
      ],
      "metadata": {
        "id": "U4cWXQvLO6JM"
      },
      "execution_count": 9,
      "outputs": []
    },
    {
      "cell_type": "code",
      "source": [
        "# Prediksi RAG\n",
        "predictions_rag = [\"The experiment is based on the edge probing task suite, which is used to explore how different layers of the BERT network can resolve syntactic and semantic structure within a sentence.\",\n",
        "              \"The two metrics used in this experiment are scalar mixing weights and cumulative scoring.\",\n",
        "              \"The scalar mixing technique was introduced by the ELMo model.\",\n",
        "              \"The language model used in this paper is BERT (Bidirectional Encoder Representations from Transformers), as mentioned in the text: We build on this latter line of work, focusing on the BERT model (Devlin et al., 2018).\",\n",
        "              \"The main purpose of the edge probing task suite is to explore how the different layers of the BERT network can resolve syntactic and semantic structure within a sentence. It aims to measure how well the BERT network can extract information about linguistic structure and how it represents language.\"]"
      ],
      "metadata": {
        "id": "vB94Pu_DbdNw"
      },
      "execution_count": 10,
      "outputs": []
    },
    {
      "cell_type": "code",
      "source": [
        "# Prediksi typeset.io\n",
        "predictions_other = [\"The experiments in the provided papers are based on the following methods: The experiments utilize a deep learning framework called FLAIR (Framework for Learning and Information Extraction) for natural language processing (NLP) tasks. FLAIR incorporates bidirectional LSTMs and contextual string embeddings to achieve high-performance results in NLP tasks. The framework provides pre-trained models and tools for NLP tasks, making it user-friendly and accessible for researchers and practitioners. FLAIR is compatible with different operating systems, including Windows, macOS, and Linux, and can be installed using the \"\"pip install flair\"\" command. The FLAIR GitHub repository contains the source code, documentation, and examples for using the FLAIR library in NLP tasks, allowing users to clone or download the repository to access the latest version of the framework. Users can contribute to the development of FLAIR by submitting issues or pull requests through the GitHub repository.\",\n",
        "              \"Two metrics used in the experiments are precision and recall. Precision is a metric that measures the proportion of correctly predicted positive instances out of all instances predicted as positive. Recall, also known as sensitivity, measures the proportion of correctly predicted positive instances out of all actual positive instances. Precision and recall are commonly used evaluation metrics in information retrieval and machine learning tasks, including natural language processing (NLP). These metrics provide insights into the performance of the models and algorithms used in the experiments, helping to assess their effectiveness in tasks such as named entity recognition (NER) and other NLP tasks.\",\n",
        "              \"The model that introduced the scalar mixing technique is the Transformer-XL model. Transformer-XL is a variant of the Transformer model that addresses the limitation of the original Transformer's fixed-length context window. The scalar mixing technique is introduced in the context of modeling long-range dependencies in sequential data. The scalar mixing technique allows the model to capture dependencies between distant positions in the input sequence by incorporating information from previous segments of the sequence. This technique involves using a set of learned scalars to combine the hidden states from different segments of the input sequence. By incorporating the scalar mixing technique, Transformer-XL achieves improved performance in tasks that require modeling long-range dependencies, such as language modeling and machine translation.\",\n",
        "              \"The language model used in this paper is BERT (Bidirectional Encoder Representations from Transformers). BERT is a deep language model that has shown state-of-the-art performance on various natural language processing (NLP) tasks. BERT is based on the Transformer architecture and is trained with a multi-task objective, including masked language modeling and next-sentence prediction. The BERT model used in this paper is the stock BERT model, which includes both the base and large versions. The encoder weights of the BERT model are frozen in this paper, following the approach of Tenney et al. (2019), to understand the structure of the network resulting from pretraining.\",\n",
        "              \"The main purpose of edge probing is to measure how well a pre-trained encoder can extract information about linguistic structure. Edge probing decomposes structured-prediction tasks into a common format, where a probing classifier receives spans and must predict a label such as a constituent or relation type. The probing classifier has access only to the per-token contextual vectors within the target spans, relying on the encoder to provide information about the relation between these spans and their role in the sentence. Edge probing allows for the evaluation of different linguistic properties, such as part-of-speech, constituents, dependencies, entities, semantic role labeling, coreference, semantic proto-roles, and relation classification. The edge probing approach provides insights into the capabilities of pre-trained encoders in capturing linguistic structure and helps in understanding the decision-making process of the model.\"]"
      ],
      "metadata": {
        "id": "SoKUAuE5bdUy"
      },
      "execution_count": 11,
      "outputs": []
    },
    {
      "cell_type": "code",
      "source": [
        "# ROUGE : RAG x Ground Truth\n",
        "# versi hunggingface (terbaru) = nilai ROUGE adalah nilai f1-score, dan tidak menampilkan precison & recall\n",
        "import evaluate\n",
        "rouge = evaluate.load(\"rouge\")\n",
        "results = rouge.compute(predictions=predictions_rag, references=references)\n",
        "print(results)"
      ],
      "metadata": {
        "id": "qHJ5QWRsReON",
        "colab": {
          "base_uri": "https://localhost:8080/"
        },
        "outputId": "8d8d6455-0820-4ab3-d46f-91e855e58fe4"
      },
      "execution_count": 12,
      "outputs": [
        {
          "output_type": "stream",
          "name": "stdout",
          "text": [
            "{'rouge1': 0.2935001840264998, 'rouge2': 0.21142857142857144, 'rougeL': 0.27187829714145506, 'rougeLsum': 0.27800269905533065}\n"
          ]
        }
      ]
    },
    {
      "cell_type": "code",
      "source": [
        "# ROUGE : RAG x Ground Truth\n",
        "# versi ROUGE sebelumnya (paper) yang menampilkan precision, recall, dan f1-score\n",
        "from rouge import Rouge\n",
        "rouge = Rouge()\n",
        "rouge.get_scores(references, predictions_rag, avg=True)"
      ],
      "metadata": {
        "id": "K9QBLTASReRk",
        "colab": {
          "base_uri": "https://localhost:8080/"
        },
        "outputId": "52462b49-f042-4898-90a9-0e7b989ba5d9"
      },
      "execution_count": 13,
      "outputs": [
        {
          "output_type": "execute_result",
          "data": {
            "text/plain": [
              "{'rouge-1': {'r': 0.12124299414621995,\n",
              "  'p': 0.5666666666666667,\n",
              "  'f': 0.18783216538787456},\n",
              " 'rouge-2': {'r': 0.05505050505050505,\n",
              "  'p': 0.48571428571428565,\n",
              "  'f': 0.09219011995799078},\n",
              " 'rouge-l': {'r': 0.11583758874081455,\n",
              "  'p': 0.5533333333333335,\n",
              "  'f': 0.18013985769556687}}"
            ]
          },
          "metadata": {},
          "execution_count": 13
        }
      ]
    },
    {
      "cell_type": "code",
      "source": [
        "# ROUGE : Other x Ground Truth\n",
        "# versi hunggingface (terbaru) = nilai ROUGE adalah nilai f1-score, dan tidak menampilkan precison & recall\n",
        "import evaluate\n",
        "rouge = evaluate.load(\"rouge\")\n",
        "results = rouge.compute(predictions=predictions_other, references=references)\n",
        "print(results)"
      ],
      "metadata": {
        "id": "b6ACXzmcReVt",
        "colab": {
          "base_uri": "https://localhost:8080/"
        },
        "outputId": "a71d8bbf-453b-4593-a462-737b1daaf2ec"
      },
      "execution_count": 14,
      "outputs": [
        {
          "output_type": "stream",
          "name": "stdout",
          "text": [
            "{'rouge1': 0.04648585593467484, 'rouge2': 0.027080327080327076, 'rougeL': 0.04233116548077178, 'rougeLsum': 0.041777068076280684}\n"
          ]
        }
      ]
    },
    {
      "cell_type": "code",
      "source": [
        "# ROUGE : Other x Ground Truth\n",
        "# versi ROUGE sebelumnya (paper) yang menampilkan precision, recall, dan f1-score\n",
        "from rouge import Rouge\n",
        "rouge = Rouge()\n",
        "rouge.get_scores(references, predictions_other, avg=True)"
      ],
      "metadata": {
        "id": "C5HQ9VHfRecm",
        "colab": {
          "base_uri": "https://localhost:8080/"
        },
        "outputId": "91aa0fc9-78ee-4420-b21b-35b0200df859"
      },
      "execution_count": 15,
      "outputs": [
        {
          "output_type": "execute_result",
          "data": {
            "text/plain": [
              "{'rouge-1': {'r': 0.040456969622904654,\n",
              "  'p': 0.49333333333333335,\n",
              "  'f': 0.07136145254555701},\n",
              " 'rouge-2': {'r': 0.015077138849929872,\n",
              "  'p': 0.3142857142857143,\n",
              "  'f': 0.02748948065874111},\n",
              " 'rouge-l': {'r': 0.033398146093492884,\n",
              "  'p': 0.4533333333333333,\n",
              "  'f': 0.059361452545557004}}"
            ]
          },
          "metadata": {},
          "execution_count": 15
        }
      ]
    },
    {
      "cell_type": "markdown",
      "source": [
        "**Journal 3**"
      ],
      "metadata": {
        "id": "jc80P8pROviy"
      }
    },
    {
      "cell_type": "code",
      "source": [
        "# Ground Truth\n",
        "references = [\"perform an analysis of the energy required to train a variety of popular off the-shelf NLP models, as well as a case study of the complete sum of resources required to develop LISA, a state-of-the-art NLP model from EMNLP 2018, including all tuning and experimentation.\",\n",
        "              \"Transformer base model was trained for 12 hours, and Transformer big model was trained for 3.5 days\",\n",
        "              \"Yes, Of note is that TPUs are more cost-efficient than GPUs on workloads that make sense for that hardware\",\n",
        "              \"NVIDIA Titan X GPU, and Intel’s Running Average Power Limit interface CPU\",\n",
        "              \"Transformers, ELMo, BERT, GPT-2\"]"
      ],
      "metadata": {
        "id": "3pJGRK6RduCE"
      },
      "execution_count": 16,
      "outputs": []
    },
    {
      "cell_type": "code",
      "source": [
        "# Prediksi RAG\n",
        "predictions_rag = [\"In this research, the authors conducted an analysis to quantify the computational and environmental costs of training deep neural network models for NLP. They performed experiments to measure the energy consumed during the training of various popular off-the-shelf NLP models. The models were trained using default settings and on specific hardware (such as NVIDIA Titan X GPU and NVIDIA GTX 1080 Ti GPUs). The authors also sampled the power consumption of the GPU and CPU during training. Additionally, they conducted a case study to estimate the complete sum of resources required to develop a state-of-the-art NLP model called LISA.\",\n",
        "              \"The training time for the Transformer base model on NVIDIA P100 GPUs is 12 hours, while the training time for the Transformer big model on NVIDIA P100 GPUs is 84 hours.\",\n",
        "              \"Yes, according to the analysis in Table 3, TPUs are more cost-efficient than GPUs for certain workloads, such as training BERT.\",\n",
        "              \"The models in this experiment were trained using a combination of NVIDIA Titan X (72%) and M40 (28%) GPUs. Unfortunately, the specific CPU used for training is not mentioned in the given context.\",\n",
        "              \"The four models used in this experiment are: Transformer: An encoder-decoder architecture primarily used for machine translation, Language models: Unsupervised multitask learners, Practical Bayesian optimization of machine learning algorithms, Linguistically-Informed Self-Attention for Semantic Role Labeling.\"]"
      ],
      "metadata": {
        "id": "Upimx0U0O3tK"
      },
      "execution_count": 17,
      "outputs": []
    },
    {
      "cell_type": "code",
      "source": [
        "# Prediksi typeset.io\n",
        "predictions_other = [\"In this research, the authors conducted an analysis to quantify the computational and environmental costs of training deep neural network models for NLP. They performed experiments to measure the energy consumed during the training of various popular off-the-shelf NLP models. The models were trained using default settings and on specific hardware (such as NVIDIA Titan X GPU and NVIDIA GTX 1080 Ti GPUs). The authors also sampled the power consumption of the GPU and CPU during training. Additionally, they conducted a case study to estimate the complete sum of resources required to develop a state-of-the-art NLP model called LISA.\",\n",
        "              \"The Transformer base model, with 65M parameters, was trained on 8 NVIDIA P100 GPUs for 12 hours . The Transformer big model, with 213M parameters, was trained on 8 NVIDIA P100 GPUs for 3.5 days (84 hours; 300k steps).\",\n",
        "              \"According to the analysis in Table 3, TPUs are more cost-efficient than GPUs on workloads that are suitable for TPUs, such as BERT models. The analysis compared the CO2 emissions and estimated cost of training models using TPUs and GPUs. The research found that training BERT on a GPU is equivalent to the carbon emissions of a trans-American flight, highlighting the substantial carbon emissions associated with training models on GPUs. However, it is important to note that the analysis in Table 3 did not include power and carbon footprint information for TPUs due to a lack of public information. Therefore, while TPUs are shown to be more cost-efficient than GPUs for certain workloads, a comprehensive comparison of their environmental costs is not available in the provided sources.\",\n",
        "              \"The models in the experiment were trained on a single NVIDIA Titan X GPU, except for the ELMo model which was trained on 3 NVIDIA GTX 1080 Ti GPUs. The GPU power consumption was sampled using the NVIDIA System Management Interface. The CPU power consumption was sampled using Intel's Running Average Power Limit interface. The research also used a combination of NVIDIA Titan X (72) and M40 (28) GPUs for model training associated with the project. The training for the Linguistically-Informed Self-Attention model spanned a period of 172 days, with various job lengths ranging from 3 minutes to 9 days.\",\n",
        "              \"The four models used in this experiment are the Transformer model, the BERT model, the ELMo model, and the Linguistically-Informed Self-Attention model.\"]"
      ],
      "metadata": {
        "id": "q3G902WfO3w8"
      },
      "execution_count": 18,
      "outputs": []
    },
    {
      "cell_type": "code",
      "source": [
        "# ROUGE : RAG x Ground Truth\n",
        "# versi hunggingface (terbaru) = nilai ROUGE adalah nilai f1-score, dan tidak menampilkan precison & recall\n",
        "import evaluate\n",
        "rouge = evaluate.load(\"rouge\")\n",
        "results = rouge.compute(predictions=predictions_rag, references=references)\n",
        "print(results)"
      ],
      "metadata": {
        "id": "9wvdLxjNRhCD",
        "colab": {
          "base_uri": "https://localhost:8080/"
        },
        "outputId": "dad96ae7-7283-4460-f8c8-0ac4ea457139"
      },
      "execution_count": 19,
      "outputs": [
        {
          "output_type": "stream",
          "name": "stdout",
          "text": [
            "{'rouge1': 0.31944951893801, 'rouge2': 0.18166216198906068, 'rougeL': 0.27554442066681745, 'rougeLsum': 0.28021295474711627}\n"
          ]
        }
      ]
    },
    {
      "cell_type": "code",
      "source": [
        "# ROUGE : RAG x Ground Truth\n",
        "# versi ROUGE sebelumnya (paper) yang menampilkan precision, recall, dan f1-score\n",
        "from rouge import Rouge\n",
        "rouge = Rouge()\n",
        "rouge.get_scores(references, predictions_rag, avg=True)"
      ],
      "metadata": {
        "id": "C_phHQl-RhFR",
        "colab": {
          "base_uri": "https://localhost:8080/"
        },
        "outputId": "e2849e26-4d81-4956-ece4-1ec91b7e8065"
      },
      "execution_count": 20,
      "outputs": [
        {
          "output_type": "execute_result",
          "data": {
            "text/plain": [
              "{'rouge-1': {'r': 0.2384707794019351,\n",
              "  'p': 0.39942900237017887,\n",
              "  'f': 0.2936938486927946},\n",
              " 'rouge-2': {'r': 0.141046882670594,\n",
              "  'p': 0.2347763347763348,\n",
              "  'f': 0.1715445513167584},\n",
              " 'rouge-l': {'r': 0.2279444636124614,\n",
              "  'p': 0.3840443869855635,\n",
              "  'f': 0.28119384869279457}}"
            ]
          },
          "metadata": {},
          "execution_count": 20
        }
      ]
    },
    {
      "cell_type": "code",
      "source": [
        "# ROUGE : Other x Ground Truth\n",
        "# versi hunggingface (terbaru) = nilai ROUGE adalah nilai f1-score, dan tidak menampilkan precison & recall\n",
        "import evaluate\n",
        "rouge = evaluate.load(\"rouge\")\n",
        "results = rouge.compute(predictions=predictions_other, references=references)\n",
        "print(results)"
      ],
      "metadata": {
        "id": "ICA76PmmRhJi",
        "colab": {
          "base_uri": "https://localhost:8080/"
        },
        "outputId": "976dfabb-2b93-4246-ef6a-bde5516c9076"
      },
      "execution_count": 21,
      "outputs": [
        {
          "output_type": "stream",
          "name": "stdout",
          "text": [
            "{'rouge1': 0.3258819733580063, 'rouge2': 0.19683042401062617, 'rougeL': 0.2840681351790565, 'rougeLsum': 0.27813710069629793}\n"
          ]
        }
      ]
    },
    {
      "cell_type": "code",
      "source": [
        "# ROUGE : Other x Ground Truth\n",
        "# versi ROUGE sebelumnya (paper) yang menampilkan precision, recall, dan f1-score\n",
        "from rouge import Rouge\n",
        "rouge = Rouge()\n",
        "rouge.get_scores(references, predictions_other, avg=True)"
      ],
      "metadata": {
        "id": "OAX5JkamRhNa",
        "colab": {
          "base_uri": "https://localhost:8080/"
        },
        "outputId": "0c7bc1d6-95bb-4ae1-a52d-d1acf86b720e"
      },
      "execution_count": 22,
      "outputs": [
        {
          "output_type": "execute_result",
          "data": {
            "text/plain": [
              "{'rouge-1': {'r': 0.19804647870099404,\n",
              "  'p': 0.5926416720534368,\n",
              "  'f': 0.2857830505333615},\n",
              " 'rouge-2': {'r': 0.11010555388443763,\n",
              "  'p': 0.3875901875901876,\n",
              "  'f': 0.16116370911733574},\n",
              " 'rouge-l': {'r': 0.1951053022304058,\n",
              "  'p': 0.5759750053867702,\n",
              "  'f': 0.28078305053336144}}"
            ]
          },
          "metadata": {},
          "execution_count": 22
        }
      ]
    },
    {
      "cell_type": "markdown",
      "source": [
        "**Journal 4**"
      ],
      "metadata": {
        "id": "Uc27MLdxPFD0"
      }
    },
    {
      "cell_type": "code",
      "source": [
        "# Ground Truth\n",
        "references = [\"brat rapid annotation tool is an intuitive web-based tool for text annotation supported by Natural Language Processing (NLP) technology\",\n",
        "              \"well-over 50,000 annotations\",\n",
        "              \"http://brat.nlplab.org\",\n",
        "              \"client-server architecture with communication over HTTP using JavaScript Object Notation (JSON)\",\n",
        "              \"15.4%\"]"
      ],
      "metadata": {
        "id": "7G7NcDC7PHso"
      },
      "execution_count": 23,
      "outputs": []
    },
    {
      "cell_type": "code",
      "source": [
        "# Prediksi RAG\n",
        "predictions_rag = [\"BRAT is a web-based tool for text annotation supported by Natural Language Processing (NLP) technology. It is designed to assist in manual curation efforts and increase annotator productivity using NLP techniques. BRAT allows for rich structured annotation for a variety of NLP tasks and is fully configurable to support most text annotation tasks. It supports basic annotation primitives, such as identifying text spans and assigning them types, as well as connecting annotations with binary relations. BRAT also supports n-ary associations of annotations and the marking of attributes. It includes a search feature for browsing annotations and can be extended or adapted to switch out the server or client. BRAT is available under an open-source license.\",\n",
        "              \"BRAT has been used in several ongoing annotation efforts at academic institutions and has created well-over 50,000 annotations.\",\n",
        "              \"The homepage link for the free open-source BRAT is http://brat.nlplab.org.\",\n",
        "              \"BRAT is implemented using a client-server architecture with communication over HTTP using JavaScript Object Notation (JSON). The server is a RESTful web service and the client user interface is implemented using XHTML and Scalable Vector Graphics (SVG), with interactivity implemented using JavaScript with the jQuery library. The client communicates with the server using Asynchronous JavaScript and XML (AJAX).\",\n",
        "              \"The experiment resulted in a 15.4% reduction in total annotation time.\"]"
      ],
      "metadata": {
        "id": "NdbE7OwyPJbJ"
      },
      "execution_count": 24,
      "outputs": []
    },
    {
      "cell_type": "code",
      "source": [
        "# Prediksi typeset.io\"BRAT is a web-based tool for text annotation that is supported by Natural Language Processing (NLP) technology. It aims to enhance annotator productivity and supports manual curation efforts. It is designed to facilitate rich structured annotation for various NLP tasks and has been used in real-world annotation projects, showing a decrease in annotation time. BRAT uses a client-server architecture with communication over HTTP using JSON. The client user interface is implemented using XHTML and SVG, with interactivity implemented using JavaScript and jQuery. The server is a RESTful web service implemented in Python. BRAT supports both the Common Gateway Interface (CGI) and FastCGI protocols for efficient response times and uses a file-based stand-off format for annotation storage, eliminating the need for database import or export. \",\n",
        "              \"BRAT has created well-over 50,000 annotations in its use at academic institutions.\",\n",
        "              \"BRAT, the free open-source tool for text annotation, can be accessed through its homepage at http://brat.nlplab.org.\",\n",
        "              \"BRAT is implemented using a web-based architecture, making it accessible through a web browser. It is supported by Natural Language Processing (NLP) technology, which assists in text annotation tasks. The tool allows for rich structured annotation and aims to increase annotator productivity through the use of NLP techniques. The main user interface of BRAT includes features such as annotation editing, which recognizes standard user interface gestures familiar from text editors and presentation software . Annotations in BRAT are created by selecting a span of text with the mouse or double-clicking on a word, and connections between annotations are made by clicking on one annotation and dragging a connection to another . BRAT has been used in the annotation of six different corpora by multiple research groups, resulting in the creation of well-over 50,000 annotations in thousands of documents comprising hundreds of thousands of words\",\n",
        "              \"The experiment showed a 15% decrease in total annotation time as a result of annotation assisted by semantic class disambiguation . This evaluation was conducted on a multicategory entity mention annotation task using pre-release versions of BRAT. The integration of a machine learning-based semantic class disambiguation system, which offered multiple outputs with probability estimates, contributed to reducing ambiguity by an average of over 75% while retaining the correct class in 99% of cases across six corpora. This improvement in annotation efficiency demonstrates the effectiveness of using NLP techniques in supporting manual curation efforts and increasing annotator productivity in text annotation tasks.\"\n",
        "predictions_other = []"
      ],
      "metadata": {
        "id": "s3y-RdvNPJeA"
      },
      "execution_count": 25,
      "outputs": []
    },
    {
      "cell_type": "code",
      "source": [
        "# ROUGE : RAG x Ground Truth\n",
        "# versi hunggingface (terbaru) = nilai ROUGE adalah nilai f1-score, dan tidak menampilkan precison & recall\n",
        "import evaluate\n",
        "rouge = evaluate.load(\"rouge\")\n",
        "results = rouge.compute(predictions=predictions_rag, references=references)\n",
        "print(results)"
      ],
      "metadata": {
        "id": "IWs6fkjbRkER",
        "colab": {
          "base_uri": "https://localhost:8080/"
        },
        "outputId": "ddbf702b-0c6c-45fc-ff63-4d73791f28cd"
      },
      "execution_count": 26,
      "outputs": [
        {
          "output_type": "stream",
          "name": "stdout",
          "text": [
            "{'rouge1': 0.34291274215340356, 'rouge2': 0.2769607843137255, 'rougeL': 0.33711564070412814, 'rougeLsum': 0.33711564070412814}\n"
          ]
        }
      ]
    },
    {
      "cell_type": "code",
      "source": [
        "# ROUGE : RAG x Ground Truth\n",
        "# versi ROUGE sebelumnya (paper) yang menampilkan precision, recall, dan f1-score\n",
        "from rouge import Rouge\n",
        "rouge = Rouge()\n",
        "rouge.get_scores(references, predictions_rag, avg=True)"
      ],
      "metadata": {
        "id": "k7SYnQsMRkHH",
        "colab": {
          "base_uri": "https://localhost:8080/"
        },
        "outputId": "13bf1f87-c678-459e-c866-d37b8f69cb2f"
      },
      "execution_count": 27,
      "outputs": [
        {
          "output_type": "execute_result",
          "data": {
            "text/plain": [
              "{'rouge-1': {'r': 0.21611721347015464,\n",
              "  'p': 0.9647058823529411,\n",
              "  'f': 0.35093708401253776},\n",
              " 'rouge-2': {'r': 0.13635622459151872,\n",
              "  'p': 0.9222222222222222,\n",
              "  'f': 0.2356017119693711},\n",
              " 'rouge-l': {'r': 0.21611721347015464,\n",
              "  'p': 0.9647058823529411,\n",
              "  'f': 0.35093708401253776}}"
            ]
          },
          "metadata": {},
          "execution_count": 27
        }
      ]
    },
    {
      "cell_type": "code",
      "source": [
        "# ROUGE : Other x Ground Truth\n",
        "# versi hunggingface (terbaru) = nilai ROUGE adalah nilai f1-score, dan tidak menampilkan precison & recall\n",
        "import evaluate\n",
        "rouge = evaluate.load(\"rouge\")\n",
        "results = rouge.compute(predictions=predictions_other, references=references)\n",
        "print(results)"
      ],
      "metadata": {
        "id": "G7rpSf_XRkL9",
        "colab": {
          "base_uri": "https://localhost:8080/"
        },
        "outputId": "22caba6c-7f71-4796-ffc9-1b5a614462fb"
      },
      "execution_count": 28,
      "outputs": [
        {
          "output_type": "stream",
          "name": "stdout",
          "text": [
            "{'rouge1': 0.22885558082026658, 'rouge2': 0.17859507439339373, 'rougeL': 0.22146518279387198, 'rougeLsum': 0.22206477732793523}\n"
          ]
        }
      ]
    },
    {
      "cell_type": "code",
      "source": [
        "# ROUGE : Other x Ground Truth\n",
        "# versi ROUGE sebelumnya (paper) yang menampilkan precision, recall, dan f1-score\n",
        "from rouge import Rouge\n",
        "rouge = Rouge()\n",
        "rouge.get_scores(references, predictions_other, avg=True)"
      ],
      "metadata": {
        "id": "G48XizFFRkPg",
        "colab": {
          "base_uri": "https://localhost:8080/"
        },
        "outputId": "87c6ee17-5246-4453-b33e-141cd27a80d8"
      },
      "execution_count": 29,
      "outputs": [
        {
          "output_type": "execute_result",
          "data": {
            "text/plain": [
              "{'rouge-1': {'r': 0.11662844913246198,\n",
              "  'p': 0.5893048128342245,\n",
              "  'f': 0.19353890842637228},\n",
              " 'rouge-2': {'r': 0.07642197374817697,\n",
              "  'p': 0.5111111111111111,\n",
              "  'f': 0.1324207017652728},\n",
              " 'rouge-l': {'r': 0.11662844913246198,\n",
              "  'p': 0.5893048128342245,\n",
              "  'f': 0.19353890842637228}}"
            ]
          },
          "metadata": {},
          "execution_count": 29
        }
      ]
    },
    {
      "cell_type": "markdown",
      "source": [
        "**Journal 5**"
      ],
      "metadata": {
        "id": "LBjufU5GPNQq"
      }
    },
    {
      "cell_type": "code",
      "source": [
        "# Ground Truth\n",
        "references = [\"TextAttack\",\n",
        "              \"https://github.com/QData/TextAttack.\",\n",
        "              \"Proceedings of the 2020 Association for Computational Linguistics.\",\n",
        "              \"Yes, TextAttack is available as a Python package installed from PyPI\",\n",
        "              \"textattack attack\"]"
      ],
      "metadata": {
        "id": "_5noqC-APPae"
      },
      "execution_count": 30,
      "outputs": []
    },
    {
      "cell_type": "code",
      "source": [
        "# Prediksi RAG\n",
        "predictions_rag = [\"The research paper proposes a framework called TextAttack.\",\n",
        "              \"The GitHub link for accessing the code and tutorials of TextAttack is: https://github.com/QData/TextAttack\",\n",
        "              \"This research paper is published in the Proceedings of the Association for Computational Linguistics.\",\n",
        "              \"Yes, TextAttack can be installed as a Python package. It can be installed from PyPI or downloaded directly from GitHub.\",\n",
        "              \"The API command-line from TextAttack that allows users to specify attacks is textattack attack\"]"
      ],
      "metadata": {
        "id": "hIlSV0giPQRe"
      },
      "execution_count": 31,
      "outputs": []
    },
    {
      "cell_type": "code",
      "source": [
        "# Prediksi typeset.io\n",
        "predictions_other = [\"Framework proposed in this research paper: The research paper proposes a Python framework called TextAttack for adversarial attacks, data augmentation, and adversarial training in NLP. TextAttack is designed to build attacks using four components: a goal function, a set of constraints, a transformation, and a search method. The modular design of TextAttack allows researchers to easily construct attacks by combining novel and existing components. TextAttack provides implementations of 16 adversarial attacks from the literature and supports various models and datasets, including BERT and other transformers, and all GLUE tasks. In addition to attacks, TextAttack also includes data augmentation and adversarial training modules to improve model accuracy and robustness. The framework aims to democratize NLP by enabling anyone to try data augmentation and adversarial training on any model or dataset with just a few lines of code.\",\n",
        "              \"The code and tutorials for TextAttack can be accessed at the following link: https://github.com/QData/TextAttack\",\n",
        "              \"The research paper TextAttack: A Framework for Adversarial Attacks, Data Augmentation, and Adversarial Training in NLP does not mention any specific proceedings where it was published. However, it is worth noting that the paper is available on arXiv, an open-access repository for scientific papers. The authors of the paper are John Morris, Eli Lifland, Jin Yoo, Jake Grigsby, Di Jin, and Yanjun Qi. The paper introduces the TextAttack framework, which is a Python framework for adversarial attacks, data augmentation, and adversarial training in NLP. It provides implementations of 16 adversarial attacks from the literature and supports various models and datasets, including BERT and other transformers, and all GLUE tasks. The framework aims to democratize NLP by enabling researchers to easily construct attacks and improve model performance. Code and tutorials for TextAttack can be found on the GitHub repository at https://github.com/QData/TextAttack.\",\n",
        "              \"Yes, TextAttack is available as a Python package that can be installed. The TextAttack framework is designed to be easily accessible and usable by researchers. It provides a modular design that allows users to construct attacks from combinations of novel and existing components. The framework supports a variety of models and datasets, including BERT and other transformers, and all GLUE tasks. To install TextAttack, users can follow the instructions provided in the code repository on GitHub. The code and tutorials for TextAttack can be found at the following link: https://github.com/QData/TextAttack. With just a few lines of code, researchers can try data augmentation and adversarial training on any model or dataset using TextAttack.\",\n",
        "              \"TextAttack provides an API command-line interface that allows users to specify attacks. This command-line interface enables users to easily configure and launch attacks on NLP models. Users can specify the attack type, target model, and dataset, among other parameters, through the command-line interface. The API command-line interface is designed to be user-friendly and accessible, allowing researchers to quickly experiment with different attack configurations. The details of the API command-line interface and its usage can be found in the TextAttack documentation and tutorials provided on the GitHub repository.\"]"
      ],
      "metadata": {
        "id": "R0WkcOClPQWq"
      },
      "execution_count": 32,
      "outputs": []
    },
    {
      "cell_type": "code",
      "source": [
        "# ROUGE : RAG x Ground Truth\n",
        "# versi hunggingface (terbaru) = nilai ROUGE adalah nilai f1-score, dan tidak menampilkan precison & recall\n",
        "import evaluate\n",
        "rouge = evaluate.load(\"rouge\")\n",
        "results = rouge.compute(predictions=predictions_rag, references=references)\n",
        "print(results)"
      ],
      "metadata": {
        "id": "p6b-vsvFRlUX",
        "colab": {
          "base_uri": "https://localhost:8080/"
        },
        "outputId": "ad9207a8-8a7f-4790-8240-f254bac21dbf"
      },
      "execution_count": 33,
      "outputs": [
        {
          "output_type": "stream",
          "name": "stdout",
          "text": [
            "{'rouge1': 0.4258141184137389, 'rouge2': 0.28942528735632184, 'rougeL': 0.4258141184137389, 'rougeLsum': 0.4258141184137389}\n"
          ]
        }
      ]
    },
    {
      "cell_type": "code",
      "source": [
        "# ROUGE : RAG x Ground Truth\n",
        "# versi ROUGE sebelumnya (paper) yang menampilkan precision, recall, dan f1-score\n",
        "from rouge import Rouge\n",
        "rouge = Rouge()\n",
        "rouge.get_scores(references, predictions_rag, avg=True)"
      ],
      "metadata": {
        "id": "l0V70jrJRlXW",
        "colab": {
          "base_uri": "https://localhost:8080/"
        },
        "outputId": "c07c5cdc-392e-4b45-bb5b-259a9553de74"
      },
      "execution_count": 34,
      "outputs": [
        {
          "output_type": "execute_result",
          "data": {
            "text/plain": [
              "{'rouge-1': {'r': 0.3023351648351648,\n",
              "  'p': 0.9386363636363637,\n",
              "  'f': 0.41111110793203237},\n",
              " 'rouge-2': {'r': 0.17828054298642532,\n",
              "  'p': 0.6628571428571429,\n",
              "  'f': 0.24603174365834918},\n",
              " 'rouge-l': {'r': 0.3023351648351648,\n",
              "  'p': 0.9386363636363637,\n",
              "  'f': 0.41111110793203237}}"
            ]
          },
          "metadata": {},
          "execution_count": 34
        }
      ]
    },
    {
      "cell_type": "code",
      "source": [
        "# ROUGE : Other x Ground Truth\n",
        "# versi hunggingface (terbaru) = nilai ROUGE adalah nilai f1-score, dan tidak menampilkan precison & recall\n",
        "import evaluate\n",
        "rouge = evaluate.load(\"rouge\")\n",
        "results = rouge.compute(predictions=predictions_other, references=references)\n",
        "print(results)"
      ],
      "metadata": {
        "id": "5mDonunPRlc5",
        "colab": {
          "base_uri": "https://localhost:8080/"
        },
        "outputId": "43c951c4-fcbf-4ca8-8205-e69719b3e465"
      },
      "execution_count": 35,
      "outputs": [
        {
          "output_type": "stream",
          "name": "stdout",
          "text": [
            "{'rouge1': 0.13474951712951988, 'rouge2': 0.09859047619047619, 'rougeL': 0.13474951712951988, 'rougeLsum': 0.13271305342122955}\n"
          ]
        }
      ]
    },
    {
      "cell_type": "code",
      "source": [
        "# ROUGE : Other x Ground Truth\n",
        "# versi ROUGE sebelumnya (paper) yang menampilkan precision, recall, dan f1-score\n",
        "from rouge import Rouge\n",
        "rouge = Rouge()\n",
        "rouge.get_scores(references, predictions_other, avg=True)"
      ],
      "metadata": {
        "id": "SghamXK4RlgE",
        "colab": {
          "base_uri": "https://localhost:8080/"
        },
        "outputId": "4fa54efd-afbe-4379-b3ce-d64ba0a9588e"
      },
      "execution_count": 36,
      "outputs": [
        {
          "output_type": "execute_result",
          "data": {
            "text/plain": [
              "{'rouge-1': {'r': 0.06255713549038325,\n",
              "  'p': 0.7568181818181818,\n",
              "  'f': 0.11195912607226415},\n",
              " 'rouge-2': {'r': 0.028347602260645737,\n",
              "  'p': 0.36857142857142855,\n",
              "  'f': 0.05256578248816237},\n",
              " 'rouge-l': {'r': 0.06255713549038325,\n",
              "  'p': 0.7568181818181818,\n",
              "  'f': 0.11195912607226415}}"
            ]
          },
          "metadata": {},
          "execution_count": 36
        }
      ]
    },
    {
      "cell_type": "markdown",
      "source": [
        "**News 1**"
      ],
      "metadata": {
        "id": "8banYczuPQuQ"
      }
    },
    {
      "cell_type": "code",
      "source": [
        "# Ground Truth\n",
        "references = [\"The Korean War ended in 1953\",\n",
        "              \"Kim said inter-Korean relations had become “a relationship between two hostile countries and two belligerents at war,” the state-run news agency KCNA reported\",\n",
        "              \"January 1, 2024\",\n",
        "              \"Hoo Chiew-Ping\",\n",
        "              \"three\"]"
      ],
      "metadata": {
        "id": "v7SXO4jEPUPP"
      },
      "execution_count": 37,
      "outputs": []
    },
    {
      "cell_type": "code",
      "source": [
        "# Prediksi RAG\n",
        "predictions_rag = [\"The Korean War ended in 1953 with an armistice.\",\n",
        "              \"Based on the news agency KCNA report, Kim Jong Un stated that North Korea will no longer engage in inter-Korean relations. He mentioned that future South Korean administrations extending an olive branch will be vehemently rejected by North Korea. Kim's statement suggests a departure from any potential reconciliation or reunification efforts between North and South Korea.\",\n",
        "              \"The news article was published on Monday, January 1, 2024.\",\n",
        "              \"Hoo Chiew-Ping, a senior fellow at the East Asian International Relations CAUCUS (EAIR) and member of the Asia Pacific Nuclear Advisory Panel (APNAP), said that the North Korean leader has been increasingly walking away from inter-Korean relations in recent years.\",\n",
        "              \"North Korea plans to add three additional spy satellites by 2024.\"]"
      ],
      "metadata": {
        "id": "1O5rSnSYPUxY"
      },
      "execution_count": 38,
      "outputs": []
    },
    {
      "cell_type": "code",
      "source": [
        "# Prediksi typeset.io\n",
        "predictions_other = [\"The Korean War ended on July 27, 1953.\",\n",
        "              \"Kim made statements about inter-Korean relations based on news agency KCNA reports. The specific details of what Kim said about inter-Korean relations are not provided in the given abstracts and contexts.\",\n",
        "              \"The specific time of the news publication is not mentioned in the provided abstracts and contexts. The information about the time of news publication is not available in the given sources.\",\n",
        "              \"The person who stated that the North Korean leader has been increasingly walking away from inter-Korean relations in recent years is not mentioned in the provided abstracts and contexts. The specific individual who made this statement is not identified in the given sources. The abstracts and contexts do not provide information about the person who made the observation about the North Korean leader's distancing from inter-Korean relations. Unfortunately, the sources do not mention the name of the person who made the statement about the North Korean leader's decreasing involvement in inter-Korean relations.\",\n",
        "              \"The abstracts and contexts provided do not mention any specific information about North Korea's plans to add spy satellites by 2024. There is no mention of the number of spy satellites that North Korea plans to add by 2024 in the given sources. The sources do not provide any details regarding North Korea's future plans for the addition of spy satellites. Unfortunately, the abstracts and contexts do not contain any information about North Korea's intended number of spy satellites by 2024. The specific number of spy satellites that North Korea plans to add by 2024 is not mentioned in the provided sources.\"]"
      ],
      "metadata": {
        "id": "PJDEHpk-PU0h"
      },
      "execution_count": 40,
      "outputs": []
    },
    {
      "cell_type": "code",
      "source": [
        "# ROUGE : RAG x Ground Truth\n",
        "# versi hunggingface (terbaru) = nilai ROUGE adalah nilai f1-score, dan tidak menampilkan precison & recall\n",
        "import evaluate\n",
        "rouge = evaluate.load(\"rouge\")\n",
        "results = rouge.compute(predictions=predictions_rag, references=references)\n",
        "print(results)"
      ],
      "metadata": {
        "id": "NMFkKl2kRmqV",
        "colab": {
          "base_uri": "https://localhost:8080/"
        },
        "outputId": "81075ff0-6b62-40bd-f2fd-5da4f7105d3a"
      },
      "execution_count": 41,
      "outputs": [
        {
          "output_type": "stream",
          "name": "stdout",
          "text": [
            "{'rouge1': 0.3653197405004634, 'rouge2': 0.26378272889900795, 'rougeL': 0.3450169910410874, 'rougeLsum': 0.34564102564102567}\n"
          ]
        }
      ]
    },
    {
      "cell_type": "code",
      "source": [
        "# ROUGE : RAG x Ground Truth\n",
        "# versi ROUGE sebelumnya (paper) yang menampilkan precision, recall, dan f1-score\n",
        "from rouge import Rouge\n",
        "rouge = Rouge()\n",
        "rouge.get_scores(references, predictions_rag, avg=True)"
      ],
      "metadata": {
        "id": "8vWcjizxRmtP",
        "colab": {
          "base_uri": "https://localhost:8080/"
        },
        "outputId": "21e7ef0a-62ee-4f32-9555-46cdd7f966d4"
      },
      "execution_count": 42,
      "outputs": [
        {
          "output_type": "execute_result",
          "data": {
            "text/plain": [
              "{'rouge-1': {'r': 0.25351300328743936,\n",
              "  'p': 0.7818181818181819,\n",
              "  'f': 0.3463452479721377},\n",
              " 'rouge-2': {'r': 0.18055555555555555,\n",
              "  'p': 0.42727272727272725,\n",
              "  'f': 0.2423628978931356},\n",
              " 'rouge-l': {'r': 0.2412681053282557,\n",
              "  'p': 0.7545454545454545,\n",
              "  'f': 0.3294438395214335}}"
            ]
          },
          "metadata": {},
          "execution_count": 42
        }
      ]
    },
    {
      "cell_type": "code",
      "source": [
        "# ROUGE : Other x Ground Truth\n",
        "# versi hunggingface (terbaru) = nilai ROUGE adalah nilai f1-score, dan tidak menampilkan precison & recall\n",
        "import evaluate\n",
        "rouge = evaluate.load(\"rouge\")\n",
        "results = rouge.compute(predictions=predictions_other, references=references)\n",
        "print(results)"
      ],
      "metadata": {
        "id": "LYb09TTERmy3",
        "colab": {
          "base_uri": "https://localhost:8080/"
        },
        "outputId": "60b10b89-ef4e-45da-c70d-d5c39d2ca597"
      },
      "execution_count": 43,
      "outputs": [
        {
          "output_type": "stream",
          "name": "stdout",
          "text": [
            "{'rouge1': 0.21182266009852216, 'rouge2': 0.13571428571428573, 'rougeL': 0.19113300492610838, 'rougeLsum': 0.19113300492610838}\n"
          ]
        }
      ]
    },
    {
      "cell_type": "code",
      "source": [
        "# ROUGE : Other x Ground Truth\n",
        "# versi ROUGE sebelumnya (paper) yang menampilkan precision, recall, dan f1-score\n",
        "from rouge import Rouge\n",
        "rouge = Rouge()\n",
        "rouge.get_scores(references, predictions_other, avg=True)"
      ],
      "metadata": {
        "id": "PjbimhBERm2A",
        "colab": {
          "base_uri": "https://localhost:8080/"
        },
        "outputId": "57a49ceb-fc27-4010-9a76-55ee4a6cf24c"
      },
      "execution_count": 44,
      "outputs": [
        {
          "output_type": "execute_result",
          "data": {
            "text/plain": [
              "{'rouge-1': {'r': 0.19166666666666665,\n",
              "  'p': 0.24848484848484848,\n",
              "  'f': 0.2163265286430654},\n",
              " 'rouge-2': {'r': 0.11428571428571428,\n",
              "  'p': 0.15636363636363634,\n",
              "  'f': 0.13199999804217782},\n",
              " 'rouge-l': {'r': 0.18425925925925926,\n",
              "  'p': 0.2393939393939394,\n",
              "  'f': 0.20816326333694296}}"
            ]
          },
          "metadata": {},
          "execution_count": 44
        }
      ]
    },
    {
      "cell_type": "markdown",
      "source": [
        "**News 2**"
      ],
      "metadata": {
        "id": "m6bU_tUZPZuR"
      }
    },
    {
      "cell_type": "code",
      "source": [
        "# Ground Truth\n",
        "references = [\"The waiting migrants feel desperate\",\n",
        "              \"9,600 migrant encounters\",\n",
        "              \"1,000 migrants arrived\",\n",
        "              \"3,800 in Tijuana, 3,273 in Reynosa, and 4,000 in Matamoros\",\n",
        "              \"445,000\"]"
      ],
      "metadata": {
        "id": "2Ukt_N9wPbcE"
      },
      "execution_count": 45,
      "outputs": []
    },
    {
      "cell_type": "code",
      "source": [
        "# Prediksi RAG\n",
        "predictions_rag = [\"According to Cañas, the waiting migrants feel desperate\",\n",
        "              \"According to the report, Federal authorities reported a seven-day average of more than 9,600 migrant encounters along the US southern border in December.\",\n",
        "              \"According to the director of a migrant shelter in Piedras Negras, about 1,000 migrants arrived by train on Monday.\",\n",
        "              \"In Tijuana, an estimated 3,800 migrants are staying in shelters. In Reynosa, there are 3,273 migrants staying in shelters. The number of migrants staying in shelters in Matamoros is not mentioned in the provided context.\",\n",
        "              \"The US Department of Homeland Security has deported or returned over 445,000 migrants since May, according to the agency's online statement.\"]"
      ],
      "metadata": {
        "id": "k2PS2VnGPwW2"
      },
      "execution_count": 46,
      "outputs": []
    },
    {
      "cell_type": "code",
      "source": [
        "# Prediksi typeset.io\n",
        "predictions_other = [\"The provided abstracts and contexts do not mention any information about Cañas or their perspective on the feelings of waiting migrants. There is no reference to Cañas or their insights on the emotions experienced by waiting migrants in the given sources. Unfortunately, the sources do not provide any details about Cañas' observations or opinions regarding the feelings of waiting migrants. Cañas' perspective on the emotions felt by waiting migrants is not mentioned in the provided abstracts and contexts. The abstracts and contexts do not contain any information about Cañas' views on the experiences of waiting migrants.\",\n",
        "              \"In December, Federal authorities reported a seven-day average of more than 9,600 migrant encounters along the US southern border. This number represents a significant increase compared to the seven-day average reported on November 28, which was about 6,800 encounters. The surge of people crossing into the US from Mexico has put a strain on US border cities in recent weeks. The increase in migrant encounters highlights the ongoing challenge faced by US Customs and Border Protection (CBP) in addressing the border surge. Despite efforts to address the situation, illegal crossings continue to occur, particularly in rural areas of Arizona, fueled by bad actors pushing migrants to enter between ports of entry. The situation at the border has prompted discussions between Mexican President Andres Manuel Lopez Obrador and US officials, including Secretary of State Antony Blinken and Secretary of Homeland Security Alejandro Mayorkas. \",\n",
        "              \"The director of a migrant shelter in Piedras Negras, Mexico, reported that about 1,000 migrants arrived by train on Monday. The shelter director's statement highlights the continued arrival of large groups of migrants at the border by train. The influx of migrants has led to temporary halts in crossing due to violence in the streets of Piedras Negras. The arrival of migrants by train adds to the challenges faced by US Customs and Border Protection in managing the border surge. The situation at the border has prompted discussions between Mexican President Andres Manuel Lopez Obrador and US officials, including Secretary of State Antony Blinken and Secretary of Homeland Security Alejandro Mayorkas. The meeting between Mexican and US officials aims to address the ongoing border situation and immigration policy.\",\n",
        "              \"In Tijuana, Mexico, an estimated 3,800 migrants from countries like Mexico, Cuba, Haiti, and Venezuela are staying in shelters. In Reynosa, Mexico, another 3,273 migrants are waiting at Senda De Vida shelters. In nearby Matamoros, Mexico, about 4,000 migrants are living in camps, shelters, and abandoned homes. The total number of migrants staying in shelters in Tijuana, Reynosa, and Matamoros is approximately 11,073. These migrants are waiting on the Mexican side of the border, hoping to enter the US through legal pathways established by the Biden administration. The situation at the border has prompted discussions between Mexican President Andres Manuel Lopez Obrador and US officials, including Secretary of State Antony Blinken and Secretary of Homeland Security Alejandro Mayorkas.\",\n",
        "              \"The US Department of Homeland Security has deported or returned over 445,000 migrants since May, according to the agency's online statement. The majority of these migrants had crossed the US Southern border. The deportation and return of migrants is part of the government's efforts to address the ongoing border surge and maximize limited resources. The federal government has also closed ports of entry in multiple states and reassigned personnel to transport and process migrants. The Biden Administration temporarily suspended rail operations in Eagle Pass and El Paso, but those services have since resumed. Despite these measures, illegal crossings continue to occur, particularly in rural areas of Arizona, where bad actors are pushing migrants to enter the US southern border between ports of entry.\"]"
      ],
      "metadata": {
        "id": "A818fDV6PwZg"
      },
      "execution_count": 47,
      "outputs": []
    },
    {
      "cell_type": "code",
      "source": [
        "# ROUGE : RAG x Ground Truth\n",
        "# versi hunggingface (terbaru) = nilai ROUGE adalah nilai f1-score, dan tidak menampilkan precison & recall\n",
        "import evaluate\n",
        "rouge = evaluate.load(\"rouge\")\n",
        "results = rouge.compute(predictions=predictions_rag, references=references)\n",
        "print(results)"
      ],
      "metadata": {
        "id": "h4jIlL0MRoPi",
        "colab": {
          "base_uri": "https://localhost:8080/"
        },
        "outputId": "49332664-54e2-4b8a-8aff-a9b2cca193b8"
      },
      "execution_count": 48,
      "outputs": [
        {
          "output_type": "stream",
          "name": "stdout",
          "text": [
            "{'rouge1': 0.376696223316913, 'rouge2': 0.28860342555994734, 'rougeL': 0.3593628899835797, 'rougeLsum': 0.360696223316913}\n"
          ]
        }
      ]
    },
    {
      "cell_type": "code",
      "source": [
        "# ROUGE : RAG x Ground Truth\n",
        "# versi ROUGE sebelumnya (paper) yang menampilkan precision, recall, dan f1-score\n",
        "from rouge import Rouge\n",
        "rouge = Rouge()\n",
        "rouge.get_scores(references, predictions_rag, avg=True)"
      ],
      "metadata": {
        "id": "3qnkaARIRoSV",
        "colab": {
          "base_uri": "https://localhost:8080/"
        },
        "outputId": "f0162fed-6ea5-4514-c2d4-2bd99cfed6fd"
      },
      "execution_count": 49,
      "outputs": [
        {
          "output_type": "execute_result",
          "data": {
            "text/plain": [
              "{'rouge-1': {'r': 0.2205493972084361,\n",
              "  'p': 0.9099999999999999,\n",
              "  'f': 0.3212235478632629},\n",
              " 'rouge-2': {'r': 0.13301487784246405,\n",
              "  'p': 0.5722222222222222,\n",
              "  'f': 0.1929505558995491},\n",
              " 'rouge-l': {'r': 0.19446244068669696, 'p': 0.835, 'f': 0.28251387044390813}}"
            ]
          },
          "metadata": {},
          "execution_count": 49
        }
      ]
    },
    {
      "cell_type": "code",
      "source": [
        "# ROUGE : Other x Ground Truth\n",
        "# versi hunggingface (terbaru) = nilai ROUGE adalah nilai f1-score, dan tidak menampilkan precison & recall\n",
        "import evaluate\n",
        "rouge = evaluate.load(\"rouge\")\n",
        "results = rouge.compute(predictions=predictions_other, references=references)\n",
        "print(results)"
      ],
      "metadata": {
        "id": "ccU6BAeeRoYW",
        "colab": {
          "base_uri": "https://localhost:8080/"
        },
        "outputId": "19edab80-3a97-4cf3-b987-d882e4911c08"
      },
      "execution_count": 50,
      "outputs": [
        {
          "output_type": "stream",
          "name": "stdout",
          "text": [
            "{'rouge1': 0.078696238409629, 'rouge2': 0.04195363669047879, 'rougeL': 0.06980734952074011, 'rougeLsum': 0.06980734952074011}\n"
          ]
        }
      ]
    },
    {
      "cell_type": "code",
      "source": [
        "# ROUGE : Other x Ground Truth\n",
        "# versi ROUGE sebelumnya (paper) yang menampilkan precision, recall, dan f1-score\n",
        "from rouge import Rouge\n",
        "rouge = Rouge()\n",
        "rouge.get_scores(references, predictions_other, avg=True)"
      ],
      "metadata": {
        "id": "m_kEugnXRocd",
        "colab": {
          "base_uri": "https://localhost:8080/"
        },
        "outputId": "7ce615b8-74c3-44d5-d6ad-51998d1cefa5"
      },
      "execution_count": 51,
      "outputs": [
        {
          "output_type": "execute_result",
          "data": {
            "text/plain": [
              "{'rouge-1': {'r': 0.04910430884074295,\n",
              "  'p': 0.9199999999999999,\n",
              "  'f': 0.09101805659245596},\n",
              " 'rouge-2': {'r': 0.012989422154495353,\n",
              "  'p': 0.49444444444444446,\n",
              "  'f': 0.02489154797726323},\n",
              " 'rouge-l': {'r': 0.04663517303827381,\n",
              "  'p': 0.8949999999999999,\n",
              "  'f': 0.08652367456998404}}"
            ]
          },
          "metadata": {},
          "execution_count": 51
        }
      ]
    },
    {
      "cell_type": "markdown",
      "source": [
        "**News 3**"
      ],
      "metadata": {
        "id": "tKxEHwBvPwo2"
      }
    },
    {
      "cell_type": "code",
      "source": [
        "# Ground Truth\n",
        "references = [\"active Pacific storm track typical of an El Niño winter will send a series of storms across the US into next week\",\n",
        "              \"Thursday evening\",\n",
        "              \"Heavy precipitation will spread across the Southeast/Mid-Atlantic and possibly the Northeast this coming weekend, with increasing potential for heavy snow to the north and west of the low\",\n",
        "              \"Northeast and mid-Atlantic\",\n",
        "              \"2.3 inches fell during the entirety of 2023\"]"
      ],
      "metadata": {
        "id": "qB28e-COPzE-"
      },
      "execution_count": 52,
      "outputs": []
    },
    {
      "cell_type": "code",
      "source": [
        "# Prediksi RAG\n",
        "predictions_rag = [\"The highest chance for impactful snow on the East Coast this winter is caused by an active Pacific storm track that is typical of an El Niño winter. This storm track is sending a series of storms across the US, presenting the highest chance for impactful snow so far this winter in some of the country's most populous areas on the East Coast.\",\n",
        "              \"Rain will begin Thursday evening in eastern Texas.\",\n",
        "              \"The Weather Prediction Center stated that heavy precipitation will spread across the Southeast/Mid-Atlantic and possibly the Northeast, with increasing potential for heavy snow to the north and west of the low. They also mentioned that the exact amounts and precipitation type for some major East Coast cities remain highly uncertain but need to be watched.\",\n",
        "              \"Winter may finally arrive in the Northeast and mid-Atlantic in the form of a storm.\",\n",
        "              \"According to the National Weather Service, only 2.3 inches of snow fell in Central Park during the entirety of 2023, making it the least snowy calendar year on record for New York City.\"]"
      ],
      "metadata": {
        "id": "IMLl8tfZPzio"
      },
      "execution_count": 53,
      "outputs": []
    },
    {
      "cell_type": "code",
      "source": [
        "# Prediksi typeset.io\n",
        "predictions_other = [\"The highest chance for impactful snow this winter on the East Coast was caused by an active Pacific storm track typical of an El Nino winter, which sent a series of storms across the US. These storms crossed the southern half of the US before moving up the East Coast, presenting the highest chance for impactful snow in some of the country's most populous areas. The storm system brought heavy precipitation, and the key question was where it would fall as snow and where it would fall as rain, especially along the highly populated I-95 corridor from Washington, DC, to Boston. If even an inch of snow were to fall in this corridor, it would end significant snowless streaks for major cities that have lasted for nearly two years. The storm system was expected to bring significant snow to higher elevation areas of the Appalachians and the interior Northeast, including central Pennsylvania.\",\n",
        "              \"Rain is predicted to begin in eastern Texas on Thursday evening, according to the provided context. The rain is expected to progress with the storm's track to the east, overrunning the Southeast and parts of the mid-Atlantic with time. This storm system could cause flooding issues in the South, particularly in areas that have already experienced heavy rainfall earlier in the week. The exact track of the storm becomes less certain after it leaves the Southeast, but heavy precipitation is expected to spread across the Southeast, Mid-Atlantic, and possibly the Northeast over the coming weekend. The forecast models differ on the amount of snow that could fall and where, but there is increasing potential for heavy snow to the north and west of the low-pressure system. The storm system is part of an active Pacific storm track typical of an El Nino winter, which is bringing a series of storms across the US and presenting the highest chance for impactful snow on the East Coast this winter. \",\n",
        "              \"The Weather Prediction Center stated that heavy precipitation will spread across the Southeast, Mid-Atlantic, and possibly the Northeast over the coming weekend, with increasing potential for heavy snow to the north and west of the low-pressure system. The exact amounts and precipitation type for major East Coast cities remain highly uncertain at this point, but it is advised to monitor the situation closely. The forecast models differ on the amount of snow that could fall and where, but there is a high confidence for significant snow in higher elevation areas of the Appalachians and the interior Northeast, including central Pennsylvania. The key question is where the precipitation will fall as snow and where it will fall as rain, especially along the highly populated I-95 corridor from Washington, DC, to Boston. Even an inch of snow in this corridor would end significant snowless streaks for major cities that have lasted for nearly two years. New York City, Philadelphia, and the DC area's Dulles International Airport experienced their least snowy calendar year on record in 2023, with only 2.3 inches of snow falling in Central Park.\",\n",
        "              \"Winter may finally arrive in the Northeast and mid-Atlantic in the form of a weekend storm, bringing the potential for decent snow after nearly two years of snowless streaks. The storm's timing, intensity, and track are still uncertain, as the system responsible for it is still thousands of miles away off the West Coast of the US. The highest confidence for significant snow is in higher elevation areas of the Appalachians and the interior Northeast, including central Pennsylvania. The key question is where the precipitation will fall as snow and where it will fall as rain, especially along the highly populated I-95 corridor from Washington, DC, to Boston. Major cities like New York City, Philadelphia, and the DC area's Dulles International Airport have experienced significant snowless streaks, with New York City waiting nearly 700 days for an inch of snow in a single calendar day.\",\n",
        "              \"According to the National Weather Service, Central Park in New York City experienced its least snowy calendar year on record in 2023, with only 2.3 inches of snow falling during the entirety of the year. New York City has been waiting nearly 700 days for an inch of snow in a single calendar day. The forecast models for the upcoming weekend storm differ on the amount of snow that could fall in Central Park, but the exact amounts and precipitation type for major East Coast cities remain highly uncertain at this point. It is advised to monitor the situation closely as the storm's timing, intensity, and track are still uncertain, given that the system responsible for it is still thousands of miles away off the West Coast of the US.\"]"
      ],
      "metadata": {
        "id": "_qYXelCYPzn1"
      },
      "execution_count": 54,
      "outputs": []
    },
    {
      "cell_type": "code",
      "source": [
        "# ROUGE : RAG x Ground Truth\n",
        "# versi hunggingface (terbaru) = nilai ROUGE adalah nilai f1-score, dan tidak menampilkan precison & recall\n",
        "import evaluate\n",
        "rouge = evaluate.load(\"rouge\")\n",
        "results = rouge.compute(predictions=predictions_rag, references=references)\n",
        "print(results)"
      ],
      "metadata": {
        "id": "3g53g7eHRpkE",
        "colab": {
          "base_uri": "https://localhost:8080/"
        },
        "outputId": "4d46b55f-4704-4768-ceae-daeb48d296d6"
      },
      "execution_count": 55,
      "outputs": [
        {
          "output_type": "stream",
          "name": "stdout",
          "text": [
            "{'rouge1': 0.4496770430852227, 'rouge2': 0.36261775271651486, 'rougeL': 0.44967704308522266, 'rougeLsum': 0.4496347597871254}\n"
          ]
        }
      ]
    },
    {
      "cell_type": "code",
      "source": [
        "# ROUGE : RAG x Ground Truth\n",
        "# versi ROUGE sebelumnya (paper) yang menampilkan precision, recall, dan f1-score\n",
        "from rouge import Rouge\n",
        "rouge = Rouge()\n",
        "rouge.get_scores(references, predictions_rag, avg=True)"
      ],
      "metadata": {
        "id": "wU-SJX-IRpm5",
        "colab": {
          "base_uri": "https://localhost:8080/"
        },
        "outputId": "7f12d70e-4691-4a68-8f83-502b1c03077f"
      },
      "execution_count": 56,
      "outputs": [
        {
          "output_type": "execute_result",
          "data": {
            "text/plain": [
              "{'rouge-1': {'r': 0.30730111745060606,\n",
              "  'p': 0.878968253968254,\n",
              "  'f': 0.4435388956744285},\n",
              " 'rouge-2': {'r': 0.21647807119505233,\n",
              "  'p': 0.8043650793650794,\n",
              "  'f': 0.32608779188237463},\n",
              " 'rouge-l': {'r': 0.30730111745060606,\n",
              "  'p': 0.878968253968254,\n",
              "  'f': 0.4435388956744285}}"
            ]
          },
          "metadata": {},
          "execution_count": 56
        }
      ]
    },
    {
      "cell_type": "code",
      "source": [
        "# ROUGE : Other x Ground Truth\n",
        "# versi hunggingface (terbaru) = nilai ROUGE adalah nilai f1-score, dan tidak menampilkan precison & recall\n",
        "import evaluate\n",
        "rouge = evaluate.load(\"rouge\")\n",
        "results = rouge.compute(predictions=predictions_other, references=references)\n",
        "print(results)"
      ],
      "metadata": {
        "id": "M1738VGNRpso",
        "colab": {
          "base_uri": "https://localhost:8080/"
        },
        "outputId": "90c8d3be-50e9-44f6-ea9c-81dad5e125a1"
      },
      "execution_count": 57,
      "outputs": [
        {
          "output_type": "stream",
          "name": "stdout",
          "text": [
            "{'rouge1': 0.1287295418958503, 'rouge2': 0.10415856133047441, 'rougeL': 0.12406617844496133, 'rougeLsum': 0.12406617844496133}\n"
          ]
        }
      ]
    },
    {
      "cell_type": "code",
      "source": [
        "# ROUGE : Other x Ground Truth\n",
        "# versi ROUGE sebelumnya (paper) yang menampilkan precision, recall, dan f1-score\n",
        "from rouge import Rouge\n",
        "rouge = Rouge()\n",
        "rouge.get_scores(references, predictions_other, avg=True)"
      ],
      "metadata": {
        "id": "05GVCbXxRpvk",
        "colab": {
          "base_uri": "https://localhost:8080/"
        },
        "outputId": "9088fa14-98b4-49dc-a404-ed9a4b43fa8b"
      },
      "execution_count": 58,
      "outputs": [
        {
          "output_type": "execute_result",
          "data": {
            "text/plain": [
              "{'rouge-1': {'r': 0.08716180231797337,\n",
              "  'p': 0.7734126984126984,\n",
              "  'f': 0.14956000936465136},\n",
              " 'rouge-2': {'r': 0.054157809983896944,\n",
              "  'p': 0.6043650793650793,\n",
              "  'f': 0.09566937023680108},\n",
              " 'rouge-l': {'r': 0.08512098599144276,\n",
              "  'p': 0.7638888888888888,\n",
              "  'f': 0.14619866482683624}}"
            ]
          },
          "metadata": {},
          "execution_count": 58
        }
      ]
    },
    {
      "cell_type": "markdown",
      "source": [
        "**News 4**"
      ],
      "metadata": {
        "id": "tVHVrZCiPzxh"
      }
    },
    {
      "cell_type": "code",
      "source": [
        "# Ground Truth\n",
        "references = [\"stabbed in the neck\",\n",
        "              \"Lee was touring the construction site of the Gadeokdo New Airport and talking to reporters when he was attacked\",\n",
        "              \"Lee suffered “suspected damage to his jugular vein” and doctors were concerned he may have additional bleeding\",\n",
        "              \"Lee Jae-myung\",\n",
        "              \"18 cm or 7 inch\"]"
      ],
      "metadata": {
        "id": "muJRYUHrP1Ed"
      },
      "execution_count": 59,
      "outputs": []
    },
    {
      "cell_type": "code",
      "source": [
        "# Prediksi RAG\n",
        "predictions_rag = [\"South Korea's main opposition party leader, Lee Jae-myung, was stabbed in the neck.\",\n",
        "              \"Lee Jae-myung was attacked during a visit to the southern city of Busan. He was attacked while touring the construction site of the Gadeokdo New Airport and talking to reporters.\",\n",
        "              \"The doctors mentioned that Lee underwent vein reconstruction surgery and is currently recovering in the intensive care unit. They also expressed concerns about potential additional bleeding and suspected damage to his jugular vein.\",\n",
        "              \"The person being stabbed is Lee Jae-myung, the main opposition party leader in South Korea.\",\n",
        "              \"The knife used by the assailant to stab Lee was 18 cm (7 inches) long.\"]"
      ],
      "metadata": {
        "id": "NQPiMn7iP1cx"
      },
      "execution_count": 60,
      "outputs": []
    },
    {
      "cell_type": "code",
      "source": [
        "# Prediksi typeset.io\n",
        "predictions_other = [\"South Korea's main opposition party leader, Lee Jae-myung, was stabbed in the neck.\",\n",
        "              \"Lee Jae-myung was attacked in the southern city of Busan. He was attacked while touring the construction site of the Gadeokdo New Airport\",\n",
        "              \"Doctors stated that Lee Jae-myung suffered a 1-centimeter laceration on the left side of his neck. They were concerned about possible damage to his jugular vein and the potential for additional bleeding. Lee underwent vein reconstruction surgery and is currently recovering in the intensive care unit \",\n",
        "              \"Lee Jae-myung, the leader of South Korea's main opposition party, was stabbed in the neck\",\n",
        "              \"The knife used by the assailant to stab Lee Jae-myung was 18 cm (7 inches) long.\"]"
      ],
      "metadata": {
        "id": "POvGdblYP1fd"
      },
      "execution_count": 61,
      "outputs": []
    },
    {
      "cell_type": "code",
      "source": [
        "# ROUGE : RAG x Ground Truth\n",
        "# versi hunggingface (terbaru) = nilai ROUGE adalah nilai f1-score, dan tidak menampilkan precison & recall\n",
        "import evaluate\n",
        "rouge = evaluate.load(\"rouge\")\n",
        "results = rouge.compute(predictions=predictions_rag, references=references)\n",
        "print(results)"
      ],
      "metadata": {
        "id": "gB-14c0CRqsq",
        "colab": {
          "base_uri": "https://localhost:8080/"
        },
        "outputId": "34380cdb-4846-435f-fb4a-61c5a14cb9c8"
      },
      "execution_count": 62,
      "outputs": [
        {
          "output_type": "stream",
          "name": "stdout",
          "text": [
            "{'rouge1': 0.4393684210526315, 'rouge2': 0.30653594771241827, 'rougeL': 0.38021052631578944, 'rougeLsum': 0.3791578947368421}\n"
          ]
        }
      ]
    },
    {
      "cell_type": "code",
      "source": [
        "# ROUGE : RAG x Ground Truth\n",
        "# versi ROUGE sebelumnya (paper) yang menampilkan precision, recall, dan f1-score\n",
        "from rouge import Rouge\n",
        "rouge = Rouge()\n",
        "rouge.get_scores(references, predictions_rag, avg=True)"
      ],
      "metadata": {
        "id": "17Fn6rZVRqv4",
        "colab": {
          "base_uri": "https://localhost:8080/"
        },
        "outputId": "ab6307e2-389b-4c35-b070-0c43e771e847"
      },
      "execution_count": 63,
      "outputs": [
        {
          "output_type": "execute_result",
          "data": {
            "text/plain": [
              "{'rouge-1': {'r': 0.28460297766749376,\n",
              "  'p': 0.6623529411764706,\n",
              "  'f': 0.3789885184674343},\n",
              " 'rouge-2': {'r': 0.18214285714285713,\n",
              "  'p': 0.4444444444444445,\n",
              "  'f': 0.24859903064343727},\n",
              " 'rouge-l': {'r': 0.25691480562448304,\n",
              "  'p': 0.6152941176470588,\n",
              "  'f': 0.34423242090645867}}"
            ]
          },
          "metadata": {},
          "execution_count": 63
        }
      ]
    },
    {
      "cell_type": "code",
      "source": [
        "# ROUGE : Other x Ground Truth\n",
        "# versi hunggingface (terbaru) = nilai ROUGE adalah nilai f1-score, dan tidak menampilkan precison & recall\n",
        "import evaluate\n",
        "rouge = evaluate.load(\"rouge\")\n",
        "results = rouge.compute(predictions=predictions_other, references=references)\n",
        "print(results)"
      ],
      "metadata": {
        "id": "Fxsu0g7oRq07",
        "colab": {
          "base_uri": "https://localhost:8080/"
        },
        "outputId": "c9d72198-733a-4496-ca1a-c00cc228dc85"
      },
      "execution_count": 64,
      "outputs": [
        {
          "output_type": "stream",
          "name": "stdout",
          "text": [
            "{'rouge1': 0.40898853900077886, 'rouge2': 0.27662362505978, 'rougeL': 0.3617224880382775, 'rougeLsum': 0.3626200237950544}\n"
          ]
        }
      ]
    },
    {
      "cell_type": "code",
      "source": [
        "# ROUGE : Other x Ground Truth\n",
        "# versi ROUGE sebelumnya (paper) yang menampilkan precision, recall, dan f1-score\n",
        "from rouge import Rouge\n",
        "rouge = Rouge()\n",
        "rouge.get_scores(references, predictions_other, avg=True)"
      ],
      "metadata": {
        "id": "21iykKeHRq4N",
        "colab": {
          "base_uri": "https://localhost:8080/"
        },
        "outputId": "2e670798-cc24-4216-bf0c-d30069fb3076"
      },
      "execution_count": 65,
      "outputs": [
        {
          "output_type": "execute_result",
          "data": {
            "text/plain": [
              "{'rouge-1': {'r': 0.2780463980463981,\n",
              "  'p': 0.6388235294117647,\n",
              "  'f': 0.36012014960527666},\n",
              " 'rouge-2': {'r': 0.1712698412698413, 'p': 0.4125, 'f': 0.22614720605965308},\n",
              " 'rouge-l': {'r': 0.25693528693528694,\n",
              "  'p': 0.6035294117647059,\n",
              "  'f': 0.334656490457407}}"
            ]
          },
          "metadata": {},
          "execution_count": 65
        }
      ]
    },
    {
      "cell_type": "markdown",
      "source": [
        "**News 5**"
      ],
      "metadata": {
        "id": "A64vOr7tP1mz"
      }
    },
    {
      "cell_type": "code",
      "source": [
        "# Ground Truth\n",
        "references = [\"Japan Airlines said four of its passengers were taken to hospitals but the airline has not received any additional reports of injuries\",\n",
        "              \"Japan Airlines,  and The French aviation agency\",\n",
        "              \" Japan Coast Guard aircraft\",\n",
        "              \"five dead, 379 evacuated\",\n",
        "              \"Airbus A350-900 aircraft\"]"
      ],
      "metadata": {
        "id": "jQzZ7SfrP2xt"
      },
      "execution_count": 66,
      "outputs": []
    },
    {
      "cell_type": "code",
      "source": [
        "# Prediksi RAG\n",
        "predictions_rag = [\"The airline’s Senior Vice President Noriyuki Aoki said in a press conference Tuesday evening that four of Japan Airlines' passengers were taken to hospitals, but they have not received any additional reports of injuries.\",\n",
        "              \"Japan Airlines and the French aviation agency both participated in the investigation to determine who was responsible for the plane crash.\",\n",
        "              \"The Japan Air Lines Airbus A350 collided with a De Havilland Canada DHC-8, which was operated by the Japan Coast Guard, before catching fire.\",\n",
        "              \"Five people were killed in the incident. All 379 people on JAL flight 516 were safely evacuated from the passenger plane.\",\n",
        "              \"The airplane that caught fire after taking off from Sapporo city was an Airbus A350-900 aircraft.\"]"
      ],
      "metadata": {
        "id": "X0ZvFaZ7P3LQ"
      },
      "execution_count": 67,
      "outputs": []
    },
    {
      "cell_type": "code",
      "source": [
        "# Prediksi typeset.io\n",
        "predictions_other = [\"The provided sources do not mention any press conference held by the airline's Senior Vice President Noriyuki Aoki on Tuesday evening. Therefore, it is not possible to provide any information about what he said in the press conference.\",\n",
        "              \"Participants in the investigation to determine responsibility for the plane crash: Japan Airlines: The airline is taking part in the investigation to determine responsibility for the crash. Senior Vice President of Corporate Safety and Security Tadayuki Tsutsumi: He stated that Japan Airlines is participating in the investigation. France's aviation agency: The agency is sending its own investigators to Tokyo to probe the collision as part of the investigation team opened by the Japan Transport Safety Board. Japan Transport Safety Board: They have opened an investigation team to determine responsibility for the crash. Note: The sources do not provide information about any other specific individuals or organizations participating in the investigation.\",\n",
        "              \"The Japan Air Lines Airbus A350 caught fire after colliding with a De Havilland Canada DHC-8 aircraft. Note: The provided sources do not mention any other specific details about the type of plane involved in the collision.\",\n",
        "              \"Five people were killed in the JAL flight 516 incident at Tokyo's Haneda airport. All 379 people on board JAL flight 516, including eight children under the age of two, were safely evacuated from the passenger plane. Note: The provided sources do not provide any additional information regarding the number of people who were injured in the incident.\",\n",
        "              \"The airplane that ignited after flying out of Sapporo city was an Airbus A350-900 aircraft. Note: The provided sources do not mention any other specific details about the type of airplane involved in the incident.\"]"
      ],
      "metadata": {
        "id": "PIIHxy-XP3Oa"
      },
      "execution_count": 68,
      "outputs": []
    },
    {
      "cell_type": "code",
      "source": [
        "# ROUGE : RAG x Ground Truth\n",
        "# versi hunggingface (terbaru) = nilai ROUGE adalah nilai f1-score, dan tidak menampilkan precison & recall\n",
        "import evaluate\n",
        "rouge = evaluate.load(\"rouge\")\n",
        "results = rouge.compute(predictions=predictions_rag, references=references)\n",
        "print(results)"
      ],
      "metadata": {
        "id": "q0dS-GJFRr8S",
        "colab": {
          "base_uri": "https://localhost:8080/"
        },
        "outputId": "a35c3f85-a91e-4069-acea-2e2ec3241af5"
      },
      "execution_count": 69,
      "outputs": [
        {
          "output_type": "stream",
          "name": "stdout",
          "text": [
            "{'rouge1': 0.4059206637282863, 'rouge2': 0.2869133984923459, 'rougeL': 0.3778504882896897, 'rougeLsum': 0.3778504882896897}\n"
          ]
        }
      ]
    },
    {
      "cell_type": "code",
      "source": [
        "# ROUGE : RAG x Ground Truth\n",
        "# versi ROUGE sebelumnya (paper) yang menampilkan precision, recall, dan f1-score\n",
        "from rouge import Rouge\n",
        "rouge = Rouge()\n",
        "rouge.get_scores(references, predictions_rag, avg=True)"
      ],
      "metadata": {
        "id": "XJcIQOA9Rr_H",
        "colab": {
          "base_uri": "https://localhost:8080/"
        },
        "outputId": "1ac0bed0-1e8f-485c-af1c-aa0ddd36204c"
      },
      "execution_count": 70,
      "outputs": [
        {
          "output_type": "execute_result",
          "data": {
            "text/plain": [
              "{'rouge-1': {'r': 0.22065419642650763,\n",
              "  'p': 0.6857142857142857,\n",
              "  'f': 0.3171853453949982},\n",
              " 'rouge-2': {'r': 0.11596837944664032,\n",
              "  'p': 0.42857142857142855,\n",
              "  'f': 0.16728674127314663},\n",
              " 'rouge-l': {'r': 0.2145935903659016,\n",
              "  'p': 0.6761904761904762,\n",
              "  'f': 0.3097779379875908}}"
            ]
          },
          "metadata": {},
          "execution_count": 70
        }
      ]
    },
    {
      "cell_type": "code",
      "source": [
        "# ROUGE : Other x Ground Truth\n",
        "# versi hunggingface (terbaru) = nilai ROUGE adalah nilai f1-score, dan tidak menampilkan precison & recall\n",
        "import evaluate\n",
        "rouge = evaluate.load(\"rouge\")\n",
        "results = rouge.compute(predictions=predictions_other, references=references)\n",
        "print(results)"
      ],
      "metadata": {
        "id": "wFjQ6385RsD6",
        "colab": {
          "base_uri": "https://localhost:8080/"
        },
        "outputId": "05ec9845-b667-4866-b037-5c915788e0b5"
      },
      "execution_count": 71,
      "outputs": [
        {
          "output_type": "stream",
          "name": "stdout",
          "text": [
            "{'rouge1': 0.13777848344116753, 'rouge2': 0.04513826940231936, 'rougeL': 0.12466372934280685, 'rougeLsum': 0.12466372934280685}\n"
          ]
        }
      ]
    },
    {
      "cell_type": "code",
      "source": [
        "# ROUGE : Other x Ground Truth\n",
        "# versi ROUGE sebelumnya (paper) yang menampilkan precision, recall, dan f1-score\n",
        "from rouge import Rouge\n",
        "rouge = Rouge()\n",
        "rouge.get_scores(references, predictions_other, avg=True)"
      ],
      "metadata": {
        "id": "SOYe23lgRsGz",
        "colab": {
          "base_uri": "https://localhost:8080/"
        },
        "outputId": "e60dd81c-c11c-4fe7-a859-bc7de7b68395"
      },
      "execution_count": 72,
      "outputs": [
        {
          "output_type": "execute_result",
          "data": {
            "text/plain": [
              "{'rouge-1': {'r': 0.0849007024644964,\n",
              "  'p': 0.5904761904761905,\n",
              "  'f': 0.13619753055313205},\n",
              " 'rouge-2': {'r': 0.011764705882352941, 'p': 0.2, 'f': 0.022222222012345683},\n",
              " 'rouge-l': {'r': 0.072869947150159,\n",
              "  'p': 0.5238095238095238,\n",
              "  'f': 0.11797931233491381}}"
            ]
          },
          "metadata": {},
          "execution_count": 72
        }
      ]
    },
    {
      "cell_type": "markdown",
      "source": [
        "**Report 1**"
      ],
      "metadata": {
        "id": "C3P7TVzfP3YU"
      }
    },
    {
      "cell_type": "code",
      "source": [
        "# Ground Truth\n",
        "references = [\"Inflation slowed to a 3.1% annual rate in November\",\n",
        "              \"December 12, 2023\",\n",
        "              \"gasoline fell 6% and fuel oil was off 2.7%\",\n",
        "              \"2.3%\",\n",
        "              \"0.1%\"]"
      ],
      "metadata": {
        "id": "IU-_EylYP6C8"
      },
      "execution_count": 73,
      "outputs": []
    },
    {
      "cell_type": "code",
      "source": [
        "# Prediksi RAG\n",
        "predictions_rag = [\"The title of the news report is Inflation showed to a 3.1% annual rate in November\",\n",
        "              \"The news report was published on Tuesday, December 12, 2023\",\n",
        "              \"The price of gasoline has decreased by 6% and the price of fuel oil has decreased by 2.7%.\",\n",
        "              \"The decrease in energy prices helped keep inflation in check by reducing the overall cost of energy-related goods and services. Specifically, gasoline prices fell by 6% and fuel oil prices were down by 2.7%. This decline in energy prices contributed to lower overall inflation as it offset some of the price increases in other categories.\",\n",
        "              \"The consumer price index increased by 0.1% in November.\"]"
      ],
      "metadata": {
        "id": "ndhFqL7DP8Uj"
      },
      "execution_count": 74,
      "outputs": []
    },
    {
      "cell_type": "code",
      "source": [
        "# Prediksi typeset.io\n",
        "predictions_other = [\"Title of the news report: Inflation slowed to a 3.1% annual rate in November\",\n",
        "              \"The provided sources do not mention the specific date of when the news report was published.\",\n",
        "              \"Gasoline and Fuel Oil Price Decrease: Gasoline prices fell by 6% in November, contributing to a decrease in energy prices. Fuel oil prices were down by 2.7% in November, further contributing to the decrease in energy prices. Note: The provided sources do not mention the percentage decrease in gasoline and fuel oil prices on an annual basis.\",\n",
        "              \"Decrease in Energy Prices and Inflation: The decrease in energy prices, specifically a 2.3% decrease, helped keep inflation in check. This was primarily driven by a 6% decrease in gasoline prices and a 2.7% decrease in fuel oil prices. The decline in energy prices contributed to overall inflation remaining relatively low. It helped offset any potential upward pressure on prices that could have resulted from other factors. The decrease in energy prices played a significant role in keeping inflation in check, as energy costs are a major component of overall consumer prices. The impact of the decrease in energy prices on inflation was evident in the consumer price index, which increased by only 0.1% in November. The decline in energy prices also contributed to the core consumer price index, which excludes volatile food and energy prices, increasing by 0.3% on the month. Overall, the decrease in energy prices helped to mitigate inflationary pressures and contributed to the stability of consumer prices.\",\n",
        "              \"Consumer Price Index Increase in November: The consumer price index (CPI) increased by 0.1% in November, according to the provided sources. This indicates a slight uptick in consumer prices during that month. The CPI measures the average change over time in the prices paid by urban consumers for a market basket of consumer goods and services. The 0.1% increase in the CPI suggests a modest rise in overall consumer prices. It is important to note that this increase is specific to the month of November and does not provide information about long-term trends in inflation. For a more comprehensive understanding of inflation, policymakers often focus on core inflation, which excludes volatile food and energy prices. The core CPI increased by 0.3% on the month, indicating a slightly higher rate of inflation when excluding these volatile components.\"]"
      ],
      "metadata": {
        "id": "M9aa9dLCP8XL"
      },
      "execution_count": 75,
      "outputs": []
    },
    {
      "cell_type": "code",
      "source": [
        "# ROUGE : RAG x Ground Truth\n",
        "# versi hunggingface (terbaru) = nilai ROUGE adalah nilai f1-score, dan tidak menampilkan precison & recall\n",
        "import evaluate\n",
        "rouge = evaluate.load(\"rouge\")\n",
        "results = rouge.compute(predictions=predictions_rag, references=references)\n",
        "print(results)"
      ],
      "metadata": {
        "id": "zl0S7go9RtHV",
        "colab": {
          "base_uri": "https://localhost:8080/"
        },
        "outputId": "c4fe20eb-5af2-49cb-e71c-054d85f997ac"
      },
      "execution_count": 76,
      "outputs": [
        {
          "output_type": "stream",
          "name": "stdout",
          "text": [
            "{'rouge1': 0.4067796610169491, 'rouge2': 0.2691717171717172, 'rougeL': 0.39563907746257254, 'rougeLsum': 0.39563907746257254}\n"
          ]
        }
      ]
    },
    {
      "cell_type": "code",
      "source": [
        "# ROUGE : RAG x Ground Truth\n",
        "# versi ROUGE sebelumnya (paper) yang menampilkan precision, recall, dan f1-score\n",
        "from rouge import Rouge\n",
        "rouge = Rouge()\n",
        "rouge.get_scores(references, predictions_rag, avg=True)"
      ],
      "metadata": {
        "id": "6eItlxlxRtKQ",
        "colab": {
          "base_uri": "https://localhost:8080/"
        },
        "outputId": "a6260137-2617-4a9e-a847-f7f0a70269fa"
      },
      "execution_count": 77,
      "outputs": [
        {
          "output_type": "execute_result",
          "data": {
            "text/plain": [
              "{'rouge-1': {'r': 0.3106442577030812, 'p': 0.82, 'f': 0.4180652647210928},\n",
              " 'rouge-2': {'r': 0.19416666666666668,\n",
              "  'p': 0.6222222222222222,\n",
              "  'f': 0.27472726991313146},\n",
              " 'rouge-l': {'r': 0.3106442577030812, 'p': 0.82, 'f': 0.4180652647210928}}"
            ]
          },
          "metadata": {},
          "execution_count": 77
        }
      ]
    },
    {
      "cell_type": "code",
      "source": [
        "# ROUGE : Other x Ground Truth\n",
        "# versi hunggingface (terbaru) = nilai ROUGE adalah nilai f1-score, dan tidak menampilkan precison & recall\n",
        "import evaluate\n",
        "rouge = evaluate.load(\"rouge\")\n",
        "results = rouge.compute(predictions=predictions_other, references=references)\n",
        "print(results)"
      ],
      "metadata": {
        "id": "Fz7OIi1VRtP3",
        "colab": {
          "base_uri": "https://localhost:8080/"
        },
        "outputId": "3b86c0cd-748f-4fd5-e207-c72400872746"
      },
      "execution_count": 78,
      "outputs": [
        {
          "output_type": "stream",
          "name": "stdout",
          "text": [
            "{'rouge1': 0.21748304550798983, 'rouge2': 0.1795520421607378, 'rougeL': 0.21075730891158856, 'rougeLsum': 0.21075730891158861}\n"
          ]
        }
      ]
    },
    {
      "cell_type": "code",
      "source": [
        "# ROUGE : Other x Ground Truth\n",
        "# versi ROUGE sebelumnya (paper) yang menampilkan precision, recall, dan f1-score\n",
        "from rouge import Rouge\n",
        "rouge = Rouge()\n",
        "rouge.get_scores(references, predictions_other, avg=True)"
      ],
      "metadata": {
        "id": "Jc1yqmQIRtSx",
        "colab": {
          "base_uri": "https://localhost:8080/"
        },
        "outputId": "981b8c10-bed3-498c-fa1a-ee6afe73db2e"
      },
      "execution_count": 79,
      "outputs": [
        {
          "output_type": "execute_result",
          "data": {
            "text/plain": [
              "{'rouge-1': {'r': 0.18448536367753016, 'p': 0.76, 'f': 0.24435972450247342},\n",
              " 'rouge-2': {'r': 0.14356806156806157,\n",
              "  'p': 0.6666666666666666,\n",
              "  'f': 0.18280941591998462},\n",
              " 'rouge-l': {'r': 0.18448536367753016, 'p': 0.76, 'f': 0.24435972450247342}}"
            ]
          },
          "metadata": {},
          "execution_count": 79
        }
      ]
    },
    {
      "cell_type": "markdown",
      "source": [
        "**Report 2**"
      ],
      "metadata": {
        "id": "BrubEvOLP8eL"
      }
    },
    {
      "cell_type": "code",
      "source": [
        "# Ground Truth\n",
        "references = [\"Nvidia to launch slower version of its gaming chip in China to comply with U.S. export controls\",\n",
        "              \"December 29, 2023\",\n",
        "              \"11%\",\n",
        "              \"Yes, Nvidia RTX 4090 was included on the list of banned U.S made chips\",\n",
        "              \" rush of demand for AI, OpenAI’s ChatGPT chatbot.\"]"
      ],
      "metadata": {
        "id": "6rvj030BP9i7"
      },
      "execution_count": 80,
      "outputs": []
    },
    {
      "cell_type": "code",
      "source": [
        "# Prediksi RAG\n",
        "predictions_rag = [\"The title of the news report is Nvidia to launch slower version of its gaming chip in China to comply with U.S. export controls\",\n",
        "              \"The news report titled Nvidia to launch slower version of its gaming chip in China to comply with U.S. export controls was published on Friday, December 29, 2023.\",\n",
        "              \"The Nvidia RTX 4090D for Chinese consumers has 11% fewer CUDA cores than versions sold outside of China.\",\n",
        "              \"Based on the information provided, the Nvidia RTX 4090 is not explicitly mentioned as being banned in the US in the Securities and Exchange Commission filing.\",\n",
        "              \"The company, Nvidia, benefits the most from the demand in the artificial intelligence (AI) sector of the market. The rush of demand for AI, including the buzz caused by OpenAI's ChatGPT chatbot, has contributed to the significant increase in Nvidia's stock price. Additionally, the export restrictions imposed by the U.S. on China primarily target chips that enable AI applications, which indicates the importance of the AI sector for Nvidia's business.\"]"
      ],
      "metadata": {
        "id": "4e1J86Q4P9y1"
      },
      "execution_count": 81,
      "outputs": []
    },
    {
      "cell_type": "code",
      "source": [
        "# Prediksi typeset.io\n",
        "predictions_other = [\"Title: Nvidia to launch slower version of its gaming chip in China to comply with U.S. export controls.\",\n",
        "              \"The news about Nvidia launching a slower version of its gaming chip in China to comply with U.S. export controls was published on an unspecified date.\",\n",
        "              \"The percentage difference in CUDA cores on the Nvidia RTX 4090D for Chinese and non-Chinese consumers is 11 fewer cores for the Chinese version\",\n",
        "              \"No, the Nvidia RTX 4090 is not explicitly mentioned as being banned in the US based on the Securities and Exchange Commission (SEC) filing. However, the export rules mentioned in the filing primarily target chips that enable AI applications, and gaming-focused processors like the Nvidia RTX 4090 are also affected as they have potential uses in artificial intelligence. Nvidia has taken steps to comply with US government export controls by launching a slower version of the chip, the Nvidia RTX 4090D, in China. The Chinese version of the chip has 11 fewer CUDA cores compared to versions sold outside of China. This modification is likely designed to ensure compliance with US export controls.\",\n",
        "              \"Nvidia benefits the most from the gaming sector of the market demand. Nvidia's RTX line of advanced gaming GPUs, including the Nvidia RTX 4090D, is designed for gaming applications. The company's CUDA architecture, which is equivalent to CPU cores, is primarily used for gaming graphics processing units (GPUs). While the export restrictions imposed by the US primarily target chips enabling AI applications, gaming-focused processors like Nvidia's RTX chips are also affected as they have potential uses in artificial intelligence. Nvidia has developed the Nvidia RTX 4090D, a slower version of its gaming chip, specifically for the Chinese market to comply with US export controls. The modification in the Chinese version of the chip includes 11 fewer CUDA cores compared to versions sold outside of China. Overall, Nvidia's gaming-focused processors, such as the Nvidia RTX 4090D, cater to the demands of the gaming sector in the market.\"]"
      ],
      "metadata": {
        "id": "xldnpe1lP91N"
      },
      "execution_count": 82,
      "outputs": []
    },
    {
      "cell_type": "code",
      "source": [
        "# ROUGE : RAG x Ground Truth\n",
        "# versi hunggingface (terbaru) = nilai ROUGE adalah nilai f1-score, dan tidak menampilkan precison & recall\n",
        "import evaluate\n",
        "rouge = evaluate.load(\"rouge\")\n",
        "results = rouge.compute(predictions=predictions_rag, references=references)\n",
        "print(results)"
      ],
      "metadata": {
        "id": "6xDV6ZRpRuJD",
        "colab": {
          "base_uri": "https://localhost:8080/"
        },
        "outputId": "077fdbb5-64bc-480b-f36a-664985af6bb8"
      },
      "execution_count": 83,
      "outputs": [
        {
          "output_type": "stream",
          "name": "stdout",
          "text": [
            "{'rouge1': 0.3266202943547183, 'rouge2': 0.25405878674171356, 'rougeL': 0.30839237626386967, 'rougeLsum': 0.30839237626386967}\n"
          ]
        }
      ]
    },
    {
      "cell_type": "code",
      "source": [
        "# ROUGE : RAG x Ground Truth\n",
        "# versi ROUGE sebelumnya (paper) yang menampilkan precision, recall, dan f1-score\n",
        "from rouge import Rouge\n",
        "rouge = Rouge()\n",
        "rouge.get_scores(references, predictions_rag, avg=True)"
      ],
      "metadata": {
        "id": "bWcI-uezRuL4",
        "colab": {
          "base_uri": "https://localhost:8080/"
        },
        "outputId": "4aa28dc8-e159-4692-fdfa-a9fd91ac80cf"
      },
      "execution_count": 84,
      "outputs": [
        {
          "output_type": "execute_result",
          "data": {
            "text/plain": [
              "{'rouge-1': {'r': 0.25798814711858187,\n",
              "  'p': 0.8300000000000001,\n",
              "  'f': 0.3346271709101556},\n",
              " 'rouge-2': {'r': 0.19254658385093168,\n",
              "  'p': 0.5571428571428572,\n",
              "  'f': 0.24515190166564546},\n",
              " 'rouge-l': {'r': 0.2398063289367637,\n",
              "  'p': 0.8033333333333333,\n",
              "  'f': 0.313005549288534}}"
            ]
          },
          "metadata": {},
          "execution_count": 84
        }
      ]
    },
    {
      "cell_type": "code",
      "source": [
        "# ROUGE : Other x Ground Truth\n",
        "# versi hunggingface (terbaru) = nilai ROUGE adalah nilai f1-score, dan tidak menampilkan precison & recall\n",
        "import evaluate\n",
        "rouge = evaluate.load(\"rouge\")\n",
        "results = rouge.compute(predictions=predictions_other, references=references)\n",
        "print(results)"
      ],
      "metadata": {
        "id": "5g761nkLRuQz",
        "colab": {
          "base_uri": "https://localhost:8080/"
        },
        "outputId": "f361b568-1df7-4528-a158-2978ebe899de"
      },
      "execution_count": 85,
      "outputs": [
        {
          "output_type": "stream",
          "name": "stdout",
          "text": [
            "{'rouge1': 0.24720777177804476, 'rouge2': 0.20373453318335208, 'rougeL': 0.24100622139044786, 'rougeLsum': 0.24100622139044786}\n"
          ]
        }
      ]
    },
    {
      "cell_type": "code",
      "source": [
        "# ROUGE : Other x Ground Truth\n",
        "# versi ROUGE sebelumnya (paper) yang menampilkan precision, recall, dan f1-score\n",
        "from rouge import Rouge\n",
        "rouge = Rouge()\n",
        "rouge.get_scores(references, predictions_other, avg=True)"
      ],
      "metadata": {
        "id": "e4qVc5w5RuTV",
        "colab": {
          "base_uri": "https://localhost:8080/"
        },
        "outputId": "1992c4f5-bad0-4e7a-ead7-722a9e542000"
      },
      "execution_count": 86,
      "outputs": [
        {
          "output_type": "execute_result",
          "data": {
            "text/plain": [
              "{'rouge-1': {'r': 0.2161432824354173,\n",
              "  'p': 0.38166666666666665,\n",
              "  'f': 0.24106544861389492},\n",
              " 'rouge-2': {'r': 0.19477124183006536,\n",
              "  'p': 0.24285714285714283,\n",
              "  'f': 0.20463054044824286},\n",
              " 'rouge-l': {'r': 0.2135791798713147,\n",
              "  'p': 0.36833333333333335,\n",
              "  'f': 0.23676437334507772}}"
            ]
          },
          "metadata": {},
          "execution_count": 86
        }
      ]
    },
    {
      "cell_type": "markdown",
      "source": [
        "**Report 3**"
      ],
      "metadata": {
        "id": "NnbLg40bP-H8"
      }
    },
    {
      "cell_type": "code",
      "source": [
        "# Ground Truth\n",
        "references = [\"Unemployment among Asian workers and Black men rises in November while the overall rate declines\",\n",
        "              \"December 8, 2023\",\n",
        "              \"LISA KAILAI HAN\",\n",
        "              \"0.2% \",\n",
        "              \"That uptick in unemployment is not because more Asian workers are flooding into the labor market, feeling optimistic about getting jobs. It’s actually accompanied by a fall in participation as well as a fall in employment\"]"
      ],
      "metadata": {
        "id": "XOF2FrAIP_Us"
      },
      "execution_count": 87,
      "outputs": []
    },
    {
      "cell_type": "code",
      "source": [
        "# Prediksi RAG\n",
        "predictions_rag = [\"The main topic of the news report is the unemployment rates among different demographic groups in the U.S., specifically focusing on the rise in unemployment among Asian workers and Black men in November, while the overall unemployment rate declined.\",\n",
        "              \"The news was published on Friday, December 8, 2023.\",\n",
        "              \"The writer of the news is Lisa Kailai Han.\",\n",
        "              \"The unemployment rate declined by 0.2% last month.\",\n",
        "              \"Elise Gould stated, That uptick in unemployment is not because more Asian workers are flooding into the labor market, feeling optimistic about getting jobs. It’s actually accompanied by a fall in participation as well as a fall in employment.\"]"
      ],
      "metadata": {
        "id": "LvsS_gaFP_1s"
      },
      "execution_count": 88,
      "outputs": []
    },
    {
      "cell_type": "code",
      "source": [
        "# Prediksi typeset.io\n",
        "predictions_other = [\"Main Topic of the News Report: Unemployment Rates among Asian Workers and Black Men in November. The overall unemployment rate declined to 3.7% in November, against a forecast of 3.9%. Asian Americans saw a 0.4 percentage-point jump in the unemployment rate to 3.5%. The unemployment rate for Black Americans held steady at 5.8%, which is the demographic with the highest jobless percentage in the U.S. The increase in unemployment among Asian workers is accompanied by a fall in participation and employment. Black Americans were hit harder by business shutdowns during the Covid-19 pandemic, with a peak unemployment rate of 16.8% in 2020. The labor market deteriorated for both Asian and Black workers in November. The overall unemployment rate declined to 3.7% in November, and the labor force participation rate ticked up to 62.8% with a surge of 532,000 workers entering the labor force.\",\n",
        "              \"The provided sources do not mention the specific date of when the news was published.\",\n",
        "              \"The news report does not provide information about the specific author or authors of the report.\",\n",
        "              \"The overall unemployment rate declined by 0.2% last month.\",\n",
        "              \"Elise Gould, senior economist at the Economic Policy Institute, told CNBC that the uptick in unemployment among Asian workers and Black men is not due to more workers entering the labor market with optimism about finding jobs. She mentioned that the increase in unemployment is accompanied by a fall in participation as well as a fall in employment. She also highlighted that the unemployment rate for Black Americans, the demographic with the highest jobless percentage in the U.S., held steady at 5.8%. Additionally, she noted that the unemployment rate for Black men age 20 or older spiked to 6.4% from October's 5.3%, while the participation rate for this cohort increased to 69.2% from 67.5%.\"]"
      ],
      "metadata": {
        "id": "KvZN2yfxP_4L"
      },
      "execution_count": 89,
      "outputs": []
    },
    {
      "cell_type": "code",
      "source": [
        "# ROUGE : RAG x Ground Truth\n",
        "# versi hunggingface (terbaru) = nilai ROUGE adalah nilai f1-score, dan tidak menampilkan precison & recall\n",
        "import evaluate\n",
        "rouge = evaluate.load(\"rouge\")\n",
        "results = rouge.compute(predictions=predictions_rag, references=references)\n",
        "print(results)"
      ],
      "metadata": {
        "id": "3Flyc5wNRvLe",
        "colab": {
          "base_uri": "https://localhost:8080/"
        },
        "outputId": "b28b5c3a-0ed6-48d5-ff09-b92e8ddcb40f"
      },
      "execution_count": 90,
      "outputs": [
        {
          "output_type": "stream",
          "name": "stdout",
          "text": [
            "{'rouge1': 0.5594805194805195, 'rouge2': 0.47191614255765196, 'rougeL': 0.5594805194805195, 'rougeLsum': 0.5594805194805195}\n"
          ]
        }
      ]
    },
    {
      "cell_type": "code",
      "source": [
        "# ROUGE : RAG x Ground Truth\n",
        "# versi ROUGE sebelumnya (paper) yang menampilkan precision, recall, dan f1-score\n",
        "from rouge import Rouge\n",
        "rouge = Rouge()\n",
        "rouge.get_scores(references, predictions_rag, avg=True)"
      ],
      "metadata": {
        "id": "spQwMCf5RvOQ",
        "colab": {
          "base_uri": "https://localhost:8080/"
        },
        "outputId": "e0e23272-59f2-4eae-c4b5-9cb237d7b6a7"
      },
      "execution_count": 91,
      "outputs": [
        {
          "output_type": "execute_result",
          "data": {
            "text/plain": [
              "{'rouge-1': {'r': 0.3622140522875817,\n",
              "  'p': 0.7466666666666667,\n",
              "  'f': 0.4571135215610166},\n",
              " 'rouge-2': {'r': 0.29333333333333333, 'p': 0.7, 'f': 0.3676006413210363},\n",
              " 'rouge-l': {'r': 0.3622140522875817,\n",
              "  'p': 0.7466666666666667,\n",
              "  'f': 0.4571135215610166}}"
            ]
          },
          "metadata": {},
          "execution_count": 91
        }
      ]
    },
    {
      "cell_type": "code",
      "source": [
        "# ROUGE : Other x Ground Truth\n",
        "# versi hunggingface (terbaru) = nilai ROUGE adalah nilai f1-score, dan tidak menampilkan precison & recall\n",
        "import evaluate\n",
        "rouge = evaluate.load(\"rouge\")\n",
        "results = rouge.compute(predictions=predictions_other, references=references)\n",
        "print(results)"
      ],
      "metadata": {
        "id": "PbIvmyMFRvUG",
        "colab": {
          "base_uri": "https://localhost:8080/"
        },
        "outputId": "02b38a12-51d8-4f76-c809-aefcce138f5c"
      },
      "execution_count": 92,
      "outputs": [
        {
          "output_type": "stream",
          "name": "stdout",
          "text": [
            "{'rouge1': 0.1615686274509804, 'rouge2': 0.10776556776556775, 'rougeL': 0.16072474559444033, 'rougeLsum': 0.16072474559444033}\n"
          ]
        }
      ]
    },
    {
      "cell_type": "code",
      "source": [
        "# ROUGE : Other x Ground Truth\n",
        "# versi ROUGE sebelumnya (paper) yang menampilkan precision, recall, dan f1-score\n",
        "from rouge import Rouge\n",
        "rouge = Rouge()\n",
        "rouge.get_scores(references, predictions_other, avg=True)"
      ],
      "metadata": {
        "id": "w5zsdxbHRvXC",
        "colab": {
          "base_uri": "https://localhost:8080/"
        },
        "outputId": "789b56e5-c9ef-42cf-cf17-be8f86b2b411"
      },
      "execution_count": 93,
      "outputs": [
        {
          "output_type": "execute_result",
          "data": {
            "text/plain": [
              "{'rouge-1': {'r': 0.11594098163203855,\n",
              "  'p': 0.4756989247311828,\n",
              "  'f': 0.18329645829778834},\n",
              " 'rouge-2': {'r': 0.05805340223944875,\n",
              "  'p': 0.3541125541125541,\n",
              "  'f': 0.09657888068046136},\n",
              " 'rouge-l': {'r': 0.11350195724179464,\n",
              "  'p': 0.469247311827957,\n",
              "  'f': 0.17975663528893876}}"
            ]
          },
          "metadata": {},
          "execution_count": 93
        }
      ]
    },
    {
      "cell_type": "markdown",
      "source": [
        "**Report 4**"
      ],
      "metadata": {
        "id": "QMSey_uHP_-o"
      }
    },
    {
      "cell_type": "code",
      "source": [
        "# Ground Truth\n",
        "references = [\"Tesla reported delivery and production numbers for the fourth quarter\",\n",
        "              \"January 2, 2024\",\n",
        "              \"Total deliveries Q4 2023 is 484.507,  Total production Q4 2023 is 494.989, Total annual deliveries 2023 is 1.808.581, Total annual production 2023 is 1.845.985\",\n",
        "              \"1.31 million deliveries, and 1.37 million production\",\n",
        "              \"3.02 million\"]"
      ],
      "metadata": {
        "id": "QJBozETvQBPW"
      },
      "execution_count": 94,
      "outputs": []
    },
    {
      "cell_type": "code",
      "source": [
        "# Prediksi RAG\n",
        "predictions_rag = [\"The main topic of the news is Tesla's delivery and production numbers, as well as their plans for future growth and their competition in the electric vehicle market.\",\n",
        "              \"The news report was published on Tuesday, January 2, 2024.\",\n",
        "              \"The key numbers from Tesla's fourth-quarter vehicle production and deliveries report for 2023 are as follows: Total deliveries Q4 2023: 484,507 Total production Q4 2023: 494,989 Total annual deliveries 2023: 1,808,581 Total annual production 2023: 1,845,985\",\n",
        "              \"In 2022, Tesla reported annual deliveries of 1.31 million electric vehicles and production of 1.37 million electric vehicles.\",\n",
        "              \"BYD sold 3.02 million new energy vehicles in 2023.\"]"
      ],
      "metadata": {
        "id": "FcCMMnZMQBvS"
      },
      "execution_count": 95,
      "outputs": []
    },
    {
      "cell_type": "code",
      "source": [
        "# Prediksi typeset.io\n",
        "predictions_other = [\"Main Topic of the News: Tesla's Fourth Quarter Deliveries and Total Deliveries for 2023. Tesla reported 485,000 deliveries for the fourth quarter of 2023, bringing the total deliveries for the year to 1.8 million. The company's CEO, Elon Musk, had previously stated that the Model Y would likely be the bestselling car in terms of unit volume for the year. Tesla implemented a strategy of slashing prices in the last quarter of 2023 to cope with economic uncertainty and shifting consumer sentiment. Tesla's biggest competitor, Chinese automaker BYD, sold 3.02 million new energy vehicles in 2023. Tesla began advertising campaigns in the second half of 2023, a departure from its previous nontraditional marketing efforts. Analysts had expected Tesla to report deliveries of 477,000 for the year-ending quarter.\",\n",
        "              \"Publication Date of the News: January 2, 2024\",\n",
        "              \"Key Numbers of Tesla's Fourth-Quarter Vehicle Production and Deliveries Report for 2023: Tesla reported 485,000 deliveries for the fourth quarter of 2023, bringing the total deliveries for the year to 1.8 million. Tesla produced 476,777 Model 3 and Model Y vehicles during the quarter and reported 461,538 deliveries for these models. The company did not provide specific production or delivery numbers for the Model S or Model X, instead categorizing them as Other Models. It produced 18,212 other models and delivered 22,969 during the quarter. Note: The sources do not provide a breakdown of delivery and production numbers by individual model, so the specific numbers for the Model Y, Model S, and Model X are not available.\",\n",
        "              \"Tesla's report for 2022 does not exist in the provided sources.\",\n",
        "              \"Chinese automaker BYD sold 3.02 million new energy vehicles in 2023. Of these, 1.6 million were battery-electric passenger cars, and 1.4 million were hybrid electric models. BYD's sales figures indicate a significant presence in the new energy vehicle market, highlighting the company's commitment to sustainable transportation solutions\"]"
      ],
      "metadata": {
        "id": "v-1X1tNIQBx9"
      },
      "execution_count": 97,
      "outputs": []
    },
    {
      "cell_type": "code",
      "source": [
        "# ROUGE : RAG x Ground Truth\n",
        "# versi hunggingface (terbaru) = nilai ROUGE adalah nilai f1-score, dan tidak menampilkan precison & recall\n",
        "import evaluate\n",
        "rouge = evaluate.load(\"rouge\")\n",
        "results = rouge.compute(predictions=predictions_rag, references=references)\n",
        "print(results)"
      ],
      "metadata": {
        "id": "9NwuDIlxRwnL",
        "colab": {
          "base_uri": "https://localhost:8080/"
        },
        "outputId": "053e876c-487f-47bf-8348-3763565fd4a1"
      },
      "execution_count": 98,
      "outputs": [
        {
          "output_type": "stream",
          "name": "stdout",
          "text": [
            "{'rouge1': 0.5210887279852797, 'rouge2': 0.35381290381290376, 'rougeL': 0.49350252108872794, 'rougeLsum': 0.49350252108872794}\n"
          ]
        }
      ]
    },
    {
      "cell_type": "code",
      "source": [
        "# ROUGE : RAG x Ground Truth\n",
        "# versi ROUGE sebelumnya (paper) yang menampilkan precision, recall, dan f1-score\n",
        "from rouge import Rouge\n",
        "rouge = Rouge()\n",
        "rouge.get_scores(references, predictions_rag, avg=True)"
      ],
      "metadata": {
        "id": "WW2IP8UWRwp5",
        "colab": {
          "base_uri": "https://localhost:8080/"
        },
        "outputId": "5c6ed7e3-bf92-48f3-8303-c50d4bfe851d"
      },
      "execution_count": 99,
      "outputs": [
        {
          "output_type": "execute_result",
          "data": {
            "text/plain": [
              "{'rouge-1': {'r': 0.29166666666666663,\n",
              "  'p': 0.7464285714285714,\n",
              "  'f': 0.4125298190397217},\n",
              " 'rouge-2': {'r': 0.19612794612794612,\n",
              "  'p': 0.6053140096618358,\n",
              "  'f': 0.28434343054635064},\n",
              " 'rouge-l': {'r': 0.2833333333333333,\n",
              "  'p': 0.7339285714285715,\n",
              "  'f': 0.40252981903972174}}"
            ]
          },
          "metadata": {},
          "execution_count": 99
        }
      ]
    },
    {
      "cell_type": "code",
      "source": [
        "# ROUGE : Other x Ground Truth\n",
        "# versi hunggingface (terbaru) = nilai ROUGE adalah nilai f1-score, dan tidak menampilkan precison & recall\n",
        "import evaluate\n",
        "rouge = evaluate.load(\"rouge\")\n",
        "results = rouge.compute(predictions=predictions_other, references=references)\n",
        "print(results)"
      ],
      "metadata": {
        "id": "-HW_JdfvRwuv",
        "colab": {
          "base_uri": "https://localhost:8080/"
        },
        "outputId": "aa60f8ef-b366-4c6f-8f5b-7cc9a645d831"
      },
      "execution_count": 100,
      "outputs": [
        {
          "output_type": "stream",
          "name": "stdout",
          "text": [
            "{'rouge1': 0.16969157649914046, 'rouge2': 0.1138808903514786, 'rougeL': 0.16362292879534257, 'rougeLsum': 0.1634536931366742}\n"
          ]
        }
      ]
    },
    {
      "cell_type": "code",
      "source": [
        "# ROUGE : Other x Ground Truth\n",
        "# versi ROUGE sebelumnya (paper) yang menampilkan precision, recall, dan f1-score\n",
        "from rouge import Rouge\n",
        "rouge = Rouge()\n",
        "rouge.get_scores(references, predictions_other, avg=True)"
      ],
      "metadata": {
        "id": "zz83jHKORwxe",
        "colab": {
          "base_uri": "https://localhost:8080/"
        },
        "outputId": "af60a44b-94b0-4340-d53a-5c5ceb71941d"
      },
      "execution_count": 101,
      "outputs": [
        {
          "output_type": "execute_result",
          "data": {
            "text/plain": [
              "{'rouge-1': {'r': 0.11330291330291328, 'p': 0.5775, 'f': 0.1776623356688551},\n",
              " 'rouge-2': {'r': 0.07237618451635973,\n",
              "  'p': 0.48888888888888893,\n",
              "  'f': 0.11771541839169974},\n",
              " 'rouge-l': {'r': 0.11330291330291328, 'p': 0.5775, 'f': 0.1776623356688551}}"
            ]
          },
          "metadata": {},
          "execution_count": 101
        }
      ]
    },
    {
      "cell_type": "markdown",
      "source": [
        "**Report 5**"
      ],
      "metadata": {
        "id": "xF-aBpLIQB6M"
      }
    },
    {
      "cell_type": "code",
      "source": [
        "# Ground Truth\n",
        "references = [\"Copper could skyrocket over 75% to record highs by 2025 — brace for deficits, analysts say\",\n",
        "              \"January 2, 2024\",\n",
        "              \"LEE YING SHAN\",\n",
        "              \"$8,559 a ton\",\n",
        "              \"Rising demand driven by the green energy transition and a likely decline in the U.S. dollar in the second half of 2024\"]"
      ],
      "metadata": {
        "id": "l_6Ckl18QDoi"
      },
      "execution_count": 102,
      "outputs": []
    },
    {
      "cell_type": "code",
      "source": [
        "# Prediksi RAG\n",
        "predictions_rag = [\"The title of the news report is Copper could skyrocket over 75% to record highs by 2025 — brace for deficits, analysts say.\",\n",
        "              \"The news report was published on Tuesday, January 2, 2024.\",\n",
        "              \"The writer who published the news report is Lee Ying Shan.\",\n",
        "              \"The last price of copper on the London Metal Exchange was $8,559 per ton.\",\n",
        "              \"According to the report by BMI, the rise in copper prices is attributed to two main factors: mining supply disruptions and higher demand for the metal. The disruptions in mining supply and the increasing demand are both fueled by the push for renewable energy. Additionally, the likely decline in the U.S. dollar in the second half of 2024 is also expected to contribute to the increase in copper prices.\"]"
      ],
      "metadata": {
        "id": "5g6J2VuSQEG3"
      },
      "execution_count": 103,
      "outputs": []
    },
    {
      "cell_type": "code",
      "source": [
        "# Prediksi typeset.io\n",
        "predictions_other = [\"Title of the news report: Copper could skyrocket over 75% to record highs by 2025 - brace for deficits, analysts say Copper is headed for a price spurt over the next two years, as mining supply disruptions coincide with higher demand for the metal. Copper prices on the London Metal Exchange last saw an all-time record high of 10,730 per ton in March last year.\",\n",
        "              \"The news report does not provide the specific date of publication.\",\n",
        "              \"The information provided does not mention the name of the writer or author who published the news report.\",\n",
        "              \"The last price of copper on the London Metal Exchange was 8,559 per ton\",\n",
        "              \"According to a report by BMI, a Fitch Solutions research unit, the following factors caused copper prices to rise: Mining supply disruptions: The report highlights that mining supply disruptions have contributed to the increase in copper prices. Higher demand driven by the green energy transition: The push for renewable energy has led to a rise in demand for copper, as it is a key component in renewable energy infrastructure. The report suggests that this increased demand has played a significant role in driving up copper prices. Decline in the U.S. dollar strength: The report predicts a likely decline in the strength of the U.S. dollar in the second half of 2024. A weaker U.S. dollar makes copper, priced in greenbacks, more attractive to foreign buyers, further supporting the increase in copper prices. The report also mentions that the positive view for copper is more influenced by macro factors such as potential Fed rate cuts and a weaker U.S. dollar.\"]"
      ],
      "metadata": {
        "id": "y8wan8ITQEJm"
      },
      "execution_count": 104,
      "outputs": []
    },
    {
      "cell_type": "code",
      "source": [
        "# ROUGE : RAG x Ground Truth\n",
        "# versi hunggingface (terbaru) = nilai ROUGE adalah nilai f1-score, dan tidak menampilkan precison & recall\n",
        "import evaluate\n",
        "rouge = evaluate.load(\"rouge\")\n",
        "results = rouge.compute(predictions=predictions_rag, references=references)\n",
        "print(results)"
      ],
      "metadata": {
        "id": "SmlQoB6nRx3v",
        "colab": {
          "base_uri": "https://localhost:8080/"
        },
        "outputId": "77556103-12a3-488d-c796-849abb35102b"
      },
      "execution_count": 105,
      "outputs": [
        {
          "output_type": "stream",
          "name": "stdout",
          "text": [
            "{'rouge1': 0.48076138975969196, 'rouge2': 0.3800662083015024, 'rougeL': 0.46986690789746816, 'rougeLsum': 0.473093336251231}\n"
          ]
        }
      ]
    },
    {
      "cell_type": "code",
      "source": [
        "# ROUGE : RAG x Ground Truth\n",
        "# versi ROUGE sebelumnya (paper) yang menampilkan precision, recall, dan f1-score\n",
        "from rouge import Rouge\n",
        "rouge = Rouge()\n",
        "rouge.get_scores(references, predictions_rag, avg=True)"
      ],
      "metadata": {
        "id": "6v4TrNImRx6m",
        "colab": {
          "base_uri": "https://localhost:8080/"
        },
        "outputId": "3699401d-65a2-4615-f479-0caf6b741e0d"
      },
      "execution_count": 106,
      "outputs": [
        {
          "output_type": "execute_result",
          "data": {
            "text/plain": [
              "{'rouge-1': {'r': 0.2943685300207039,\n",
              "  'p': 0.6833333333333333,\n",
              "  'f': 0.3957767691361311},\n",
              " 'rouge-2': {'r': 0.21830808080808078,\n",
              "  'p': 0.5142857142857142,\n",
              "  'f': 0.2913600208213972},\n",
              " 'rouge-l': {'r': 0.2943685300207039,\n",
              "  'p': 0.6833333333333333,\n",
              "  'f': 0.3957767691361311}}"
            ]
          },
          "metadata": {},
          "execution_count": 106
        }
      ]
    },
    {
      "cell_type": "code",
      "source": [
        "# ROUGE : Other x Ground Truth\n",
        "# versi hunggingface (terbaru) = nilai ROUGE adalah nilai f1-score, dan tidak menampilkan precison & recall\n",
        "import evaluate\n",
        "rouge = evaluate.load(\"rouge\")\n",
        "results = rouge.compute(predictions=predictions_other, references=references)\n",
        "print(results)"
      ],
      "metadata": {
        "id": "QNMW15aLRx_V",
        "colab": {
          "base_uri": "https://localhost:8080/"
        },
        "outputId": "8398767b-af0f-4953-c786-05c7b40688c9"
      },
      "execution_count": 107,
      "outputs": [
        {
          "output_type": "stream",
          "name": "stdout",
          "text": [
            "{'rouge1': 0.18454379676790542, 'rouge2': 0.13789374858363818, 'rougeL': 0.18239325913349683, 'rougeLsum': 0.18239325913349683}\n"
          ]
        }
      ]
    },
    {
      "cell_type": "code",
      "source": [
        "# ROUGE : Other x Ground Truth\n",
        "# versi ROUGE sebelumnya (paper) yang menampilkan precision, recall, dan f1-score\n",
        "from rouge import Rouge\n",
        "rouge = Rouge()\n",
        "rouge.get_scores(references, predictions_other, avg=True)"
      ],
      "metadata": {
        "id": "qrOERtbZRyCi",
        "colab": {
          "base_uri": "https://localhost:8080/"
        },
        "outputId": "85dd4a0a-cea0-4273-f78d-18c23fa62a8f"
      },
      "execution_count": 108,
      "outputs": [
        {
          "output_type": "execute_result",
          "data": {
            "text/plain": [
              "{'rouge-1': {'r': 0.10897170462387853,\n",
              "  'p': 0.4341666666666667,\n",
              "  'f': 0.17352940989135024},\n",
              " 'rouge-2': {'r': 0.06615691489361701,\n",
              "  'p': 0.34476190476190477,\n",
              "  'f': 0.11026722818798187},\n",
              " 'rouge-l': {'r': 0.10897170462387853,\n",
              "  'p': 0.4341666666666667,\n",
              "  'f': 0.17352940989135024}}"
            ]
          },
          "metadata": {},
          "execution_count": 108
        }
      ]
    },
    {
      "cell_type": "markdown",
      "source": [
        "**Tutorial 1**"
      ],
      "metadata": {
        "id": "wtLRj1ndQEbc"
      }
    },
    {
      "cell_type": "code",
      "source": [
        "# Ground Truth\n",
        "references = [\"BOURBON CHICKEN\",\n",
        "              \"LinMarie\",\n",
        "              \"2 lbs\",\n",
        "              \"yes\",\n",
        "              \"1/2 cup\"]"
      ],
      "metadata": {
        "id": "-SaeTUWPQIlq"
      },
      "execution_count": 109,
      "outputs": []
    },
    {
      "cell_type": "code",
      "source": [
        "# Prediksi RAG\n",
        "predictions_rag = [\"The recipe will result in Bourbon Chicken, a dish made with bite-sized pieces of chicken cooked in a flavorful sauce made with ingredients like garlic, ginger, crushed red pepper flakes, apple juice, brown sugar, ketchup, cider vinegar, water, and soy sauce. It is typically served over hot rice.\",\n",
        "              \"The recipe for Bourbon Chicken was submitted by LinMarie.\",\n",
        "              \"The recipe calls for 2 lbs of boneless chicken breasts, but it does not specify the exact number of chicken breasts needed. The number of chicken breasts required will depend on the size of the individual chicken breasts.\",\n",
        "              \"Yes, olive oil is required for this recipe. It is used to heat in a large skillet before adding the chicken pieces.\",\n",
        "              \"The recipe calls for 1/2 cup of water.\"]"
      ],
      "metadata": {
        "id": "Oz_yJwchQV9D"
      },
      "execution_count": 110,
      "outputs": []
    },
    {
      "cell_type": "code",
      "source": [
        "# Prediksi typeset.io\n",
        "predictions_other = [\"Food Type: Chicken dish. The recipe calls for boneless chicken breasts, which are cut into bite-size pieces and cooked with olive oil.\",\n",
        "              \"There is no information available in the provided sources about who submitted the recipe.\",\n",
        "              \"Number of chicken breasts needed: The recipe calls for 2 lbs of boneless chicken breasts, cut into bite-size pieces.\",\n",
        "              \"Yes, the recipe calls for 1-2 tablespoons of olive oil to be used in cooking the chicken breasts.\",\n",
        "              \"The provided sources do not mention the amount of water needed in the recipe. Therefore, we cannot determine the exact amount of water required based on the given information. Please note that the sources provided do not mention the specific details about the amount of water needed in the recipe. It is possible that the recipe does not require water or that the amount of water needed is not mentioned in the sources provided. To find the exact amount of water needed, it would be helpful to refer to other sources or recipe variations that provide this information.\"]"
      ],
      "metadata": {
        "id": "mkRVkMkfQWA0"
      },
      "execution_count": 111,
      "outputs": []
    },
    {
      "cell_type": "code",
      "source": [
        "# ROUGE : RAG x Ground Truth\n",
        "# versi hunggingface (terbaru) = nilai ROUGE adalah nilai f1-score, dan tidak menampilkan precison & recall\n",
        "import evaluate\n",
        "rouge = evaluate.load(\"rouge\")\n",
        "results = rouge.compute(predictions=predictions_rag, references=references)\n",
        "print(results)"
      ],
      "metadata": {
        "id": "qGYh6CVXRzLW",
        "colab": {
          "base_uri": "https://localhost:8080/"
        },
        "outputId": "d7f2e02d-1278-428c-fc55-d87419f3950b"
      },
      "execution_count": 112,
      "outputs": [
        {
          "output_type": "stream",
          "name": "stdout",
          "text": [
            "{'rouge1': 0.1904688832054561, 'rouge2': 0.09868958109559614, 'rougeL': 0.19137254901960782, 'rougeLsum': 0.19137254901960782}\n"
          ]
        }
      ]
    },
    {
      "cell_type": "code",
      "source": [
        "# ROUGE : RAG x Ground Truth\n",
        "# versi ROUGE sebelumnya (paper) yang menampilkan precision, recall, dan f1-score\n",
        "from rouge import Rouge\n",
        "rouge = Rouge()\n",
        "rouge.get_scores(references, predictions_rag, avg=True)"
      ],
      "metadata": {
        "id": "8j8Z8NL4RzOZ",
        "colab": {
          "base_uri": "https://localhost:8080/"
        },
        "outputId": "58ebb65a-9b1b-4a1a-a23e-0268a7053cf6"
      },
      "execution_count": 113,
      "outputs": [
        {
          "output_type": "execute_result",
          "data": {
            "text/plain": [
              "{'rouge-1': {'r': 0.0876068376068376, 'p': 0.6, 'f': 0.14857142730612244},\n",
              " 'rouge-2': {'r': 0.03463203463203463, 'p': 0.4, 'f': 0.0617647053306661},\n",
              " 'rouge-l': {'r': 0.0876068376068376, 'p': 0.6, 'f': 0.14857142730612244}}"
            ]
          },
          "metadata": {},
          "execution_count": 113
        }
      ]
    },
    {
      "cell_type": "code",
      "source": [
        "# ROUGE : Other x Ground Truth\n",
        "# versi hunggingface (terbaru) = nilai ROUGE adalah nilai f1-score, dan tidak menampilkan precison & recall\n",
        "import evaluate\n",
        "rouge = evaluate.load(\"rouge\")\n",
        "results = rouge.compute(predictions=predictions_other, references=references)\n",
        "print(results)"
      ],
      "metadata": {
        "id": "CaaT1hxKRzUM",
        "colab": {
          "base_uri": "https://localhost:8080/"
        },
        "outputId": "7d45e07b-db8d-42fe-f2cf-5049381b254b"
      },
      "execution_count": 114,
      "outputs": [
        {
          "output_type": "stream",
          "name": "stdout",
          "text": [
            "{'rouge1': 0.07236363636363638, 'rouge2': 0.02, 'rougeL': 0.07236363636363637, 'rougeLsum': 0.07236363636363637}\n"
          ]
        }
      ]
    },
    {
      "cell_type": "code",
      "source": [
        "# ROUGE : Other x Ground Truth\n",
        "# versi ROUGE sebelumnya (paper) yang menampilkan precision, recall, dan f1-score\n",
        "from rouge import Rouge\n",
        "rouge = Rouge()\n",
        "rouge.get_scores(references, predictions_other, avg=True)"
      ],
      "metadata": {
        "id": "55PTfn0WRzXT",
        "colab": {
          "base_uri": "https://localhost:8080/"
        },
        "outputId": "7ff9d286-5b4e-421f-801d-736502f0721f"
      },
      "execution_count": 115,
      "outputs": [
        {
          "output_type": "execute_result",
          "data": {
            "text/plain": [
              "{'rouge-1': {'r': 0.023529411764705882, 'p': 0.2, 'f': 0.04210526278116344},\n",
              " 'rouge-2': {'r': 0.01111111111111111, 'p': 0.2, 'f': 0.021052631379501384},\n",
              " 'rouge-l': {'r': 0.023529411764705882, 'p': 0.2, 'f': 0.04210526278116344}}"
            ]
          },
          "metadata": {},
          "execution_count": 115
        }
      ]
    },
    {
      "cell_type": "markdown",
      "source": [
        "**Tutorial 2**"
      ],
      "metadata": {
        "id": "YEuzoOGwQWcC"
      }
    },
    {
      "cell_type": "code",
      "source": [
        "# Ground Truth\n",
        "references = [\"PANCAKES\",\n",
        "              \"Ellen Brody\",\n",
        "              \"1 teaspoon\",\n",
        "              \"Beat the egg until fluffy\",\n",
        "              \"When bubbles appear on surface and begin to break\"]"
      ],
      "metadata": {
        "id": "WYm0VoDoQYV3"
      },
      "execution_count": 116,
      "outputs": []
    },
    {
      "cell_type": "code",
      "source": [
        "# Prediksi RAG\n",
        "predictions_rag = [\"The recipe is for making pancakes.\",\n",
        "              \"The recipe was submitted by Ellen Brody.\",\n",
        "              \"1 teaspoon of baking powder is needed in this recipe.\",\n",
        "              \"In step 1 of the directions, it says to beat the egg until fluffy.\",\n",
        "              \"You need to flip the pancakes and cook the other side when bubbles appear on the surface and begin to break.\"]"
      ],
      "metadata": {
        "id": "8u30sDG-QYur"
      },
      "execution_count": 117,
      "outputs": []
    },
    {
      "cell_type": "code",
      "source": [
        "# Prediksi typeset.io\n",
        "predictions_other = [\"The recipe does not specify the kind of food that will come out of it.\",\n",
        "              \"The recipe does not provide information about who submitted it.\",\n",
        "              \"The provided sources do not mention the specific amount of baking powder needed in this recipe.\",\n",
        "              \"The provided sources do not mention anything about using eggs in the recipe. Therefore, we cannot determine what to do with the egg based on the given information.\",\n",
        "              \"After pouring a small amount of batter into the pan and spreading it out, we need to wait for bubbles to appear on the surface and begin to break. This is the indication that it is time to turn over and cook the other side of the pancakes.\"]"
      ],
      "metadata": {
        "id": "s5UqB9fJQYxS"
      },
      "execution_count": 118,
      "outputs": []
    },
    {
      "cell_type": "code",
      "source": [
        "# ROUGE : RAG x Ground Truth\n",
        "# versi hunggingface (terbaru) = nilai ROUGE adalah nilai f1-score, dan tidak menampilkan precison & recall\n",
        "import evaluate\n",
        "rouge = evaluate.load(\"rouge\")\n",
        "results = rouge.compute(predictions=predictions_rag, references=references)\n",
        "print(results)"
      ],
      "metadata": {
        "id": "jW0mcgeGR0Pp",
        "colab": {
          "base_uri": "https://localhost:8080/"
        },
        "outputId": "6f8cd6ed-fbe1-4a9d-8322-c3adc9f1febe"
      },
      "execution_count": 119,
      "outputs": [
        {
          "output_type": "stream",
          "name": "stdout",
          "text": [
            "{'rouge1': 0.4319298245614035, 'rouge2': 0.2912605042016806, 'rougeL': 0.43796157059314955, 'rougeLsum': 0.43796157059314955}\n"
          ]
        }
      ]
    },
    {
      "cell_type": "code",
      "source": [
        "# ROUGE : RAG x Ground Truth\n",
        "# versi ROUGE sebelumnya (paper) yang menampilkan precision, recall, dan f1-score\n",
        "from rouge import Rouge\n",
        "rouge = Rouge()\n",
        "rouge.get_scores(references, predictions_rag, avg=True)"
      ],
      "metadata": {
        "id": "AnKboJptR0Sk",
        "colab": {
          "base_uri": "https://localhost:8080/"
        },
        "outputId": "f5440b31-aacf-4635-9df0-b4b7f66943fe"
      },
      "execution_count": 120,
      "outputs": [
        {
          "output_type": "execute_result",
          "data": {
            "text/plain": [
              "{'rouge-1': {'r': 0.2527989657401422,\n",
              "  'p': 0.7377777777777778,\n",
              "  'f': 0.3675213645666594},\n",
              " 'rouge-2': {'r': 0.1617094017094017, 'p': 0.7, 'f': 0.2534453757654148},\n",
              " 'rouge-l': {'r': 0.2527989657401422,\n",
              "  'p': 0.7377777777777778,\n",
              "  'f': 0.3675213645666594}}"
            ]
          },
          "metadata": {},
          "execution_count": 120
        }
      ]
    },
    {
      "cell_type": "code",
      "source": [
        "# ROUGE : Other x Ground Truth\n",
        "# versi hunggingface (terbaru) = nilai ROUGE adalah nilai f1-score, dan tidak menampilkan precison & recall\n",
        "import evaluate\n",
        "rouge = evaluate.load(\"rouge\")\n",
        "results = rouge.compute(predictions=predictions_other, references=references)\n",
        "print(results)"
      ],
      "metadata": {
        "id": "gtJzumdYR0Xa",
        "colab": {
          "base_uri": "https://localhost:8080/"
        },
        "outputId": "bafcf792-6fb1-43bf-8edc-dd9260b3f233"
      },
      "execution_count": 121,
      "outputs": [
        {
          "output_type": "stream",
          "name": "stdout",
          "text": [
            "{'rouge1': 0.08038277511961722, 'rouge2': 0.04926686217008797, 'rougeL': 0.08038277511961722, 'rougeLsum': 0.08038277511961722}\n"
          ]
        }
      ]
    },
    {
      "cell_type": "code",
      "source": [
        "# ROUGE : Other x Ground Truth\n",
        "# versi ROUGE sebelumnya (paper) yang menampilkan precision, recall, dan f1-score\n",
        "from rouge import Rouge\n",
        "rouge = Rouge()\n",
        "rouge.get_scores(references, predictions_other, avg=True)"
      ],
      "metadata": {
        "id": "YRVGCWbbR0ai",
        "colab": {
          "base_uri": "https://localhost:8080/"
        },
        "outputId": "e26318c7-eac3-4a2b-ff71-52b6725e737c"
      },
      "execution_count": 122,
      "outputs": [
        {
          "output_type": "execute_result",
          "data": {
            "text/plain": [
              "{'rouge-1': {'r': 0.060444444444444446,\n",
              "  'p': 0.2577777777777778,\n",
              "  'f': 0.09777777658222224},\n",
              " 'rouge-2': {'r': 0.028684003152088255, 'p': 0.175, 'f': 0.04926686122336617},\n",
              " 'rouge-l': {'r': 0.060444444444444446,\n",
              "  'p': 0.2577777777777778,\n",
              "  'f': 0.09777777658222224}}"
            ]
          },
          "metadata": {},
          "execution_count": 122
        }
      ]
    },
    {
      "cell_type": "markdown",
      "source": [
        "**Tutorial 3**"
      ],
      "metadata": {
        "id": "nccg5vwqQY2X"
      }
    },
    {
      "cell_type": "code",
      "source": [
        "# Ground Truth\n",
        "references = [\"CHICKEN LAZONE\",\n",
        "              \"Luby Luby Luby\",\n",
        "              \"4 whole boneless skinless chicken breasts\",\n",
        "              \"salt, chili powder, onion powder, garlic powder\",\n",
        "              \"Pour the cream into the skillet and lower the heat.\"]"
      ],
      "metadata": {
        "id": "KtDem5-7Qaqt"
      },
      "execution_count": 123,
      "outputs": []
    },
    {
      "cell_type": "code",
      "source": [
        "# Prediksi RAG\n",
        "predictions_rag = [\"This recipe will result in a dish called Chicken LaZone.\",\n",
        "              \"The recipe was submitted by Luby Luby Luby.\",\n",
        "              \"The recipe calls for 4 whole boneless skinless chicken breasts.\",\n",
        "              \"The seasoning ingredients for this recipe are 1 teaspoon salt, 1 1/2 teaspoons chili powder, 1 1/2 teaspoons onion powder, and 2 teaspoons garlic powder.\",\n",
        "              \"After cooking the chicken over medium heat for about 7-8 minutes and turning it once, you need to pour the cream into the skillet and lower the heat. Then, simmer for several minutes, stirring until the sauce thickens. Finally, add the remaining butter and continue stirring until it melts.\"]"
      ],
      "metadata": {
        "id": "S5_CE-pbQbI-"
      },
      "execution_count": 124,
      "outputs": []
    },
    {
      "cell_type": "code",
      "source": [
        "# Prediksi typeset.io\n",
        "predictions_other = [\"Chicken Lazon is a dish that can be made using the provided recipe. It is a savory chicken dish with a creamy sauce. The chicken breasts are seasoned with a mixture of salt, chili powder, onion powder, and garlic powder. The chicken is then cooked in butter until it is cooked through and golden brown on the outside. After the chicken is cooked, heavy cream is added to the skillet and simmered until the sauce thickens. The remaining butter is then added to the sauce. Finally, the chicken breasts are plated and topped with the creamy sauce\",\n",
        "              \"Luby Luby Luby is the name provided as the submitter of the Chicken Lazon recipe\",\n",
        "              \"Chicken Lazon recipe requires 4 whole boneless skinless chicken breasts\",\n",
        "              \"Unable to answer as PDF/webpage could not be processed. Please wait for some time or try on a different PDF/webpage.\",\n",
        "              \"After cooking the chicken over medium heat for about 7-8 minutes and turning it once, you should check the internal temperature of the chicken to ensure it is cooked through. The internal temperature should reach 165°F (74°C) to ensure it is safe to eat. If the chicken has reached the desired temperature, you can remove it from the heat and let it rest for a few minutes before serving.\"]"
      ],
      "metadata": {
        "id": "S5qXvRGbQbMQ"
      },
      "execution_count": 125,
      "outputs": []
    },
    {
      "cell_type": "code",
      "source": [
        "# ROUGE : RAG x Ground Truth\n",
        "# versi hunggingface (terbaru) = nilai ROUGE adalah nilai f1-score, dan tidak menampilkan precison & recall\n",
        "import evaluate\n",
        "rouge = evaluate.load(\"rouge\")\n",
        "results = rouge.compute(predictions=predictions_rag, references=references)\n",
        "print(results)"
      ],
      "metadata": {
        "id": "VjG-QbrIR1gE",
        "colab": {
          "base_uri": "https://localhost:8080/"
        },
        "outputId": "6c8507fd-d844-48a9-f11f-f2d98c0515b0"
      },
      "execution_count": 126,
      "outputs": [
        {
          "output_type": "stream",
          "name": "stdout",
          "text": [
            "{'rouge1': 0.474777183600713, 'rouge2': 0.36881499726327316, 'rougeL': 0.47477718360071297, 'rougeLsum': 0.47477718360071297}\n"
          ]
        }
      ]
    },
    {
      "cell_type": "code",
      "source": [
        "# ROUGE : RAG x Ground Truth\n",
        "# versi ROUGE sebelumnya (paper) yang menampilkan precision, recall, dan f1-score\n",
        "from rouge import Rouge\n",
        "rouge = Rouge()\n",
        "rouge.get_scores(references, predictions_rag, avg=True)"
      ],
      "metadata": {
        "id": "SuHsEs0kR1jJ",
        "colab": {
          "base_uri": "https://localhost:8080/"
        },
        "outputId": "664e2780-7139-46a1-9ada-a35ff6e33f88"
      },
      "execution_count": 127,
      "outputs": [
        {
          "output_type": "execute_result",
          "data": {
            "text/plain": [
              "{'rouge-1': {'r': 0.2543290659080133, 'p': 0.775, 'f': 0.36536507662349205},\n",
              " 'rouge-2': {'r': 0.20575972490866107,\n",
              "  'p': 0.6777777777777778,\n",
              "  'f': 0.2999999973788266},\n",
              " 'rouge-l': {'r': 0.2543290659080133, 'p': 0.775, 'f': 0.36536507662349205}}"
            ]
          },
          "metadata": {},
          "execution_count": 127
        }
      ]
    },
    {
      "cell_type": "code",
      "source": [
        "# ROUGE : Other x Ground Truth\n",
        "# versi hunggingface (terbaru) = nilai ROUGE adalah nilai f1-score, dan tidak menampilkan precison & recall\n",
        "import evaluate\n",
        "rouge = evaluate.load(\"rouge\")\n",
        "results = rouge.compute(predictions=predictions_other, references=references)\n",
        "print(results)"
      ],
      "metadata": {
        "id": "55LvnbutR1og",
        "colab": {
          "base_uri": "https://localhost:8080/"
        },
        "outputId": "29ccca7f-f7d6-4ba8-ff61-e6d0ebda72d0"
      },
      "execution_count": 128,
      "outputs": [
        {
          "output_type": "stream",
          "name": "stdout",
          "text": [
            "{'rouge1': 0.24509731460950968, 'rouge2': 0.19285714285714287, 'rougeL': 0.23617886178861786, 'rougeLsum': 0.23617886178861786}\n"
          ]
        }
      ]
    },
    {
      "cell_type": "code",
      "source": [
        "# ROUGE : Other x Ground Truth\n",
        "# versi ROUGE sebelumnya (paper) yang menampilkan precision, recall, dan f1-score\n",
        "from rouge import Rouge\n",
        "rouge = Rouge()\n",
        "rouge.get_scores(references, predictions_other, avg=True)"
      ],
      "metadata": {
        "id": "9jBFkb39R1ra",
        "colab": {
          "base_uri": "https://localhost:8080/"
        },
        "outputId": "e281ea53-569b-4930-a4dc-dcec53029393"
      },
      "execution_count": 129,
      "outputs": [
        {
          "output_type": "execute_result",
          "data": {
            "text/plain": [
              "{'rouge-1': {'r': 0.15122529644268773, 'p': 0.475, 'f': 0.2055555538076989},\n",
              " 'rouge-2': {'r': 0.1297215329473394,\n",
              "  'p': 0.4222222222222222,\n",
              "  'f': 0.17706237261903013},\n",
              " 'rouge-l': {'r': 0.14687747035573123, 'p': 0.45, 'f': 0.19814814640029152}}"
            ]
          },
          "metadata": {},
          "execution_count": 129
        }
      ]
    },
    {
      "cell_type": "markdown",
      "source": [
        "**Tutorial 4**"
      ],
      "metadata": {
        "id": "gG9e7rqkQbUR"
      }
    },
    {
      "cell_type": "code",
      "source": [
        "# Ground Truth\n",
        "references = [\"CHINESE FRIED RICE\",\n",
        "              \"PalatablePastime\",\n",
        "              \"3 drops soy sauce, and 3 drops sesame oil\",\n",
        "              \"medium grain\",\n",
        "              \"rice, green onions, and bean sprouts\"]"
      ],
      "metadata": {
        "id": "Xd_F8FifQc53"
      },
      "execution_count": 130,
      "outputs": []
    },
    {
      "cell_type": "code",
      "source": [
        "# Prediksi RAG\n",
        "predictions_rag = [\"The recipe will result in Chinese fried rice.\",\n",
        "              \"PalatablePastime submitted the recipe.\",\n",
        "              \"3 drops of soy sauce and 3 drops of sesame oil are needed.\",\n",
        "              \"The recipe suggests using cold cooked rice, preferably medium grain.\",\n",
        "              \"After pouring carrots, peas, and cooked onion into the wok, the next ingredients to add are 4 cups of cold cooked rice, grains separated (preferably medium grain), 4 green onions (chopped), and 2 cups of bean sprouts.\"]"
      ],
      "metadata": {
        "id": "GiE1P1pxQetd"
      },
      "execution_count": 131,
      "outputs": []
    },
    {
      "cell_type": "code",
      "source": [
        "# Prediksi typeset.io\n",
        "predictions_other = [\"Fried Rice is the kind of food that will come out of this recipe. It is a dish made with cooked rice, lean boneless pork or chicken, chopped vegetables such as carrots, peas, onions, green onions, and bean sprouts, and flavored with soy sauce and sesame oil. The recipe involves stir-frying the onions, cooking the egg mixture, stir-frying the meat and vegetables, adding the rice, green onions, and bean sprouts, and finally adding the chopped egg and soy sauce to the rice mixture. The dish is then stir-fried for a minute more before serving. Additional soy sauce can be added at the table if desired\",\n",
        "              \"The recipe does not mention who submitted it.\",\n",
        "              \"Soy Sauce and Sesame Oil Quantities: The recipe calls for 3 drops of soy sauce and 3 drops of sesame oil in the egg mixture. Additionally, 2 tablespoons of light soy sauce are added to the rice mixture. Please note that the provided sources do not specify the exact quantities of soy sauce and sesame oil needed for the entire recipe. The recipe suggests using more soy sauce if desired, so the amount can be adjusted according to personal preference.\",\n",
        "              \"Soy Sauce and Sesame Oil Quantities: The recipe calls for 3 drops of soy sauce and 3 drops of sesame oil in the egg mixture.\",\n",
        "              \"Ingredients to add after pouring carrots, peas, and cooked onion: Rice: Add 4 cups of cold cooked rice, grains separated (preferably medium grain). Green onions: Add 4 green onions, chopped. Bean sprouts: Add 2 cups of bean sprouts. Light soy sauce: Add 2 tablespoons of light soy sauce (add more if desired). Note: The provided recipe is for making fried rice. After pouring carrots, peas, and cooked onion, you need to add rice, green onions, bean sprouts, and light soy sauce to the mixture.\"]"
      ],
      "metadata": {
        "id": "RHgJVHtLQewK"
      },
      "execution_count": 132,
      "outputs": []
    },
    {
      "cell_type": "code",
      "source": [
        "# ROUGE : RAG x Ground Truth\n",
        "# versi hunggingface (terbaru) = nilai ROUGE adalah nilai f1-score, dan tidak menampilkan precison & recall\n",
        "import evaluate\n",
        "rouge = evaluate.load(\"rouge\")\n",
        "results = rouge.compute(predictions=predictions_rag, references=references)\n",
        "print(results)"
      ],
      "metadata": {
        "id": "a2FzvSRLR2ty",
        "colab": {
          "base_uri": "https://localhost:8080/"
        },
        "outputId": "5c42111f-af1b-4e12-a0b8-40228ddedfee"
      },
      "execution_count": 133,
      "outputs": [
        {
          "output_type": "stream",
          "name": "stdout",
          "text": [
            "{'rouge1': 0.47520789288231147, 'rouge2': 0.2684010840108401, 'rougeL': 0.47030303030303033, 'rougeLsum': 0.47393939393939394}\n"
          ]
        }
      ]
    },
    {
      "cell_type": "code",
      "source": [
        "# ROUGE : RAG x Ground Truth\n",
        "# versi ROUGE sebelumnya (paper) yang menampilkan precision, recall, dan f1-score\n",
        "from rouge import Rouge\n",
        "rouge = Rouge()\n",
        "rouge.get_scores(references, predictions_rag, avg=True)"
      ],
      "metadata": {
        "id": "CWCJPwrxR2xF",
        "colab": {
          "base_uri": "https://localhost:8080/"
        },
        "outputId": "d3d4f680-2b33-4a8c-92f4-5d67010a110d"
      },
      "execution_count": 134,
      "outputs": [
        {
          "output_type": "execute_result",
          "data": {
            "text/plain": [
              "{'rouge-1': {'r': 0.24225806451612905,\n",
              "  'p': 0.7380952380952381,\n",
              "  'f': 0.34189718860108},\n",
              " 'rouge-2': {'r': 0.08793650793650794,\n",
              "  'p': 0.32571428571428573,\n",
              "  'f': 0.12058823352775953},\n",
              " 'rouge-l': {'r': 0.24225806451612905,\n",
              "  'p': 0.7380952380952381,\n",
              "  'f': 0.34189718860108}}"
            ]
          },
          "metadata": {},
          "execution_count": 134
        }
      ]
    },
    {
      "cell_type": "code",
      "source": [
        "# ROUGE : Other x Ground Truth\n",
        "# versi hunggingface (terbaru) = nilai ROUGE adalah nilai f1-score, dan tidak menampilkan precison & recall\n",
        "import evaluate\n",
        "rouge = evaluate.load(\"rouge\")\n",
        "results = rouge.compute(predictions=predictions_other, references=references)\n",
        "print(results)"
      ],
      "metadata": {
        "id": "y6AL-FIWR22k",
        "colab": {
          "base_uri": "https://localhost:8080/"
        },
        "outputId": "c34d3c5a-115e-4069-e45c-b80f9236b7e9"
      },
      "execution_count": 136,
      "outputs": [
        {
          "output_type": "stream",
          "name": "stdout",
          "text": [
            "{'rouge1': 0.07432331207612106, 'rouge2': 0.04489229530355756, 'rougeL': 0.07432331207612106, 'rougeLsum': 0.07432331207612106}\n"
          ]
        }
      ]
    },
    {
      "cell_type": "code",
      "source": [
        "# ROUGE : Other x Ground Truth\n",
        "# versi ROUGE sebelumnya (paper) yang menampilkan precision, recall, dan f1-score\n",
        "from rouge import Rouge\n",
        "rouge = Rouge()\n",
        "rouge.get_scores(references, predictions_other, avg=True)"
      ],
      "metadata": {
        "id": "GieRqOOLR25n",
        "colab": {
          "base_uri": "https://localhost:8080/"
        },
        "outputId": "90c2413a-dea9-4959-a01f-17b43e981ff2"
      },
      "execution_count": 137,
      "outputs": [
        {
          "output_type": "execute_result",
          "data": {
            "text/plain": [
              "{'rouge-1': {'r': 0.04291187739463601,\n",
              "  'p': 0.37142857142857144,\n",
              "  'f': 0.07684426154889584},\n",
              " 'rouge-2': {'r': 0.016904761904761905,\n",
              "  'p': 0.20571428571428568,\n",
              "  'f': 0.031168830595378654},\n",
              " 'rouge-l': {'r': 0.04291187739463601,\n",
              "  'p': 0.37142857142857144,\n",
              "  'f': 0.07684426154889584}}"
            ]
          },
          "metadata": {},
          "execution_count": 137
        }
      ]
    },
    {
      "cell_type": "markdown",
      "source": [
        "**Tutorial 5**"
      ],
      "metadata": {
        "id": "hAtswrjOQe-Y"
      }
    },
    {
      "cell_type": "code",
      "source": [
        "# Ground Truth\n",
        "references = [\"SOFT CHOCOLATE CHIP COOKIES\",\n",
        "              \"Peach\",\n",
        "              \"2\",\n",
        "              \"Yes, 2 1/4 cups flour\",\n",
        "              \"350 degrees\"]"
      ],
      "metadata": {
        "id": "2EpQm3wQQhTl"
      },
      "execution_count": 138,
      "outputs": []
    },
    {
      "cell_type": "code",
      "source": [
        "# Prediksi RAG\n",
        "predictions_rag = [\"The recipe will produce soft chocolate chip cookies.\",\n",
        "              \"Peach submitted the recipe.\",\n",
        "              \"Two eggs are needed for this recipe.\",\n",
        "              \"Yes, this recipe requires flour. It calls for 2 1/4 cups of flour.\",\n",
        "              \"The oven should be preheated to 350 degrees Fahrenheit.\"]"
      ],
      "metadata": {
        "id": "rYq8k1tlQhoI"
      },
      "execution_count": 139,
      "outputs": []
    },
    {
      "cell_type": "code",
      "source": [
        "# Prediksi typeset.io\n",
        "predictions_other = [\"Soft Chocolate Chip Cookies are the kind of food that will come out of this recipe.\",\n",
        "              \"The recipe submitter is not mentioned in the provided sources.\",\n",
        "              \"The recipe for Soft Chocolate Chip Cookies does not specify the exact number of eggs required. The provided sources do not mention the specific quantity of eggs needed for this recipe\",\n",
        "              \"The recipe for Soft Chocolate Chip Cookies does require flour, but the exact quantity is not mentioned in the provided sources.\",\n",
        "              \"The provided sources do not mention the specific temperature required for pre-heating the oven for the Soft Chocolate Chip Cookies recipe.\"]"
      ],
      "metadata": {
        "id": "E5FHEIICQhtA"
      },
      "execution_count": 140,
      "outputs": []
    },
    {
      "cell_type": "code",
      "source": [
        "# ROUGE : RAG x Ground Truth\n",
        "# versi hunggingface (terbaru) = nilai ROUGE adalah nilai f1-score, dan tidak menampilkan precison & recall\n",
        "import evaluate\n",
        "rouge = evaluate.load(\"rouge\")\n",
        "results = rouge.compute(predictions=predictions_rag, references=references)\n",
        "print(results)"
      ],
      "metadata": {
        "id": "HgF-JyKLR4V7",
        "colab": {
          "base_uri": "https://localhost:8080/"
        },
        "outputId": "73c92bb3-25ca-4f14-925a-d52b6434b870"
      },
      "execution_count": 141,
      "outputs": [
        {
          "output_type": "stream",
          "name": "stdout",
          "text": [
            "{'rouge1': 0.40606060606060607, 'rouge2': 0.2311111111111111, 'rougeL': 0.40606060606060607, 'rougeLsum': 0.40606060606060607}\n"
          ]
        }
      ]
    },
    {
      "cell_type": "code",
      "source": [
        "# ROUGE : RAG x Ground Truth\n",
        "# versi ROUGE sebelumnya (paper) yang menampilkan precision, recall, dan f1-score\n",
        "from rouge import Rouge\n",
        "rouge = Rouge()\n",
        "rouge.get_scores(references, predictions_rag, avg=True)"
      ],
      "metadata": {
        "id": "xPXhRkB9R4Y-",
        "colab": {
          "base_uri": "https://localhost:8080/"
        },
        "outputId": "25dd9665-4a0e-41cc-8b9f-65f954a66a48"
      },
      "execution_count": 142,
      "outputs": [
        {
          "output_type": "execute_result",
          "data": {
            "text/plain": [
              "{'rouge-1': {'r': 0.17777777777777778, 'p': 0.6, 'f': 0.27037432948531104},\n",
              " 'rouge-2': {'r': 0.05833333333333333, 'p': 0.3, 'f': 0.09444444329938273},\n",
              " 'rouge-l': {'r': 0.17777777777777778, 'p': 0.6, 'f': 0.27037432948531104}}"
            ]
          },
          "metadata": {},
          "execution_count": 142
        }
      ]
    },
    {
      "cell_type": "code",
      "source": [
        "# ROUGE : Other x Ground Truth\n",
        "# versi hunggingface (terbaru) = nilai ROUGE adalah nilai f1-score, dan tidak menampilkan precison & recall\n",
        "import evaluate\n",
        "rouge = evaluate.load(\"rouge\")\n",
        "results = rouge.compute(predictions=predictions_other, references=references)\n",
        "print(results)"
      ],
      "metadata": {
        "id": "glkq4Mq8R4cs",
        "colab": {
          "base_uri": "https://localhost:8080/"
        },
        "outputId": "b7d07ba9-962e-4e1e-8773-8c1d662234d9"
      },
      "execution_count": 143,
      "outputs": [
        {
          "output_type": "stream",
          "name": "stdout",
          "text": [
            "{'rouge1': 0.09481481481481482, 'rouge2': 0.06666666666666668, 'rougeL': 0.09481481481481482, 'rougeLsum': 0.09481481481481482}\n"
          ]
        }
      ]
    },
    {
      "cell_type": "code",
      "source": [
        "# ROUGE : Other x Ground Truth\n",
        "# versi ROUGE sebelumnya (paper) yang menampilkan precision, recall, dan f1-score\n",
        "from rouge import Rouge\n",
        "rouge = Rouge()\n",
        "rouge.get_scores(references, predictions_other, avg=True)"
      ],
      "metadata": {
        "id": "b_lqUZEnR4fz",
        "colab": {
          "base_uri": "https://localhost:8080/"
        },
        "outputId": "611e0c1c-07e7-497d-b3ad-faebb927e453"
      },
      "execution_count": 144,
      "outputs": [
        {
          "output_type": "execute_result",
          "data": {
            "text/plain": [
              "{'rouge-1': {'r': 0.0, 'p': 0.0, 'f': 0.0},\n",
              " 'rouge-2': {'r': 0.0, 'p': 0.0, 'f': 0.0},\n",
              " 'rouge-l': {'r': 0.0, 'p': 0.0, 'f': 0.0}}"
            ]
          },
          "metadata": {},
          "execution_count": 144
        }
      ]
    },
    {
      "cell_type": "markdown",
      "source": [
        "**All Data**"
      ],
      "metadata": {
        "id": "XJu6B47lQh20"
      }
    },
    {
      "cell_type": "code",
      "source": [
        "# Ground Truth\n",
        "references = [\"pip install flair\",\n",
        "              \"FLAIR framework\",\n",
        "              \"https://github.com/zalandoresearch/flair\",\n",
        "              \"Presented FLAIR as a framework designed to facilitate experimentation with different embedding types, as well as training and distributing sequence labeling and text classification models.\",\n",
        "              \"at least version 3.6 of Python\",\n",
        "              \"Edge Probing\",\n",
        "              \"Scalar Mixing Weights, and Cumulative Scoring\",\n",
        "              \"ELMo model\",\n",
        "              \"BERT model\",\n",
        "              \"to measure how well information about linguistic structure can be extracted from a pre-trained encoder\",\n",
        "              \"perform an analysis of the energy required to train a variety of popular off the-shelf NLP models, as well as a case study of the complete sum of resources required to develop LISA, a state-of-the-art NLP model from EMNLP 2018, including all tuning and experimentation.\",\n",
        "              \"Transformer base model was trained for 12 hours, and Transformer big model was trained for 3.5 days\",\n",
        "              \"Yes, Of note is that TPUs are more cost-efficient than GPUs on workloads that make sense for that hardware\",\n",
        "              \"NVIDIA Titan X GPU, and Intel’s Running Average Power Limit interface CPU\",\n",
        "              \"Transformers, ELMo, BERT, GPT-2\",\n",
        "              \"brat rapid annotation tool is an intuitive web-based tool for text annotation supported by Natural Language Processing (NLP) technology\",\n",
        "              \"well-over 50,000 annotations\",\n",
        "              \"http://brat.nlplab.org\",\n",
        "              \"client-server architecture with communication over HTTP using JavaScript Object Notation (JSON)\",\n",
        "              \"15.4%\",\n",
        "              \"TextAttack\",\n",
        "              \"https://github.com/QData/TextAttack.\",\n",
        "              \"Proceedings of the 2020 Association for Computational Linguistics.\",\n",
        "              \"Yes, TextAttack is available as a Python package installed from PyPI\",\n",
        "              \"textattack attack\",\n",
        "              \"The Korean War ended in 1953\",\n",
        "              \"Kim said inter-Korean relations had become “a relationship between two hostile countries and two belligerents at war,” the state-run news agency KCNA reported\",\n",
        "              \"January 1, 2024\",\n",
        "              \"Hoo Chiew-Ping\",\n",
        "              \"three\",\n",
        "              \"The waiting migrants feel desperate\",\n",
        "              \"9,600 migrant encounters\",\n",
        "              \"1,000 migrants arrived\",\n",
        "              \"3,800 in Tijuana, 3,273 in Reynosa, and 4,000 in Matamoros\",\n",
        "              \"445,000\",\n",
        "              \"active Pacific storm track typical of an El Niño winter will send a series of storms across the US into next week\",\n",
        "              \"Thursday evening\",\n",
        "              \"Heavy precipitation will spread across the Southeast/Mid-Atlantic and possibly the Northeast this coming weekend, with increasing potential for heavy snow to the north and west of the low\",\n",
        "              \"Northeast and mid-Atlantic\",\n",
        "              \"2.3 inches fell during the entirety of 2023\",\n",
        "              \"stabbed in the neck\",\n",
        "              \"Lee was touring the construction site of the Gadeokdo New Airport and talking to reporters when he was attacked\",\n",
        "              \"Lee suffered “suspected damage to his jugular vein” and doctors were concerned he may have additional bleeding\",\n",
        "              \"Lee Jae-myung\",\n",
        "              \"18 cm or 7 inch\",\n",
        "              \"Japan Airlines said four of its passengers were taken to hospitals but the airline has not received any additional reports of injuries\",\n",
        "              \"Japan Airlines,  and The French aviation agency\",\n",
        "              \" Japan Coast Guard aircraft\",\n",
        "              \"five dead, 379 evacuated\",\n",
        "              \"Airbus A350-900 aircraft\",\n",
        "              \"Inflation slowed to a 3.1% annual rate in November\",\n",
        "              \"December 12, 2023\",\n",
        "              \"gasoline fell 6% and fuel oil was off 2.7%\",\n",
        "              \"2.3%\",\n",
        "              \"0.1%\",\n",
        "              \"Nvidia to launch slower version of its gaming chip in China to comply with U.S. export controls\",\n",
        "              \"December 29, 2023\",\n",
        "              \"11%\",\n",
        "              \"Yes, Nvidia RTX 4090 was included on the list of banned U.S made chips\",\n",
        "              \" rush of demand for AI, OpenAI’s ChatGPT chatbot.\",\n",
        "              \"Unemployment among Asian workers and Black men rises in November while the overall rate declines\",\n",
        "              \"December 8, 2023\",\n",
        "              \"LISA KAILAI HAN\",\n",
        "              \"0.2% \",\n",
        "              \"That uptick in unemployment is not because more Asian workers are flooding into the labor market, feeling optimistic about getting jobs. It’s actually accompanied by a fall in participation as well as a fall in employment\",\n",
        "              \"Tesla reported delivery and production numbers for the fourth quarter\",\n",
        "              \"January 2, 2024\",\n",
        "              \"Total deliveries Q4 2023 is 484.507,  Total production Q4 2023 is 494.989, Total annual deliveries 2023 is 1.808.581, Total annual production 2023 is 1.845.985\",\n",
        "              \"1.31 million deliveries, and 1.37 million production\",\n",
        "              \"3.02 million\",\n",
        "              \"Copper could skyrocket over 75% to record highs by 2025 — brace for deficits, analysts say\",\n",
        "              \"January 2, 2024\",\n",
        "              \"LEE YING SHAN\",\n",
        "              \"$8,559 a ton\",\n",
        "              \"Rising demand driven by the green energy transition and a likely decline in the U.S. dollar in the second half of 2024\",\n",
        "              \"BOURBON CHICKEN\",\n",
        "              \"LinMarie\",\n",
        "              \"2 lbs\",\n",
        "              \"yes\",\n",
        "              \"1/2 cup\",\n",
        "              \"PANCAKES\",\n",
        "              \"Ellen Brody\",\n",
        "              \"1 teaspoon\",\n",
        "              \"Beat the egg until fluffy\",\n",
        "              \"When bubbles appear on surface and begin to break\",\n",
        "              \"CHICKEN LAZONE\",\n",
        "              \"Luby Luby Luby\",\n",
        "              \"4 whole boneless skinless chicken breasts\",\n",
        "              \"salt, chili powder, onion powder, garlic powder\",\n",
        "              \"Pour the cream into the skillet and lower the heat.\",\n",
        "              \"CHINESE FRIED RICE\",\n",
        "              \"PalatablePastime\",\n",
        "              \"3 drops soy sauce, and 3 drops sesame oil\",\n",
        "              \"medium grain\",\n",
        "              \"rice, green onions, and bean sprouts\",\n",
        "              \"SOFT CHOCOLATE CHIP COOKIES\",\n",
        "              \"Peach\",\n",
        "              \"2\",\n",
        "              \"Yes, 2 1/4 cups flour\",\n",
        "              \"350 degrees\"]"
      ],
      "metadata": {
        "id": "99R97IGBQmCy"
      },
      "execution_count": 145,
      "outputs": []
    },
    {
      "cell_type": "code",
      "source": [
        "# Prediksi RAG\n",
        "predictions_rag = [\"The command for installing the FLAIR library is pip install flair\",\n",
        "              \"The proposed solution from this paper is the FLAIR framework. It is designed to address the challenges of working with different types of word embeddings. The framework provides a unified interface for all word embeddings and allows researchers to build a single model architecture that can make use of any type of word embedding with no additional engineering effort. It also includes convenience methods for downloading NLP research datasets, model training routines, and pre-trained models. The FLAIR framework aims to simplify the process of setting up and executing experiments in natural language processing.\",\n",
        "              \"The GitHub link for the FLAIR framework is: https://github.com/zalandoresearch/flair\",\n",
        "              \"The purpose of the presented framework, called FLAIR, is to address the challenges of using different types of word embeddings in natural language processing (NLP) tasks. The framework aims to abstract away from specific engineering challenges and provide a unified interface for all word embeddings. It allows researchers to build a single model architecture that can make use of any type of word embedding with no additional engineering effort. The framework also includes convenience methods for downloading NLP datasets, model training and hyperparameter selection routines, and a growing list of pre-trained models. Overall, the framework is designed to facilitate experimentation with different embedding types and training and distributing sequence labeling and text classification models.\",\n",
        "              \"The minimum version of Python required to set up FLAIR in the environment is Python 3.6.\",\n",
        "              \"The experiment is based on the edge probing task suite, which is used to explore how different layers of the BERT network can resolve syntactic and semantic structure within a sentence.\",\n",
        "              \"The two metrics used in this experiment are scalar mixing weights and cumulative scoring.\",\n",
        "              \"The scalar mixing technique was introduced by the ELMo model.\",\n",
        "              \"The language model used in this paper is BERT (Bidirectional Encoder Representations from Transformers), as mentioned in the text: We build on this latter line of work, focusing on the BERT model (Devlin et al., 2018).\",\n",
        "              \"The main purpose of the edge probing task suite is to explore how the different layers of the BERT network can resolve syntactic and semantic structure within a sentence. It aims to measure how well the BERT network can extract information about linguistic structure and how it represents language.\",\n",
        "              \"In this research, the authors conducted an analysis to quantify the computational and environmental costs of training deep neural network models for NLP. They performed experiments to measure the energy consumed during the training of various popular off-the-shelf NLP models. The models were trained using default settings and on specific hardware (such as NVIDIA Titan X GPU and NVIDIA GTX 1080 Ti GPUs). The authors also sampled the power consumption of the GPU and CPU during training. Additionally, they conducted a case study to estimate the complete sum of resources required to develop a state-of-the-art NLP model called LISA.\",\n",
        "              \"The training time for the Transformer base model on NVIDIA P100 GPUs is 12 hours, while the training time for the Transformer big model on NVIDIA P100 GPUs is 84 hours.\",\n",
        "              \"Yes, according to the analysis in Table 3, TPUs are more cost-efficient than GPUs for certain workloads, such as training BERT.\",\n",
        "              \"The models in this experiment were trained using a combination of NVIDIA Titan X (72%) and M40 (28%) GPUs. Unfortunately, the specific CPU used for training is not mentioned in the given context.\",\n",
        "              \"The four models used in this experiment are: Transformer: An encoder-decoder architecture primarily used for machine translation, Language models: Unsupervised multitask learners, Practical Bayesian optimization of machine learning algorithms, Linguistically-Informed Self-Attention for Semantic Role Labeling.\",\n",
        "              \"BRAT is a web-based tool for text annotation supported by Natural Language Processing (NLP) technology. It is designed to assist in manual curation efforts and increase annotator productivity using NLP techniques. BRAT allows for rich structured annotation for a variety of NLP tasks and is fully configurable to support most text annotation tasks. It supports basic annotation primitives, such as identifying text spans and assigning them types, as well as connecting annotations with binary relations. BRAT also supports n-ary associations of annotations and the marking of attributes. It includes a search feature for browsing annotations and can be extended or adapted to switch out the server or client. BRAT is available under an open-source license.\",\n",
        "              \"BRAT has been used in several ongoing annotation efforts at academic institutions and has created well-over 50,000 annotations.\",\n",
        "              \"The homepage link for the free open-source BRAT is http://brat.nlplab.org.\",\n",
        "              \"BRAT is implemented using a client-server architecture with communication over HTTP using JavaScript Object Notation (JSON). The server is a RESTful web service and the client user interface is implemented using XHTML and Scalable Vector Graphics (SVG), with interactivity implemented using JavaScript with the jQuery library. The client communicates with the server using Asynchronous JavaScript and XML (AJAX).\",\n",
        "              \"The experiment resulted in a 15.4% reduction in total annotation time.\",\n",
        "              \"The research paper proposes a framework called TextAttack.\",\n",
        "              \"The GitHub link for accessing the code and tutorials of TextAttack is: https://github.com/QData/TextAttack\",\n",
        "              \"This research paper is published in the Proceedings of the Association for Computational Linguistics.\",\n",
        "              \"Yes, TextAttack can be installed as a Python package. It can be installed from PyPI or downloaded directly from GitHub.\",\n",
        "              \"The API command-line from TextAttack that allows users to specify attacks is textattack attack\",\n",
        "              \"The Korean War ended in 1953 with an armistice.\",\n",
        "              \"Based on the news agency KCNA report, Kim Jong Un stated that North Korea will no longer engage in inter-Korean relations. He mentioned that future South Korean administrations extending an olive branch will be vehemently rejected by North Korea. Kim's statement suggests a departure from any potential reconciliation or reunification efforts between North and South Korea.\",\n",
        "              \"The news article was published on Monday, January 1, 2024.\",\n",
        "              \"Hoo Chiew-Ping, a senior fellow at the East Asian International Relations CAUCUS (EAIR) and member of the Asia Pacific Nuclear Advisory Panel (APNAP), said that the North Korean leader has been increasingly walking away from inter-Korean relations in recent years.\",\n",
        "              \"North Korea plans to add three additional spy satellites by 2024.\",\n",
        "              \"According to Cañas, the waiting migrants feel desperate\",\n",
        "              \"According to the report, Federal authorities reported a seven-day average of more than 9,600 migrant encounters along the US southern border in December.\",\n",
        "              \"According to the director of a migrant shelter in Piedras Negras, about 1,000 migrants arrived by train on Monday.\",\n",
        "              \"In Tijuana, an estimated 3,800 migrants are staying in shelters. In Reynosa, there are 3,273 migrants staying in shelters. The number of migrants staying in shelters in Matamoros is not mentioned in the provided context.\",\n",
        "              \"The US Department of Homeland Security has deported or returned over 445,000 migrants since May, according to the agency's online statement.\",\n",
        "              \"The highest chance for impactful snow on the East Coast this winter is caused by an active Pacific storm track that is typical of an El Niño winter. This storm track is sending a series of storms across the US, presenting the highest chance for impactful snow so far this winter in some of the country's most populous areas on the East Coast.\",\n",
        "              \"Rain will begin Thursday evening in eastern Texas.\",\n",
        "              \"The Weather Prediction Center stated that heavy precipitation will spread across the Southeast/Mid-Atlantic and possibly the Northeast, with increasing potential for heavy snow to the north and west of the low. They also mentioned that the exact amounts and precipitation type for some major East Coast cities remain highly uncertain but need to be watched.\",\n",
        "              \"Winter may finally arrive in the Northeast and mid-Atlantic in the form of a storm.\",\n",
        "              \"According to the National Weather Service, only 2.3 inches of snow fell in Central Park during the entirety of 2023, making it the least snowy calendar year on record for New York City.\",\n",
        "              \"South Korea's main opposition party leader, Lee Jae-myung, was stabbed in the neck.\",\n",
        "              \"Lee Jae-myung was attacked during a visit to the southern city of Busan. He was attacked while touring the construction site of the Gadeokdo New Airport and talking to reporters.\",\n",
        "              \"The doctors mentioned that Lee underwent vein reconstruction surgery and is currently recovering in the intensive care unit. They also expressed concerns about potential additional bleeding and suspected damage to his jugular vein.\",\n",
        "              \"The person being stabbed is Lee Jae-myung, the main opposition party leader in South Korea.\",\n",
        "              \"The knife used by the assailant to stab Lee was 18 cm (7 inches) long.\",\n",
        "              \"The airline’s Senior Vice President Noriyuki Aoki said in a press conference Tuesday evening that four of Japan Airlines' passengers were taken to hospitals, but they have not received any additional reports of injuries.\",\n",
        "              \"Japan Airlines and the French aviation agency both participated in the investigation to determine who was responsible for the plane crash.\",\n",
        "              \"The Japan Air Lines Airbus A350 collided with a De Havilland Canada DHC-8, which was operated by the Japan Coast Guard, before catching fire.\",\n",
        "              \"Five people were killed in the incident. All 379 people on JAL flight 516 were safely evacuated from the passenger plane.\",\n",
        "              \"The airplane that caught fire after taking off from Sapporo city was an Airbus A350-900 aircraft.\",\n",
        "              \"The title of the news report is Inflation showed to a 3.1% annual rate in November\",\n",
        "              \"The news report was published on Tuesday, December 12, 2023\",\n",
        "              \"The price of gasoline has decreased by 6% and the price of fuel oil has decreased by 2.7%.\",\n",
        "              \"The decrease in energy prices helped keep inflation in check by reducing the overall cost of energy-related goods and services. Specifically, gasoline prices fell by 6% and fuel oil prices were down by 2.7%. This decline in energy prices contributed to lower overall inflation as it offset some of the price increases in other categories.\",\n",
        "              \"The consumer price index increased by 0.1% in November.\",\n",
        "              \"The title of the news report is Nvidia to launch slower version of its gaming chip in China to comply with U.S. export controls\",\n",
        "              \"The news report titled Nvidia to launch slower version of its gaming chip in China to comply with U.S. export controls was published on Friday, December 29, 2023.\",\n",
        "              \"The Nvidia RTX 4090D for Chinese consumers has 11% fewer CUDA cores than versions sold outside of China.\",\n",
        "              \"Based on the information provided, the Nvidia RTX 4090 is not explicitly mentioned as being banned in the US in the Securities and Exchange Commission filing.\",\n",
        "              \"The company, Nvidia, benefits the most from the demand in the artificial intelligence (AI) sector of the market. The rush of demand for AI, including the buzz caused by OpenAI's ChatGPT chatbot, has contributed to the significant increase in Nvidia's stock price. Additionally, the export restrictions imposed by the U.S. on China primarily target chips that enable AI applications, which indicates the importance of the AI sector for Nvidia's business.\",\n",
        "              \"The main topic of the news report is the unemployment rates among different demographic groups in the U.S., specifically focusing on the rise in unemployment among Asian workers and Black men in November, while the overall unemployment rate declined.\",\n",
        "              \"The news was published on Friday, December 8, 2023.\",\n",
        "              \"The writer of the news is Lisa Kailai Han.\",\n",
        "              \"The unemployment rate declined by 0.2% last month.\",\n",
        "              \"Elise Gould stated, That uptick in unemployment is not because more Asian workers are flooding into the labor market, feeling optimistic about getting jobs. It’s actually accompanied by a fall in participation as well as a fall in employment.\",\n",
        "              \"The main topic of the news is Tesla's delivery and production numbers, as well as their plans for future growth and their competition in the electric vehicle market.\",\n",
        "              \"The news report was published on Tuesday, January 2, 2024.\",\n",
        "              \"The key numbers from Tesla's fourth-quarter vehicle production and deliveries report for 2023 are as follows: Total deliveries Q4 2023: 484,507 Total production Q4 2023: 494,989 Total annual deliveries 2023: 1,808,581 Total annual production 2023: 1,845,985\",\n",
        "              \"In 2022, Tesla reported annual deliveries of 1.31 million electric vehicles and production of 1.37 million electric vehicles.\",\n",
        "              \"BYD sold 3.02 million new energy vehicles in 2023.\",\n",
        "              \"The title of the news report is Copper could skyrocket over 75% to record highs by 2025 — brace for deficits, analysts say.\",\n",
        "              \"The news report was published on Tuesday, January 2, 2024.\",\n",
        "              \"The writer who published the news report is Lee Ying Shan.\",\n",
        "              \"The last price of copper on the London Metal Exchange was $8,559 per ton.\",\n",
        "              \"According to the report by BMI, the rise in copper prices is attributed to two main factors: mining supply disruptions and higher demand for the metal. The disruptions in mining supply and the increasing demand are both fueled by the push for renewable energy. Additionally, the likely decline in the U.S. dollar in the second half of 2024 is also expected to contribute to the increase in copper prices.\",\n",
        "              \"The recipe will result in Bourbon Chicken, a dish made with bite-sized pieces of chicken cooked in a flavorful sauce made with ingredients like garlic, ginger, crushed red pepper flakes, apple juice, brown sugar, ketchup, cider vinegar, water, and soy sauce. It is typically served over hot rice.\",\n",
        "              \"The recipe for Bourbon Chicken was submitted by LinMarie.\",\n",
        "              \"The recipe calls for 2 lbs of boneless chicken breasts, but it does not specify the exact number of chicken breasts needed. The number of chicken breasts required will depend on the size of the individual chicken breasts.\",\n",
        "              \"Yes, olive oil is required for this recipe. It is used to heat in a large skillet before adding the chicken pieces.\",\n",
        "              \"The recipe calls for 1/2 cup of water.\",\n",
        "              \"The recipe is for making pancakes.\",\n",
        "              \"The recipe was submitted by Ellen Brody.\",\n",
        "              \"1 teaspoon of baking powder is needed in this recipe.\",\n",
        "              \"In step 1 of the directions, it says to beat the egg until fluffy.\",\n",
        "              \"You need to flip the pancakes and cook the other side when bubbles appear on the surface and begin to break.\",\n",
        "              \"This recipe will result in a dish called Chicken LaZone.\",\n",
        "              \"The recipe was submitted by Luby Luby Luby.\",\n",
        "              \"The recipe calls for 4 whole boneless skinless chicken breasts.\",\n",
        "              \"The seasoning ingredients for this recipe are 1 teaspoon salt, 1 1/2 teaspoons chili powder, 1 1/2 teaspoons onion powder, and 2 teaspoons garlic powder.\",\n",
        "              \"After cooking the chicken over medium heat for about 7-8 minutes and turning it once, you need to pour the cream into the skillet and lower the heat. Then, simmer for several minutes, stirring until the sauce thickens. Finally, add the remaining butter and continue stirring until it melts.\",\n",
        "              \"The recipe will result in Chinese fried rice.\",\n",
        "              \"PalatablePastime submitted the recipe.\",\n",
        "              \"3 drops of soy sauce and 3 drops of sesame oil are needed.\",\n",
        "              \"The recipe suggests using cold cooked rice, preferably medium grain.\",\n",
        "              \"After pouring carrots, peas, and cooked onion into the wok, the next ingredients to add are 4 cups of cold cooked rice, grains separated (preferably medium grain), 4 green onions (chopped), and 2 cups of bean sprouts.\",\n",
        "              \"The recipe will produce soft chocolate chip cookies.\",\n",
        "              \"Peach submitted the recipe.\",\n",
        "              \"Two eggs are needed for this recipe.\",\n",
        "              \"Yes, this recipe requires flour. It calls for 2 1/4 cups of flour.\",\n",
        "              \"The oven should be preheated to 350 degrees Fahrenheit.\"]"
      ],
      "metadata": {
        "id": "-JCGYoeRQmZz"
      },
      "execution_count": 146,
      "outputs": []
    },
    {
      "cell_type": "code",
      "source": [
        "# Prediksi typeset.io\n",
        "predictions_other = [\"The command to install the FLAIR library is pip install flair. FLAIR is a powerful natural language processing library that provides pre-trained models and tools for various NLP tasks, including named entity recognition (NER) . By running the pip install flair command, the FLAIR library and its dependencies will be automatically downloaded and installed in the Python environment . This command requires an active internet connection to access the Python Package Index (PyPI) and retrieve the FLAIR package . Once installed, FLAIR can be imported into Python scripts or notebooks using the import flair statement, allowing users to leverage its functionalities for NLP tasks, including NER in the biomedical domain.\",\n",
        "                     \"The proposed solution from the paper is a natural language processing (NLP) framework called FLAIR (Framework for Learning and Information Extraction). FLAIR utilizes state-of-the-art deep learning techniques, such as bidirectional LSTMs and contextual string embeddings, to achieve high-performance results in various NLP tasks, including named entity recognition (NER). The framework is designed to be user-friendly and provides pre-trained models and tools for NLP tasks. FLAIR offers compatibility with different operating systems, including Windows, macOS, and Linux, and requires a minimum Python version of 3.6 or higher. By installing the FLAIR library using the pip install flair command, users can access the functionalities of the framework and leverage its pre-trained models for NER and other NLP tasks.\",\n",
        "                     \"The GitHub link for the FLAIR framework is https://github.com/flairNLP/flair . The FLAIR GitHub repository provides access to the source code, documentation, and examples for using the FLAIR library in natural language processing tasks . Users can clone or download the FLAIR repository from the provided GitHub link to get the latest version of the framework . The repository contains information on how to install FLAIR, as well as tutorials and examples to help users get started with using the framework for NLP tasks . Additionally, the FLAIR GitHub repository allows users to contribute to the development of the framework by submitting issues or pull requests.\",\n",
        "                     \"The presented framework is used for natural language processing (NLP) tasks, specifically named entity recognition (NER) and other NLP tasks. The framework, called FLAIR (Framework for Learning and Information Extraction), utilizes deep learning techniques, such as bidirectional LSTMs and contextual string embeddings, to achieve high-performance results in NLP tasks. FLAIR provides pre-trained models and tools for NLP tasks, making it user-friendly and accessible for researchers and practitioners. The framework is compatible with different operating systems, including Windows, macOS, and Linux, and can be installed using the pip install flair command. The FLAIR GitHub repository (https://github.com/flairNLP/flair) contains the source code, documentation, and examples for using the FLAIR library in NLP tasks, allowing users to clone or download the repository to access the latest version of the framework. Users can contribute to the development of FLAIR by submitting issues or pull requests through the GitHub repository.\",\n",
        "                     \"The minimum Python version required to set up FLAIR in the environment is Python 3.6 or higher. FLAIR is compatible with different operating systems, including Windows, macOS, and Linux. To install FLAIR, users can use the \"\"pip install flair\"\" command, which will automatically install the required dependencies. FLAIR provides pre-trained models and tools for natural language processing (NLP) tasks, such as named entity recognition (NER).The FLAIR GitHub repository (https://github.com/flairNLP/flair) contains the source code, documentation, and examples for using the FLAIR library in NLP tasks. Users can contribute to the development of FLAIR by submitting issues or pull requests through the GitHub repository\",\n",
        "              \"The experiments in the provided papers are based on the following methods: The experiments utilize a deep learning framework called FLAIR (Framework for Learning and Information Extraction) for natural language processing (NLP) tasks. FLAIR incorporates bidirectional LSTMs and contextual string embeddings to achieve high-performance results in NLP tasks. The framework provides pre-trained models and tools for NLP tasks, making it user-friendly and accessible for researchers and practitioners. FLAIR is compatible with different operating systems, including Windows, macOS, and Linux, and can be installed using the \"\"pip install flair\"\" command. The FLAIR GitHub repository contains the source code, documentation, and examples for using the FLAIR library in NLP tasks, allowing users to clone or download the repository to access the latest version of the framework. Users can contribute to the development of FLAIR by submitting issues or pull requests through the GitHub repository.\",\n",
        "              \"Two metrics used in the experiments are precision and recall. Precision is a metric that measures the proportion of correctly predicted positive instances out of all instances predicted as positive. Recall, also known as sensitivity, measures the proportion of correctly predicted positive instances out of all actual positive instances. Precision and recall are commonly used evaluation metrics in information retrieval and machine learning tasks, including natural language processing (NLP). These metrics provide insights into the performance of the models and algorithms used in the experiments, helping to assess their effectiveness in tasks such as named entity recognition (NER) and other NLP tasks.\",\n",
        "              \"The model that introduced the scalar mixing technique is the Transformer-XL model. Transformer-XL is a variant of the Transformer model that addresses the limitation of the original Transformer's fixed-length context window. The scalar mixing technique is introduced in the context of modeling long-range dependencies in sequential data. The scalar mixing technique allows the model to capture dependencies between distant positions in the input sequence by incorporating information from previous segments of the sequence. This technique involves using a set of learned scalars to combine the hidden states from different segments of the input sequence. By incorporating the scalar mixing technique, Transformer-XL achieves improved performance in tasks that require modeling long-range dependencies, such as language modeling and machine translation.\",\n",
        "              \"The language model used in this paper is BERT (Bidirectional Encoder Representations from Transformers). BERT is a deep language model that has shown state-of-the-art performance on various natural language processing (NLP) tasks. BERT is based on the Transformer architecture and is trained with a multi-task objective, including masked language modeling and next-sentence prediction. The BERT model used in this paper is the stock BERT model, which includes both the base and large versions. The encoder weights of the BERT model are frozen in this paper, following the approach of Tenney et al. (2019), to understand the structure of the network resulting from pretraining.\",\n",
        "              \"The main purpose of edge probing is to measure how well a pre-trained encoder can extract information about linguistic structure. Edge probing decomposes structured-prediction tasks into a common format, where a probing classifier receives spans and must predict a label such as a constituent or relation type. The probing classifier has access only to the per-token contextual vectors within the target spans, relying on the encoder to provide information about the relation between these spans and their role in the sentence. Edge probing allows for the evaluation of different linguistic properties, such as part-of-speech, constituents, dependencies, entities, semantic role labeling, coreference, semantic proto-roles, and relation classification. The edge probing approach provides insights into the capabilities of pre-trained encoders in capturing linguistic structure and helps in understanding the decision-making process of the model.\",\n",
        "              \"In this research, the authors conducted an analysis to quantify the computational and environmental costs of training deep neural network models for NLP. They performed experiments to measure the energy consumed during the training of various popular off-the-shelf NLP models. The models were trained using default settings and on specific hardware (such as NVIDIA Titan X GPU and NVIDIA GTX 1080 Ti GPUs). The authors also sampled the power consumption of the GPU and CPU during training. Additionally, they conducted a case study to estimate the complete sum of resources required to develop a state-of-the-art NLP model called LISA.\",\n",
        "              \"The Transformer base model, with 65M parameters, was trained on 8 NVIDIA P100 GPUs for 12 hours . The Transformer big model, with 213M parameters, was trained on 8 NVIDIA P100 GPUs for 3.5 days (84 hours; 300k steps).\",\n",
        "              \"According to the analysis in Table 3, TPUs are more cost-efficient than GPUs on workloads that are suitable for TPUs, such as BERT models. The analysis compared the CO2 emissions and estimated cost of training models using TPUs and GPUs. The research found that training BERT on a GPU is equivalent to the carbon emissions of a trans-American flight, highlighting the substantial carbon emissions associated with training models on GPUs. However, it is important to note that the analysis in Table 3 did not include power and carbon footprint information for TPUs due to a lack of public information. Therefore, while TPUs are shown to be more cost-efficient than GPUs for certain workloads, a comprehensive comparison of their environmental costs is not available in the provided sources.\",\n",
        "              \"The models in the experiment were trained on a single NVIDIA Titan X GPU, except for the ELMo model which was trained on 3 NVIDIA GTX 1080 Ti GPUs. The GPU power consumption was sampled using the NVIDIA System Management Interface. The CPU power consumption was sampled using Intel's Running Average Power Limit interface. The research also used a combination of NVIDIA Titan X (72) and M40 (28) GPUs for model training associated with the project. The training for the Linguistically-Informed Self-Attention model spanned a period of 172 days, with various job lengths ranging from 3 minutes to 9 days.\",\n",
        "              \"The four models used in this experiment are the Transformer model, the BERT model, the ELMo model, and the Linguistically-Informed Self-Attention model.\",\n",
        "              \"BRAT is a web-based tool for text annotation that is supported by Natural Language Processing (NLP) technology. It aims to enhance annotator productivity and supports manual curation efforts. It is designed to facilitate rich structured annotation for various NLP tasks and has been used in real-world annotation projects, showing a decrease in annotation time. BRAT uses a client-server architecture with communication over HTTP using JSON. The client user interface is implemented using XHTML and SVG, with interactivity implemented using JavaScript and jQuery. The server is a RESTful web service implemented in Python. BRAT supports both the Common Gateway Interface (CGI) and FastCGI protocols for efficient response times and uses a file-based stand-off format for annotation storage, eliminating the need for database import or export. \",\n",
        "              \"BRAT has created well-over 50,000 annotations in its use at academic institutions.\",\n",
        "              \"BRAT, the free open-source tool for text annotation, can be accessed through its homepage at http://brat.nlplab.org.\",\n",
        "              \"BRAT is implemented using a web-based architecture, making it accessible through a web browser. It is supported by Natural Language Processing (NLP) technology, which assists in text annotation tasks. The tool allows for rich structured annotation and aims to increase annotator productivity through the use of NLP techniques. The main user interface of BRAT includes features such as annotation editing, which recognizes standard user interface gestures familiar from text editors and presentation software . Annotations in BRAT are created by selecting a span of text with the mouse or double-clicking on a word, and connections between annotations are made by clicking on one annotation and dragging a connection to another . BRAT has been used in the annotation of six different corpora by multiple research groups, resulting in the creation of well-over 50,000 annotations in thousands of documents comprising hundreds of thousands of words\",\n",
        "              \"The experiment showed a 15% decrease in total annotation time as a result of annotation assisted by semantic class disambiguation . This evaluation was conducted on a multicategory entity mention annotation task using pre-release versions of BRAT. The integration of a machine learning-based semantic class disambiguation system, which offered multiple outputs with probability estimates, contributed to reducing ambiguity by an average of over 75% while retaining the correct class in 99% of cases across six corpora. This improvement in annotation efficiency demonstrates the effectiveness of using NLP techniques in supporting manual curation efforts and increasing annotator productivity in text annotation tasks.\",\n",
        "              \"Framework proposed in this research paper: The research paper proposes a Python framework called TextAttack for adversarial attacks, data augmentation, and adversarial training in NLP. TextAttack is designed to build attacks using four components: a goal function, a set of constraints, a transformation, and a search method. The modular design of TextAttack allows researchers to easily construct attacks by combining novel and existing components. TextAttack provides implementations of 16 adversarial attacks from the literature and supports various models and datasets, including BERT and other transformers, and all GLUE tasks. In addition to attacks, TextAttack also includes data augmentation and adversarial training modules to improve model accuracy and robustness. The framework aims to democratize NLP by enabling anyone to try data augmentation and adversarial training on any model or dataset with just a few lines of code.\",\n",
        "              \"The code and tutorials for TextAttack can be accessed at the following link: https://github.com/QData/TextAttack\",\n",
        "              \"The research paper TextAttack: A Framework for Adversarial Attacks, Data Augmentation, and Adversarial Training in NLP does not mention any specific proceedings where it was published. However, it is worth noting that the paper is available on arXiv, an open-access repository for scientific papers. The authors of the paper are John Morris, Eli Lifland, Jin Yoo, Jake Grigsby, Di Jin, and Yanjun Qi. The paper introduces the TextAttack framework, which is a Python framework for adversarial attacks, data augmentation, and adversarial training in NLP. It provides implementations of 16 adversarial attacks from the literature and supports various models and datasets, including BERT and other transformers, and all GLUE tasks. The framework aims to democratize NLP by enabling researchers to easily construct attacks and improve model performance. Code and tutorials for TextAttack can be found on the GitHub repository at https://github.com/QData/TextAttack.\",\n",
        "              \"Yes, TextAttack is available as a Python package that can be installed. The TextAttack framework is designed to be easily accessible and usable by researchers. It provides a modular design that allows users to construct attacks from combinations of novel and existing components. The framework supports a variety of models and datasets, including BERT and other transformers, and all GLUE tasks. To install TextAttack, users can follow the instructions provided in the code repository on GitHub. The code and tutorials for TextAttack can be found at the following link: https://github.com/QData/TextAttack. With just a few lines of code, researchers can try data augmentation and adversarial training on any model or dataset using TextAttack.\",\n",
        "              \"TextAttack provides an API command-line interface that allows users to specify attacks. This command-line interface enables users to easily configure and launch attacks on NLP models. Users can specify the attack type, target model, and dataset, among other parameters, through the command-line interface. The API command-line interface is designed to be user-friendly and accessible, allowing researchers to quickly experiment with different attack configurations. The details of the API command-line interface and its usage can be found in the TextAttack documentation and tutorials provided on the GitHub repository.\",\n",
        "              \"The Korean War ended on July 27, 1953.\",\n",
        "              \"Kim made statements about inter-Korean relations based on news agency KCNA reports. The specific details of what Kim said about inter-Korean relations are not provided in the given abstracts and contexts.\",\n",
        "              \"The specific time of the news publication is not mentioned in the provided abstracts and contexts. The information about the time of news publication is not available in the given sources.\",\n",
        "              \"The person who stated that the North Korean leader has been increasingly walking away from inter-Korean relations in recent years is not mentioned in the provided abstracts and contexts. The specific individual who made this statement is not identified in the given sources. The abstracts and contexts do not provide information about the person who made the observation about the North Korean leader's distancing from inter-Korean relations. Unfortunately, the sources do not mention the name of the person who made the statement about the North Korean leader's decreasing involvement in inter-Korean relations.\",\n",
        "              \"The abstracts and contexts provided do not mention any specific information about North Korea's plans to add spy satellites by 2024. There is no mention of the number of spy satellites that North Korea plans to add by 2024 in the given sources. The sources do not provide any details regarding North Korea's future plans for the addition of spy satellites. Unfortunately, the abstracts and contexts do not contain any information about North Korea's intended number of spy satellites by 2024. The specific number of spy satellites that North Korea plans to add by 2024 is not mentioned in the provided sources.\",\n",
        "              \"The provided abstracts and contexts do not mention any information about Cañas or their perspective on the feelings of waiting migrants. There is no reference to Cañas or their insights on the emotions experienced by waiting migrants in the given sources. Unfortunately, the sources do not provide any details about Cañas' observations or opinions regarding the feelings of waiting migrants. Cañas' perspective on the emotions felt by waiting migrants is not mentioned in the provided abstracts and contexts. The abstracts and contexts do not contain any information about Cañas' views on the experiences of waiting migrants.\",\n",
        "              \"In December, Federal authorities reported a seven-day average of more than 9,600 migrant encounters along the US southern border. This number represents a significant increase compared to the seven-day average reported on November 28, which was about 6,800 encounters. The surge of people crossing into the US from Mexico has put a strain on US border cities in recent weeks. The increase in migrant encounters highlights the ongoing challenge faced by US Customs and Border Protection (CBP) in addressing the border surge. Despite efforts to address the situation, illegal crossings continue to occur, particularly in rural areas of Arizona, fueled by bad actors pushing migrants to enter between ports of entry. The situation at the border has prompted discussions between Mexican President Andres Manuel Lopez Obrador and US officials, including Secretary of State Antony Blinken and Secretary of Homeland Security Alejandro Mayorkas. \",\n",
        "              \"The director of a migrant shelter in Piedras Negras, Mexico, reported that about 1,000 migrants arrived by train on Monday. The shelter director's statement highlights the continued arrival of large groups of migrants at the border by train. The influx of migrants has led to temporary halts in crossing due to violence in the streets of Piedras Negras. The arrival of migrants by train adds to the challenges faced by US Customs and Border Protection in managing the border surge. The situation at the border has prompted discussions between Mexican President Andres Manuel Lopez Obrador and US officials, including Secretary of State Antony Blinken and Secretary of Homeland Security Alejandro Mayorkas. The meeting between Mexican and US officials aims to address the ongoing border situation and immigration policy.\",\n",
        "              \"In Tijuana, Mexico, an estimated 3,800 migrants from countries like Mexico, Cuba, Haiti, and Venezuela are staying in shelters. In Reynosa, Mexico, another 3,273 migrants are waiting at Senda De Vida shelters. In nearby Matamoros, Mexico, about 4,000 migrants are living in camps, shelters, and abandoned homes. The total number of migrants staying in shelters in Tijuana, Reynosa, and Matamoros is approximately 11,073. These migrants are waiting on the Mexican side of the border, hoping to enter the US through legal pathways established by the Biden administration. The situation at the border has prompted discussions between Mexican President Andres Manuel Lopez Obrador and US officials, including Secretary of State Antony Blinken and Secretary of Homeland Security Alejandro Mayorkas.\",\n",
        "              \"The US Department of Homeland Security has deported or returned over 445,000 migrants since May, according to the agency's online statement. The majority of these migrants had crossed the US Southern border. The deportation and return of migrants is part of the government's efforts to address the ongoing border surge and maximize limited resources. The federal government has also closed ports of entry in multiple states and reassigned personnel to transport and process migrants. The Biden Administration temporarily suspended rail operations in Eagle Pass and El Paso, but those services have since resumed. Despite these measures, illegal crossings continue to occur, particularly in rural areas of Arizona, where bad actors are pushing migrants to enter the US southern border between ports of entry.\",\n",
        "              \"The highest chance for impactful snow this winter on the East Coast was caused by an active Pacific storm track typical of an El Nino winter, which sent a series of storms across the US. These storms crossed the southern half of the US before moving up the East Coast, presenting the highest chance for impactful snow in some of the country's most populous areas. The storm system brought heavy precipitation, and the key question was where it would fall as snow and where it would fall as rain, especially along the highly populated I-95 corridor from Washington, DC, to Boston. If even an inch of snow were to fall in this corridor, it would end significant snowless streaks for major cities that have lasted for nearly two years. The storm system was expected to bring significant snow to higher elevation areas of the Appalachians and the interior Northeast, including central Pennsylvania.\",\n",
        "              \"Rain is predicted to begin in eastern Texas on Thursday evening, according to the provided context. The rain is expected to progress with the storm's track to the east, overrunning the Southeast and parts of the mid-Atlantic with time. This storm system could cause flooding issues in the South, particularly in areas that have already experienced heavy rainfall earlier in the week. The exact track of the storm becomes less certain after it leaves the Southeast, but heavy precipitation is expected to spread across the Southeast, Mid-Atlantic, and possibly the Northeast over the coming weekend. The forecast models differ on the amount of snow that could fall and where, but there is increasing potential for heavy snow to the north and west of the low-pressure system. The storm system is part of an active Pacific storm track typical of an El Nino winter, which is bringing a series of storms across the US and presenting the highest chance for impactful snow on the East Coast this winter. \",\n",
        "              \"The Weather Prediction Center stated that heavy precipitation will spread across the Southeast, Mid-Atlantic, and possibly the Northeast over the coming weekend, with increasing potential for heavy snow to the north and west of the low-pressure system. The exact amounts and precipitation type for major East Coast cities remain highly uncertain at this point, but it is advised to monitor the situation closely. The forecast models differ on the amount of snow that could fall and where, but there is a high confidence for significant snow in higher elevation areas of the Appalachians and the interior Northeast, including central Pennsylvania. The key question is where the precipitation will fall as snow and where it will fall as rain, especially along the highly populated I-95 corridor from Washington, DC, to Boston. Even an inch of snow in this corridor would end significant snowless streaks for major cities that have lasted for nearly two years. New York City, Philadelphia, and the DC area's Dulles International Airport experienced their least snowy calendar year on record in 2023, with only 2.3 inches of snow falling in Central Park.\",\n",
        "              \"Winter may finally arrive in the Northeast and mid-Atlantic in the form of a weekend storm, bringing the potential for decent snow after nearly two years of snowless streaks. The storm's timing, intensity, and track are still uncertain, as the system responsible for it is still thousands of miles away off the West Coast of the US. The highest confidence for significant snow is in higher elevation areas of the Appalachians and the interior Northeast, including central Pennsylvania. The key question is where the precipitation will fall as snow and where it will fall as rain, especially along the highly populated I-95 corridor from Washington, DC, to Boston. Major cities like New York City, Philadelphia, and the DC area's Dulles International Airport have experienced significant snowless streaks, with New York City waiting nearly 700 days for an inch of snow in a single calendar day.\",\n",
        "              \"According to the National Weather Service, Central Park in New York City experienced its least snowy calendar year on record in 2023, with only 2.3 inches of snow falling during the entirety of the year. New York City has been waiting nearly 700 days for an inch of snow in a single calendar day. The forecast models for the upcoming weekend storm differ on the amount of snow that could fall in Central Park, but the exact amounts and precipitation type for major East Coast cities remain highly uncertain at this point. It is advised to monitor the situation closely as the storm's timing, intensity, and track are still uncertain, given that the system responsible for it is still thousands of miles away off the West Coast of the US.\",\n",
        "              \"South Korea's main opposition party leader, Lee Jae-myung, was stabbed in the neck.\",\n",
        "              \"Lee Jae-myung was attacked in the southern city of Busan. He was attacked while touring the construction site of the Gadeokdo New Airport\",\n",
        "              \"Doctors stated that Lee Jae-myung suffered a 1-centimeter laceration on the left side of his neck. They were concerned about possible damage to his jugular vein and the potential for additional bleeding. Lee underwent vein reconstruction surgery and is currently recovering in the intensive care unit \",\n",
        "              \"Lee Jae-myung, the leader of South Korea's main opposition party, was stabbed in the neck\",\n",
        "              \"The knife used by the assailant to stab Lee Jae-myung was 18 cm (7 inches) long.\",\n",
        "              \"The provided sources do not mention any press conference held by the airline's Senior Vice President Noriyuki Aoki on Tuesday evening. Therefore, it is not possible to provide any information about what he said in the press conference.\",\n",
        "              \"Participants in the investigation to determine responsibility for the plane crash: Japan Airlines: The airline is taking part in the investigation to determine responsibility for the crash. Senior Vice President of Corporate Safety and Security Tadayuki Tsutsumi: He stated that Japan Airlines is participating in the investigation. France's aviation agency: The agency is sending its own investigators to Tokyo to probe the collision as part of the investigation team opened by the Japan Transport Safety Board. Japan Transport Safety Board: They have opened an investigation team to determine responsibility for the crash. Note: The sources do not provide information about any other specific individuals or organizations participating in the investigation.\",\n",
        "              \"The Japan Air Lines Airbus A350 caught fire after colliding with a De Havilland Canada DHC-8 aircraft. Note: The provided sources do not mention any other specific details about the type of plane involved in the collision.\",\n",
        "              \"Five people were killed in the JAL flight 516 incident at Tokyo's Haneda airport. All 379 people on board JAL flight 516, including eight children under the age of two, were safely evacuated from the passenger plane. Note: The provided sources do not provide any additional information regarding the number of people who were injured in the incident.\",\n",
        "              \"The airplane that ignited after flying out of Sapporo city was an Airbus A350-900 aircraft. Note: The provided sources do not mention any other specific details about the type of airplane involved in the incident.\",\n",
        "              \"Title of the news report: Inflation slowed to a 3.1% annual rate in November\",\n",
        "              \"The provided sources do not mention the specific date of when the news report was published.\",\n",
        "              \"Gasoline and Fuel Oil Price Decrease: Gasoline prices fell by 6% in November, contributing to a decrease in energy prices. Fuel oil prices were down by 2.7% in November, further contributing to the decrease in energy prices. Note: The provided sources do not mention the percentage decrease in gasoline and fuel oil prices on an annual basis.\",\n",
        "              \"Decrease in Energy Prices and Inflation: The decrease in energy prices, specifically a 2.3% decrease, helped keep inflation in check. This was primarily driven by a 6% decrease in gasoline prices and a 2.7% decrease in fuel oil prices. The decline in energy prices contributed to overall inflation remaining relatively low. It helped offset any potential upward pressure on prices that could have resulted from other factors. The decrease in energy prices played a significant role in keeping inflation in check, as energy costs are a major component of overall consumer prices. The impact of the decrease in energy prices on inflation was evident in the consumer price index, which increased by only 0.1% in November. The decline in energy prices also contributed to the core consumer price index, which excludes volatile food and energy prices, increasing by 0.3% on the month. Overall, the decrease in energy prices helped to mitigate inflationary pressures and contributed to the stability of consumer prices.\",\n",
        "              \"Consumer Price Index Increase in November: The consumer price index (CPI) increased by 0.1% in November, according to the provided sources. This indicates a slight uptick in consumer prices during that month. The CPI measures the average change over time in the prices paid by urban consumers for a market basket of consumer goods and services. The 0.1% increase in the CPI suggests a modest rise in overall consumer prices. It is important to note that this increase is specific to the month of November and does not provide information about long-term trends in inflation. For a more comprehensive understanding of inflation, policymakers often focus on core inflation, which excludes volatile food and energy prices. The core CPI increased by 0.3% on the month, indicating a slightly higher rate of inflation when excluding these volatile components.\",\n",
        "              \"Title: Nvidia to launch slower version of its gaming chip in China to comply with U.S. export controls.\",\n",
        "              \"The news about Nvidia launching a slower version of its gaming chip in China to comply with U.S. export controls was published on an unspecified date.\",\n",
        "              \"The percentage difference in CUDA cores on the Nvidia RTX 4090D for Chinese and non-Chinese consumers is 11 fewer cores for the Chinese version\",\n",
        "              \"No, the Nvidia RTX 4090 is not explicitly mentioned as being banned in the US based on the Securities and Exchange Commission (SEC) filing. However, the export rules mentioned in the filing primarily target chips that enable AI applications, and gaming-focused processors like the Nvidia RTX 4090 are also affected as they have potential uses in artificial intelligence. Nvidia has taken steps to comply with US government export controls by launching a slower version of the chip, the Nvidia RTX 4090D, in China. The Chinese version of the chip has 11 fewer CUDA cores compared to versions sold outside of China. This modification is likely designed to ensure compliance with US export controls.\",\n",
        "              \"Nvidia benefits the most from the gaming sector of the market demand. Nvidia's RTX line of advanced gaming GPUs, including the Nvidia RTX 4090D, is designed for gaming applications. The company's CUDA architecture, which is equivalent to CPU cores, is primarily used for gaming graphics processing units (GPUs). While the export restrictions imposed by the US primarily target chips enabling AI applications, gaming-focused processors like Nvidia's RTX chips are also affected as they have potential uses in artificial intelligence. Nvidia has developed the Nvidia RTX 4090D, a slower version of its gaming chip, specifically for the Chinese market to comply with US export controls. The modification in the Chinese version of the chip includes 11 fewer CUDA cores compared to versions sold outside of China. Overall, Nvidia's gaming-focused processors, such as the Nvidia RTX 4090D, cater to the demands of the gaming sector in the market.\",\n",
        "              \"Main Topic of the News Report: Unemployment Rates among Asian Workers and Black Men in November. The overall unemployment rate declined to 3.7% in November, against a forecast of 3.9%. Asian Americans saw a 0.4 percentage-point jump in the unemployment rate to 3.5%. The unemployment rate for Black Americans held steady at 5.8%, which is the demographic with the highest jobless percentage in the U.S. The increase in unemployment among Asian workers is accompanied by a fall in participation and employment. Black Americans were hit harder by business shutdowns during the Covid-19 pandemic, with a peak unemployment rate of 16.8% in 2020. The labor market deteriorated for both Asian and Black workers in November. The overall unemployment rate declined to 3.7% in November, and the labor force participation rate ticked up to 62.8% with a surge of 532,000 workers entering the labor force.\",\n",
        "              \"The provided sources do not mention the specific date of when the news was published.\",\n",
        "              \"The news report does not provide information about the specific author or authors of the report.\",\n",
        "              \"The overall unemployment rate declined by 0.2% last month.\",\n",
        "              \"Elise Gould, senior economist at the Economic Policy Institute, told CNBC that the uptick in unemployment among Asian workers and Black men is not due to more workers entering the labor market with optimism about finding jobs. She mentioned that the increase in unemployment is accompanied by a fall in participation as well as a fall in employment. She also highlighted that the unemployment rate for Black Americans, the demographic with the highest jobless percentage in the U.S., held steady at 5.8%. Additionally, she noted that the unemployment rate for Black men age 20 or older spiked to 6.4% from October's 5.3%, while the participation rate for this cohort increased to 69.2% from 67.5%.\",\n",
        "              \"Main Topic of the News: Tesla's Fourth Quarter Deliveries and Total Deliveries for 2023. Tesla reported 485,000 deliveries for the fourth quarter of 2023, bringing the total deliveries for the year to 1.8 million. The company's CEO, Elon Musk, had previously stated that the Model Y would likely be the bestselling car in terms of unit volume for the year. Tesla implemented a strategy of slashing prices in the last quarter of 2023 to cope with economic uncertainty and shifting consumer sentiment. Tesla's biggest competitor, Chinese automaker BYD, sold 3.02 million new energy vehicles in 2023. Tesla began advertising campaigns in the second half of 2023, a departure from its previous nontraditional marketing efforts. Analysts had expected Tesla to report deliveries of 477,000 for the year-ending quarter.\",\n",
        "              \"Publication Date of the News: January 2, 2024\",\n",
        "              \"Key Numbers of Tesla's Fourth-Quarter Vehicle Production and Deliveries Report for 2023: Tesla reported 485,000 deliveries for the fourth quarter of 2023, bringing the total deliveries for the year to 1.8 million. Tesla produced 476,777 Model 3 and Model Y vehicles during the quarter and reported 461,538 deliveries for these models. The company did not provide specific production or delivery numbers for the Model S or Model X, instead categorizing them as Other Models. It produced 18,212 other models and delivered 22,969 during the quarter. Note: The sources do not provide a breakdown of delivery and production numbers by individual model, so the specific numbers for the Model Y, Model S, and Model X are not available.\",\n",
        "              \"Tesla's report for 2022 does not exist in the provided sources.\",\n",
        "              \"Chinese automaker BYD sold 3.02 million new energy vehicles in 2023. Of these, 1.6 million were battery-electric passenger cars, and 1.4 million were hybrid electric models. BYD's sales figures indicate a significant presence in the new energy vehicle market, highlighting the company's commitment to sustainable transportation solutions\",\n",
        "              \"Title of the news report: Copper could skyrocket over 75% to record highs by 2025 - brace for deficits, analysts say Copper is headed for a price spurt over the next two years, as mining supply disruptions coincide with higher demand for the metal. Copper prices on the London Metal Exchange last saw an all-time record high of 10,730 per ton in March last year.\",\n",
        "              \"The news report does not provide the specific date of publication.\",\n",
        "              \"The information provided does not mention the name of the writer or author who published the news report.\",\n",
        "              \"The last price of copper on the London Metal Exchange was 8,559 per ton\",\n",
        "              \"According to a report by BMI, a Fitch Solutions research unit, the following factors caused copper prices to rise: Mining supply disruptions: The report highlights that mining supply disruptions have contributed to the increase in copper prices. Higher demand driven by the green energy transition: The push for renewable energy has led to a rise in demand for copper, as it is a key component in renewable energy infrastructure. The report suggests that this increased demand has played a significant role in driving up copper prices. Decline in the U.S. dollar strength: The report predicts a likely decline in the strength of the U.S. dollar in the second half of 2024. A weaker U.S. dollar makes copper, priced in greenbacks, more attractive to foreign buyers, further supporting the increase in copper prices. The report also mentions that the positive view for copper is more influenced by macro factors such as potential Fed rate cuts and a weaker U.S. dollar.\",\n",
        "              \"Food Type: Chicken dish. The recipe calls for boneless chicken breasts, which are cut into bite-size pieces and cooked with olive oil.\",\n",
        "              \"There is no information available in the provided sources about who submitted the recipe.\",\n",
        "              \"Number of chicken breasts needed: The recipe calls for 2 lbs of boneless chicken breasts, cut into bite-size pieces.\",\n",
        "              \"Yes, the recipe calls for 1-2 tablespoons of olive oil to be used in cooking the chicken breasts.\",\n",
        "              \"The provided sources do not mention the amount of water needed in the recipe. Therefore, we cannot determine the exact amount of water required based on the given information. Please note that the sources provided do not mention the specific details about the amount of water needed in the recipe. It is possible that the recipe does not require water or that the amount of water needed is not mentioned in the sources provided. To find the exact amount of water needed, it would be helpful to refer to other sources or recipe variations that provide this information.\",\n",
        "              \"The recipe does not specify the kind of food that will come out of it.\",\n",
        "              \"The recipe does not provide information about who submitted it.\",\n",
        "              \"The provided sources do not mention the specific amount of baking powder needed in this recipe.\",\n",
        "              \"The provided sources do not mention anything about using eggs in the recipe. Therefore, we cannot determine what to do with the egg based on the given information.\",\n",
        "              \"After pouring a small amount of batter into the pan and spreading it out, we need to wait for bubbles to appear on the surface and begin to break. This is the indication that it is time to turn over and cook the other side of the pancakes.\",\n",
        "              \"Chicken Lazon is a dish that can be made using the provided recipe. It is a savory chicken dish with a creamy sauce. The chicken breasts are seasoned with a mixture of salt, chili powder, onion powder, and garlic powder. The chicken is then cooked in butter until it is cooked through and golden brown on the outside. After the chicken is cooked, heavy cream is added to the skillet and simmered until the sauce thickens. The remaining butter is then added to the sauce. Finally, the chicken breasts are plated and topped with the creamy sauce\",\n",
        "              \"Luby Luby Luby is the name provided as the submitter of the Chicken Lazon recipe\",\n",
        "              \"Chicken Lazon recipe requires 4 whole boneless skinless chicken breasts\",\n",
        "              \"Unable to answer as PDF/webpage could not be processed. Please wait for some time or try on a different PDF/webpage.\",\n",
        "              \"After cooking the chicken over medium heat for about 7-8 minutes and turning it once, you should check the internal temperature of the chicken to ensure it is cooked through. The internal temperature should reach 165°F (74°C) to ensure it is safe to eat. If the chicken has reached the desired temperature, you can remove it from the heat and let it rest for a few minutes before serving.\",\n",
        "              \"Fried Rice is the kind of food that will come out of this recipe. It is a dish made with cooked rice, lean boneless pork or chicken, chopped vegetables such as carrots, peas, onions, green onions, and bean sprouts, and flavored with soy sauce and sesame oil. The recipe involves stir-frying the onions, cooking the egg mixture, stir-frying the meat and vegetables, adding the rice, green onions, and bean sprouts, and finally adding the chopped egg and soy sauce to the rice mixture. The dish is then stir-fried for a minute more before serving. Additional soy sauce can be added at the table if desired\",\n",
        "              \"The recipe does not mention who submitted it.\",\n",
        "              \"Soy Sauce and Sesame Oil Quantities: The recipe calls for 3 drops of soy sauce and 3 drops of sesame oil in the egg mixture. Additionally, 2 tablespoons of light soy sauce are added to the rice mixture. Please note that the provided sources do not specify the exact quantities of soy sauce and sesame oil needed for the entire recipe. The recipe suggests using more soy sauce if desired, so the amount can be adjusted according to personal preference.\",\n",
        "              \"Soy Sauce and Sesame Oil Quantities: The recipe calls for 3 drops of soy sauce and 3 drops of sesame oil in the egg mixture.\",\n",
        "              \"Ingredients to add after pouring carrots, peas, and cooked onion: Rice: Add 4 cups of cold cooked rice, grains separated (preferably medium grain). Green onions: Add 4 green onions, chopped. Bean sprouts: Add 2 cups of bean sprouts. Light soy sauce: Add 2 tablespoons of light soy sauce (add more if desired). Note: The provided recipe is for making fried rice. After pouring carrots, peas, and cooked onion, you need to add rice, green onions, bean sprouts, and light soy sauce to the mixture.\",\n",
        "              \"Soft Chocolate Chip Cookies are the kind of food that will come out of this recipe.\",\n",
        "              \"The recipe submitter is not mentioned in the provided sources.\",\n",
        "              \"The recipe for Soft Chocolate Chip Cookies does not specify the exact number of eggs required. The provided sources do not mention the specific quantity of eggs needed for this recipe\",\n",
        "              \"The recipe for Soft Chocolate Chip Cookies does require flour, but the exact quantity is not mentioned in the provided sources.\",\n",
        "              \"The provided sources do not mention the specific temperature required for pre-heating the oven for the Soft Chocolate Chip Cookies recipe.\"]"
      ],
      "metadata": {
        "id": "9_1zwqUMQmce"
      },
      "execution_count": 147,
      "outputs": []
    },
    {
      "cell_type": "code",
      "source": [
        "# ROUGE : RAG x Ground Truth\n",
        "# versi hunggingface (terbaru) = nilai ROUGE adalah nilai f1-score, dan tidak menampilkan precison & recall\n",
        "import evaluate\n",
        "rouge = evaluate.load(\"rouge\")\n",
        "results = rouge.compute(predictions=predictions_rag, references=references)\n",
        "print(results)"
      ],
      "metadata": {
        "id": "2nXIniEeR5ne",
        "colab": {
          "base_uri": "https://localhost:8080/"
        },
        "outputId": "5f8b2afa-8223-4446-ba9a-b14d00347417"
      },
      "execution_count": 148,
      "outputs": [
        {
          "output_type": "stream",
          "name": "stdout",
          "text": [
            "{'rouge1': 0.40063166530711325, 'rouge2': 0.28604627681442807, 'rougeL': 0.38840433503665533, 'rougeLsum': 0.3887688793451478}\n"
          ]
        }
      ]
    },
    {
      "cell_type": "code",
      "source": [
        "# ROUGE : RAG x Ground Truth\n",
        "# versi ROUGE sebelumnya (paper) yang menampilkan precision, recall, dan f1-score\n",
        "from rouge import Rouge\n",
        "rouge = Rouge()\n",
        "rouge.get_scores(references, predictions_rag, avg=True)"
      ],
      "metadata": {
        "id": "ZJdrXs2zR5qW",
        "colab": {
          "base_uri": "https://localhost:8080/"
        },
        "outputId": "10a257d6-f877-4c9b-d8fd-d526e80f0d7d"
      },
      "execution_count": 149,
      "outputs": [
        {
          "output_type": "execute_result",
          "data": {
            "text/plain": [
              "{'rouge-1': {'r': 0.24511598699588732,\n",
              "  'p': 0.7481497881203764,\n",
              "  'f': 0.34403147514542615},\n",
              " 'rouge-2': {'r': 0.15484524982082315,\n",
              "  'p': 0.5584118043791956,\n",
              "  'f': 0.22028305861759584},\n",
              " 'rouge-l': {'r': 0.23938961173115877,\n",
              "  'p': 0.736812789334848,\n",
              "  'f': 0.3365520491378076}}"
            ]
          },
          "metadata": {},
          "execution_count": 149
        }
      ]
    },
    {
      "cell_type": "code",
      "source": [
        "# ROUGE : Other x Ground Truth\n",
        "# versi hunggingface (terbaru) = nilai ROUGE adalah nilai f1-score, dan tidak menampilkan precison & recall\n",
        "import evaluate\n",
        "rouge = evaluate.load(\"rouge\")\n",
        "results = rouge.compute(predictions=predictions_other, references=references)\n",
        "print(results)"
      ],
      "metadata": {
        "id": "uiqcWgYeR5ub",
        "colab": {
          "base_uri": "https://localhost:8080/"
        },
        "outputId": "0106ff2d-95f1-47b6-9c37-81145c485e8b"
      },
      "execution_count": 150,
      "outputs": [
        {
          "output_type": "stream",
          "name": "stdout",
          "text": [
            "{'rouge1': 0.16550290087714636, 'rouge2': 0.1120489225305418, 'rougeL': 0.15776595691240203, 'rougeLsum': 0.15784174436503723}\n"
          ]
        }
      ]
    },
    {
      "cell_type": "code",
      "source": [
        "# ROUGE : Other x Ground Truth\n",
        "# versi ROUGE sebelumnya (paper) yang menampilkan precision, recall, dan f1-score\n",
        "from rouge import Rouge\n",
        "rouge = Rouge()\n",
        "rouge.get_scores(references, predictions_other, avg=True)"
      ],
      "metadata": {
        "id": "zTe_kqngR5xu",
        "colab": {
          "base_uri": "https://localhost:8080/"
        },
        "outputId": "3f70c666-0c88-4987-a942-415023d40945"
      },
      "execution_count": 151,
      "outputs": [
        {
          "output_type": "execute_result",
          "data": {
            "text/plain": [
              "{'rouge-1': {'r': 0.10852209984859851,\n",
              "  'p': 0.512605914483998,\n",
              "  'f': 0.15694465565972304},\n",
              " 'rouge-2': {'r': 0.06616408553788423,\n",
              "  'p': 0.3395560966810967,\n",
              "  'f': 0.09396709328326397},\n",
              " 'rouge-l': {'r': 0.10520058079743044,\n",
              "  'p': 0.499800013237869,\n",
              "  'f': 0.1521819076576461}}"
            ]
          },
          "metadata": {},
          "execution_count": 151
        }
      ]
    }
  ]
}